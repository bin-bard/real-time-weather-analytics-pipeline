{
 "cells": [
  {
   "cell_type": "code",
   "execution_count": 2,
   "id": "89359073-7c16-4d8e-8207-ae9c44dca9f0",
   "metadata": {},
   "outputs": [
    {
     "name": "stderr",
     "output_type": "stream",
     "text": [
      "25/05/24 15:13:25 WARN Utils: Your hostname, LAPTOP-PMSG8QVF resolves to a loopback address: 127.0.1.1; using 10.255.255.254 instead (on interface lo)\n",
      "25/05/24 15:13:25 WARN Utils: Set SPARK_LOCAL_IP if you need to bind to another address\n"
     ]
    },
    {
     "name": "stdout",
     "output_type": "stream",
     "text": [
      ":: loading settings :: url = jar:file:/opt/spark/jars/ivy-2.5.1.jar!/org/apache/ivy/core/settings/ivysettings.xml\n"
     ]
    },
    {
     "name": "stderr",
     "output_type": "stream",
     "text": [
      "Ivy Default Cache set to: /home/pc/.ivy2/cache\n",
      "The jars for the packages stored in: /home/pc/.ivy2/jars\n",
      "io.delta#delta-spark_2.12 added as a dependency\n",
      ":: resolving dependencies :: org.apache.spark#spark-submit-parent-2647d065-8bb2-4aa6-a2fe-13456c80364a;1.0\n",
      "\tconfs: [default]\n",
      "\tfound io.delta#delta-spark_2.12;3.3.1 in central\n",
      "\tfound io.delta#delta-storage;3.3.1 in central\n",
      "\tfound org.antlr#antlr4-runtime;4.9.3 in central\n",
      ":: resolution report :: resolve 171ms :: artifacts dl 7ms\n",
      "\t:: modules in use:\n",
      "\tio.delta#delta-spark_2.12;3.3.1 from central in [default]\n",
      "\tio.delta#delta-storage;3.3.1 from central in [default]\n",
      "\torg.antlr#antlr4-runtime;4.9.3 from central in [default]\n",
      "\t---------------------------------------------------------------------\n",
      "\t|                  |            modules            ||   artifacts   |\n",
      "\t|       conf       | number| search|dwnlded|evicted|| number|dwnlded|\n",
      "\t---------------------------------------------------------------------\n",
      "\t|      default     |   3   |   0   |   0   |   0   ||   3   |   0   |\n",
      "\t---------------------------------------------------------------------\n",
      ":: retrieving :: org.apache.spark#spark-submit-parent-2647d065-8bb2-4aa6-a2fe-13456c80364a\n",
      "\tconfs: [default]\n",
      "\t0 artifacts copied, 3 already retrieved (0kB/5ms)\n",
      "25/05/24 15:13:26 WARN NativeCodeLoader: Unable to load native-hadoop library for your platform... using builtin-java classes where applicable\n",
      "Setting default log level to \"WARN\".\n",
      "To adjust logging level use sc.setLogLevel(newLevel). For SparkR, use setLogLevel(newLevel).\n",
      "25/05/24 15:13:27 WARN Utils: Service 'SparkUI' could not bind on port 4040. Attempting port 4041.\n",
      "25/05/24 15:13:27 WARN Utils: Service 'SparkUI' could not bind on port 4041. Attempting port 4042.\n",
      "25/05/24 15:13:27 WARN Utils: Service 'SparkUI' could not bind on port 4042. Attempting port 4043.\n",
      "25/05/24 15:13:27 WARN Utils: Service 'SparkUI' could not bind on port 4043. Attempting port 4044.\n"
     ]
    }
   ],
   "source": [
    "from pyspark.sql import SparkSession\n",
    "from delta import configure_spark_with_delta_pip\n",
    "\n",
    "# Tạo SparkSession có hỗ trợ Delta Lake\n",
    "builder = SparkSession.builder \\\n",
    "    .appName(\"QueryDeltaHistory\") \\\n",
    "    .master(\"local[*]\") \\\n",
    "    .config(\"spark.sql.extensions\", \"io.delta.sql.DeltaSparkSessionExtension\") \\\n",
    "    .config(\"spark.sql.catalog.spark_catalog\", \"org.apache.spark.sql.delta.catalog.DeltaCatalog\")\n",
    "\n",
    "spark = configure_spark_with_delta_pip(builder).getOrCreate()\n"
   ]
  },
  {
   "cell_type": "code",
   "execution_count": 3,
   "id": "f17c5956-6b13-4f24-a448-e6e59e18bedc",
   "metadata": {},
   "outputs": [
    {
     "name": "stderr",
     "output_type": "stream",
     "text": [
      "25/05/24 15:13:33 WARN SparkStringUtils: Truncated the string representation of a plan since it was too large. This behavior can be adjusted by setting 'spark.sql.debug.maxToStringFields'.\n",
      "[Stage 3:>                                                          (0 + 1) / 1]"
     ]
    },
    {
     "name": "stdout",
     "output_type": "stream",
     "text": [
      "+----+-----+----------+\n",
      "|year|month|rainy_days|\n",
      "+----+-----+----------+\n",
      "|2019|    9|       160|\n",
      "|2019|    8|       147|\n",
      "|2019|    7|       140|\n",
      "|2019|   10|       137|\n",
      "|2019|    6|       126|\n",
      "|2019|    5|       106|\n",
      "|2019|   11|        98|\n",
      "|2018|    9|        67|\n",
      "|2017|   10|        66|\n",
      "|2018|    8|        65|\n",
      "|2018|    6|        63|\n",
      "|2018|    7|        60|\n",
      "|2017|    5|        59|\n",
      "|2017|    8|        52|\n",
      "|2017|    9|        52|\n",
      "|2017|    6|        50|\n",
      "|2017|    7|        47|\n",
      "|2018|   10|        44|\n",
      "|2018|    5|        43|\n",
      "|2019|    4|        38|\n",
      "+----+-----+----------+\n",
      "only showing top 20 rows\n",
      "\n"
     ]
    },
    {
     "name": "stderr",
     "output_type": "stream",
     "text": [
      "                                                                                "
     ]
    }
   ],
   "source": [
    "df_v1 = spark.read.format(\"delta\") \\\n",
    "    .option(\"versionAsOf\", 1) \\\n",
    "    .load(\"hdfs://localhost:9000/user/minhhieu/delta/gold/weather_features\")\n",
    "\n",
    "df_v1.createOrReplaceTempView(\"weather_v1\")\n",
    "\n",
    "spark.sql(\"\"\"\n",
    "    SELECT year, month, COUNT(*) AS rainy_days\n",
    "    FROM weather_v1\n",
    "    WHERE LOWER(weather) LIKE '%rain%'\n",
    "    GROUP BY year, month\n",
    "    ORDER BY rainy_days DESC\n",
    "\"\"\").show()\n"
   ]
  },
  {
   "cell_type": "code",
   "execution_count": 4,
   "id": "bc65e040-e2e9-41f9-88f6-3c4c34cbe36c",
   "metadata": {},
   "outputs": [
    {
     "name": "stdout",
     "output_type": "stream",
     "text": [
      "+----+-----+--------+\n",
      "|year|month|hot_days|\n",
      "+----+-----+--------+\n",
      "|2017|    3|       4|\n",
      "|2017|    4|      16|\n",
      "|2018|    2|       4|\n",
      "|2018|    3|      15|\n",
      "|2018|    4|      17|\n",
      "|2018|    5|       6|\n",
      "|2019|    1|       3|\n",
      "|2019|    2|       6|\n",
      "|2019|    3|      35|\n",
      "|2019|    4|      39|\n",
      "|2019|    5|      20|\n",
      "|2019|    6|       4|\n",
      "+----+-----+--------+\n",
      "\n"
     ]
    }
   ],
   "source": [
    "# Đọc version 0\n",
    "df_v0 = spark.read.format(\"delta\") \\\n",
    "    .option(\"versionAsOf\", 0) \\\n",
    "    .load(\"hdfs://localhost:9000/user/minhhieu/delta/gold/weather_features\")\n",
    "\n",
    "# Tạo view tạm để dùng SQL\n",
    "df_v0.createOrReplaceTempView(\"weather_v0\")\n",
    "\n",
    "# Truy vấn\n",
    "spark.sql(\"\"\"\n",
    "    SELECT year, month, COUNT(*) AS hot_days\n",
    "    FROM weather_v0\n",
    "    WHERE temperature > 35\n",
    "    GROUP BY year, month\n",
    "    ORDER BY year, month\n",
    "\"\"\").show()\n"
   ]
  },
  {
   "cell_type": "code",
   "execution_count": null,
   "id": "fddea623-729e-4a65-ab66-c10401943499",
   "metadata": {},
   "outputs": [],
   "source": []
  }
 ],
 "metadata": {
  "kernelspec": {
   "display_name": "Python 3 (ipykernel)",
   "language": "python",
   "name": "python3"
  },
  "language_info": {
   "codemirror_mode": {
    "name": "ipython",
    "version": 3
   },
   "file_extension": ".py",
   "mimetype": "text/x-python",
   "name": "python",
   "nbconvert_exporter": "python",
   "pygments_lexer": "ipython3",
   "version": "3.12.3"
  }
 },
 "nbformat": 4,
 "nbformat_minor": 5
}
