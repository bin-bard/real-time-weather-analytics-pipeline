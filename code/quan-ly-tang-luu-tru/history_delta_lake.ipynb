{
 "cells": [
  {
   "cell_type": "code",
   "execution_count": 2,
   "id": "3534d5b8-57f3-4b83-bcb8-927f36714e58",
   "metadata": {},
   "outputs": [
    {
     "name": "stderr",
     "output_type": "stream",
     "text": [
      "25/05/24 15:05:17 WARN Utils: Your hostname, LAPTOP-PMSG8QVF resolves to a loopback address: 127.0.1.1; using 10.255.255.254 instead (on interface lo)\n",
      "25/05/24 15:05:17 WARN Utils: Set SPARK_LOCAL_IP if you need to bind to another address\n"
     ]
    },
    {
     "name": "stdout",
     "output_type": "stream",
     "text": [
      ":: loading settings :: url = jar:file:/opt/spark/jars/ivy-2.5.1.jar!/org/apache/ivy/core/settings/ivysettings.xml\n"
     ]
    },
    {
     "name": "stderr",
     "output_type": "stream",
     "text": [
      "Ivy Default Cache set to: /home/pc/.ivy2/cache\n",
      "The jars for the packages stored in: /home/pc/.ivy2/jars\n",
      "io.delta#delta-spark_2.12 added as a dependency\n",
      ":: resolving dependencies :: org.apache.spark#spark-submit-parent-bfd8fa66-08fe-4879-827b-50f5bebe818f;1.0\n",
      "\tconfs: [default]\n",
      "\tfound io.delta#delta-spark_2.12;3.3.1 in central\n",
      "\tfound io.delta#delta-storage;3.3.1 in central\n",
      "\tfound org.antlr#antlr4-runtime;4.9.3 in central\n",
      ":: resolution report :: resolve 135ms :: artifacts dl 6ms\n",
      "\t:: modules in use:\n",
      "\tio.delta#delta-spark_2.12;3.3.1 from central in [default]\n",
      "\tio.delta#delta-storage;3.3.1 from central in [default]\n",
      "\torg.antlr#antlr4-runtime;4.9.3 from central in [default]\n",
      "\t---------------------------------------------------------------------\n",
      "\t|                  |            modules            ||   artifacts   |\n",
      "\t|       conf       | number| search|dwnlded|evicted|| number|dwnlded|\n",
      "\t---------------------------------------------------------------------\n",
      "\t|      default     |   3   |   0   |   0   |   0   ||   3   |   0   |\n",
      "\t---------------------------------------------------------------------\n",
      ":: retrieving :: org.apache.spark#spark-submit-parent-bfd8fa66-08fe-4879-827b-50f5bebe818f\n",
      "\tconfs: [default]\n",
      "\t0 artifacts copied, 3 already retrieved (0kB/5ms)\n",
      "25/05/24 15:05:18 WARN NativeCodeLoader: Unable to load native-hadoop library for your platform... using builtin-java classes where applicable\n",
      "Setting default log level to \"WARN\".\n",
      "To adjust logging level use sc.setLogLevel(newLevel). For SparkR, use setLogLevel(newLevel).\n",
      "25/05/24 15:05:19 WARN Utils: Service 'SparkUI' could not bind on port 4040. Attempting port 4041.\n",
      "25/05/24 15:05:19 WARN Utils: Service 'SparkUI' could not bind on port 4041. Attempting port 4042.\n",
      "25/05/24 15:05:19 WARN Utils: Service 'SparkUI' could not bind on port 4042. Attempting port 4043.\n"
     ]
    }
   ],
   "source": [
    "from pyspark.sql import SparkSession\n",
    "from delta import configure_spark_with_delta_pip\n",
    "\n",
    "# Khởi tạo SparkSession với hỗ trợ Delta Lake\n",
    "builder = SparkSession.builder \\\n",
    "    .appName(\"DeltaHistoryViewer\") \\\n",
    "    .master(\"local[*]\") \\\n",
    "    .config(\"spark.sql.extensions\", \"io.delta.sql.DeltaSparkSessionExtension\") \\\n",
    "    .config(\"spark.sql.catalog.spark_catalog\", \"org.apache.spark.sql.delta.catalog.DeltaCatalog\")\n",
    "\n",
    "spark = configure_spark_with_delta_pip(builder).getOrCreate()\n"
   ]
  },
  {
   "cell_type": "code",
   "execution_count": 6,
   "id": "907d6186-95ea-4f9c-9164-7e910708fa9e",
   "metadata": {},
   "outputs": [
    {
     "name": "stdout",
     "output_type": "stream",
     "text": [
      "\n",
      "📁 Lịch sử của Delta Table: hdfs://localhost:9000/user/minhhieu/delta/bronze/from_api\n",
      "+-------+-----------------------+----------------+--------------------------------------------------------------------------------------+------------+\n",
      "|version|timestamp              |operation       |operationMetrics                                                                      |userMetadata|\n",
      "+-------+-----------------------+----------------+--------------------------------------------------------------------------------------+------------+\n",
      "|526    |2025-05-24 14:36:04.401|STREAMING UPDATE|{numRemovedFiles -> 0, numOutputRows -> 2, numOutputBytes -> 4271, numAddedFiles -> 1}|NULL        |\n",
      "|525    |2025-05-24 14:36:03.964|STREAMING UPDATE|{numRemovedFiles -> 0, numOutputRows -> 2, numOutputBytes -> 4271, numAddedFiles -> 1}|NULL        |\n",
      "|524    |2025-05-24 14:36:03.512|STREAMING UPDATE|{numRemovedFiles -> 0, numOutputRows -> 2, numOutputBytes -> 4271, numAddedFiles -> 1}|NULL        |\n",
      "|523    |2025-05-24 14:36:03.081|STREAMING UPDATE|{numRemovedFiles -> 0, numOutputRows -> 2, numOutputBytes -> 4271, numAddedFiles -> 1}|NULL        |\n",
      "|522    |2025-05-24 14:36:02.639|STREAMING UPDATE|{numRemovedFiles -> 0, numOutputRows -> 3, numOutputBytes -> 4271, numAddedFiles -> 1}|NULL        |\n",
      "|521    |2025-05-24 14:36:02.212|STREAMING UPDATE|{numRemovedFiles -> 0, numOutputRows -> 3, numOutputBytes -> 4271, numAddedFiles -> 1}|NULL        |\n",
      "|520    |2025-05-24 14:36:02.166|STREAMING UPDATE|{numRemovedFiles -> 0, numOutputRows -> 2, numOutputBytes -> 4271, numAddedFiles -> 1}|NULL        |\n",
      "|519    |2025-05-24 14:36:01.301|STREAMING UPDATE|{numRemovedFiles -> 0, numOutputRows -> 3, numOutputBytes -> 4271, numAddedFiles -> 1}|NULL        |\n",
      "|518    |2025-05-24 14:36:00.871|STREAMING UPDATE|{numRemovedFiles -> 0, numOutputRows -> 2, numOutputBytes -> 4271, numAddedFiles -> 1}|NULL        |\n",
      "|517    |2025-05-24 14:36:00.435|STREAMING UPDATE|{numRemovedFiles -> 0, numOutputRows -> 3, numOutputBytes -> 4271, numAddedFiles -> 1}|NULL        |\n",
      "|516    |2025-05-24 14:35:59.998|STREAMING UPDATE|{numRemovedFiles -> 0, numOutputRows -> 2, numOutputBytes -> 4271, numAddedFiles -> 1}|NULL        |\n",
      "|515    |2025-05-24 14:35:59.564|STREAMING UPDATE|{numRemovedFiles -> 0, numOutputRows -> 2, numOutputBytes -> 4271, numAddedFiles -> 1}|NULL        |\n",
      "|514    |2025-05-24 14:35:59.111|STREAMING UPDATE|{numRemovedFiles -> 0, numOutputRows -> 2, numOutputBytes -> 4271, numAddedFiles -> 1}|NULL        |\n",
      "|513    |2025-05-24 14:35:58.679|STREAMING UPDATE|{numRemovedFiles -> 0, numOutputRows -> 3, numOutputBytes -> 4271, numAddedFiles -> 1}|NULL        |\n",
      "|512    |2025-05-24 14:35:58.243|STREAMING UPDATE|{numRemovedFiles -> 0, numOutputRows -> 3, numOutputBytes -> 4271, numAddedFiles -> 1}|NULL        |\n",
      "|511    |2025-05-24 14:35:57.811|STREAMING UPDATE|{numRemovedFiles -> 0, numOutputRows -> 3, numOutputBytes -> 4271, numAddedFiles -> 1}|NULL        |\n",
      "|510    |2025-05-24 14:35:57.36 |STREAMING UPDATE|{numRemovedFiles -> 0, numOutputRows -> 2, numOutputBytes -> 4271, numAddedFiles -> 1}|NULL        |\n",
      "|509    |2025-05-24 14:35:56.482|STREAMING UPDATE|{numRemovedFiles -> 0, numOutputRows -> 1, numOutputBytes -> 3802, numAddedFiles -> 1}|NULL        |\n",
      "|508    |2025-05-24 14:35:56.036|STREAMING UPDATE|{numRemovedFiles -> 0, numOutputRows -> 2, numOutputBytes -> 4271, numAddedFiles -> 1}|NULL        |\n",
      "|507    |2025-05-24 14:35:55.584|STREAMING UPDATE|{numRemovedFiles -> 0, numOutputRows -> 2, numOutputBytes -> 4271, numAddedFiles -> 1}|NULL        |\n",
      "+-------+-----------------------+----------------+--------------------------------------------------------------------------------------+------------+\n",
      "only showing top 20 rows\n",
      "\n",
      "\n",
      "📁 Lịch sử của Delta Table: hdfs://localhost:9000/user/minhhieu/delta/bronze/from_csv\n",
      "+-------+-----------------------+---------+---------------------------------------------------------------+------------+\n",
      "|version|timestamp              |operation|operationMetrics                                               |userMetadata|\n",
      "+-------+-----------------------+---------+---------------------------------------------------------------+------------+\n",
      "|0      |2025-05-24 14:45:44.741|WRITE    |{numFiles -> 1, numOutputRows -> 8512, numOutputBytes -> 50112}|NULL        |\n",
      "+-------+-----------------------+---------+---------------------------------------------------------------+------------+\n",
      "\n",
      "\n",
      "📁 Lịch sử của Delta Table: hdfs://localhost:9000/user/minhhieu/delta/silver/merged_weather\n",
      "+-------+-----------------------+---------+-----------------------------------------------------------------+------------+\n",
      "|version|timestamp              |operation|operationMetrics                                                 |userMetadata|\n",
      "+-------+-----------------------+---------+-----------------------------------------------------------------+------------+\n",
      "|0      |2025-05-24 14:55:02.949|WRITE    |{numFiles -> 18, numOutputRows -> 9775, numOutputBytes -> 123938}|NULL        |\n",
      "+-------+-----------------------+---------+-----------------------------------------------------------------+------------+\n",
      "\n",
      "\n",
      "📁 Lịch sử của Delta Table: hdfs://localhost:9000/user/minhhieu/delta/gold/weather_features\n",
      "+-------+-----------------------+---------+----------------------------------------------------------------+------------+\n",
      "|version|timestamp              |operation|operationMetrics                                                |userMetadata|\n",
      "+-------+-----------------------+---------+----------------------------------------------------------------+------------+\n",
      "|1      |2025-05-24 14:56:24.324|WRITE    |{numFiles -> 1, numOutputRows -> 8511, numOutputBytes -> 127333}|NULL        |\n",
      "|0      |2025-05-24 14:56:24.29 |WRITE    |{numFiles -> 1, numOutputRows -> 8512, numOutputBytes -> 129820}|NULL        |\n",
      "+-------+-----------------------+---------+----------------------------------------------------------------+------------+\n",
      "\n"
     ]
    }
   ],
   "source": [
    "from delta.tables import DeltaTable\n",
    "\n",
    "# Danh sách thư mục chứa Delta Tables\n",
    "delta_paths = [\n",
    "    \"hdfs://localhost:9000/user/minhhieu/delta/bronze/from_api\",\n",
    "    \"hdfs://localhost:9000/user/minhhieu/delta/bronze/from_csv\",\n",
    "    \"hdfs://localhost:9000/user/minhhieu/delta/silver/merged_weather\",\n",
    "    \"hdfs://localhost:9000/user/minhhieu/delta/gold/weather_features\"\n",
    "]\n",
    "\n",
    "# Duyệt qua từng bảng và in lịch sử Delta log\n",
    "for path in delta_paths:\n",
    "    try:\n",
    "        print(f\"\\n📁 Lịch sử của Delta Table: {path}\")\n",
    "        delta_table = DeltaTable.forPath(spark, path)\n",
    "        history_df = delta_table.history()  # Mặc định là 30 phiên bản gần nhất\n",
    "        history_df.select(\"version\", \"timestamp\", \"operation\", \"operationMetrics\", \"userMetadata\").show(truncate=False)\n",
    "    except Exception as e:\n",
    "        print(f\"⚠️ Không thể đọc lịch sử Delta Table tại: {path}\")\n",
    "        print(\"Lý do:\", str(e))\n"
   ]
  },
  {
   "cell_type": "code",
   "execution_count": 5,
   "id": "5c84b999-506d-43d8-be46-415ed71b8f43",
   "metadata": {},
   "outputs": [
    {
     "name": "stderr",
     "output_type": "stream",
     "text": [
      "25/05/24 15:09:58 WARN SparkStringUtils: Truncated the string representation of a plan since it was too large. This behavior can be adjusted by setting 'spark.sql.debug.maxToStringFields'.\n",
      "                                                                                "
     ]
    }
   ],
   "source": [
    "delta_path = \"hdfs://localhost:9000/user/minhhieu/delta/gold/weather_features\"\n",
    "df_old = spark.read.format(\"delta\").option(\"versionAsOf\", 0).load(delta_path)\n",
    "df_old.write.format(\"delta\").mode(\"overwrite\").save(\"hdfs://localhost:9000/user/minhhieu/delta/gold/weather_features_v0\")\n"
   ]
  },
  {
   "cell_type": "code",
   "execution_count": 6,
   "id": "0563bd44-63de-45e5-8da8-a41dbb0502bf",
   "metadata": {},
   "outputs": [
    {
     "name": "stdout",
     "output_type": "stream",
     "text": [
      "+-------+-----------------------+----------------+--------------------------------------------------------------------------------------+\n",
      "|version|timestamp              |operation       |operationMetrics                                                                      |\n",
      "+-------+-----------------------+----------------+--------------------------------------------------------------------------------------+\n",
      "|530    |2025-05-25 02:30:21.857|WRITE           |{numFiles -> 2, numOutputRows -> 1, numOutputBytes -> 5265}                           |\n",
      "|529    |2025-05-25 02:30:21.201|WRITE           |{numFiles -> 2, numOutputRows -> 1, numOutputBytes -> 5265}                           |\n",
      "|528    |2025-05-25 02:30:20.312|WRITE           |{numFiles -> 2, numOutputRows -> 1, numOutputBytes -> 5265}                           |\n",
      "|527    |2025-05-25 02:30:16.375|WRITE           |{numFiles -> 2, numOutputRows -> 1, numOutputBytes -> 5265}                           |\n",
      "|526    |2025-05-25 02:24:26.78 |STREAMING UPDATE|{numRemovedFiles -> 0, numOutputRows -> 2, numOutputBytes -> 4271, numAddedFiles -> 1}|\n",
      "|525    |2025-05-25 02:24:26.362|STREAMING UPDATE|{numRemovedFiles -> 0, numOutputRows -> 2, numOutputBytes -> 4271, numAddedFiles -> 1}|\n",
      "|524    |2025-05-25 02:24:25.934|STREAMING UPDATE|{numRemovedFiles -> 0, numOutputRows -> 2, numOutputBytes -> 4271, numAddedFiles -> 1}|\n",
      "|523    |2025-05-25 02:24:25.495|STREAMING UPDATE|{numRemovedFiles -> 0, numOutputRows -> 2, numOutputBytes -> 4271, numAddedFiles -> 1}|\n",
      "|522    |2025-05-25 02:24:25.079|STREAMING UPDATE|{numRemovedFiles -> 0, numOutputRows -> 3, numOutputBytes -> 4271, numAddedFiles -> 1}|\n",
      "|521    |2025-05-25 02:24:24.638|STREAMING UPDATE|{numRemovedFiles -> 0, numOutputRows -> 3, numOutputBytes -> 4271, numAddedFiles -> 1}|\n",
      "|520    |2025-05-25 02:24:24.216|STREAMING UPDATE|{numRemovedFiles -> 0, numOutputRows -> 2, numOutputBytes -> 4271, numAddedFiles -> 1}|\n",
      "|519    |2025-05-25 02:24:23.371|STREAMING UPDATE|{numRemovedFiles -> 0, numOutputRows -> 3, numOutputBytes -> 4271, numAddedFiles -> 1}|\n",
      "|518    |2025-05-25 02:24:22.944|STREAMING UPDATE|{numRemovedFiles -> 0, numOutputRows -> 2, numOutputBytes -> 4271, numAddedFiles -> 1}|\n",
      "|517    |2025-05-25 02:24:22.524|STREAMING UPDATE|{numRemovedFiles -> 0, numOutputRows -> 3, numOutputBytes -> 4271, numAddedFiles -> 1}|\n",
      "|516    |2025-05-25 02:24:22.097|STREAMING UPDATE|{numRemovedFiles -> 0, numOutputRows -> 2, numOutputBytes -> 4271, numAddedFiles -> 1}|\n",
      "|515    |2025-05-25 02:24:21.68 |STREAMING UPDATE|{numRemovedFiles -> 0, numOutputRows -> 2, numOutputBytes -> 4271, numAddedFiles -> 1}|\n",
      "|514    |2025-05-25 02:24:21.259|STREAMING UPDATE|{numRemovedFiles -> 0, numOutputRows -> 2, numOutputBytes -> 4271, numAddedFiles -> 1}|\n",
      "|513    |2025-05-25 02:24:20.832|STREAMING UPDATE|{numRemovedFiles -> 0, numOutputRows -> 3, numOutputBytes -> 4271, numAddedFiles -> 1}|\n",
      "|512    |2025-05-25 02:24:20.405|STREAMING UPDATE|{numRemovedFiles -> 0, numOutputRows -> 3, numOutputBytes -> 4271, numAddedFiles -> 1}|\n",
      "|511    |2025-05-25 02:24:19.971|STREAMING UPDATE|{numRemovedFiles -> 0, numOutputRows -> 3, numOutputBytes -> 4271, numAddedFiles -> 1}|\n",
      "+-------+-----------------------+----------------+--------------------------------------------------------------------------------------+\n",
      "only showing top 20 rows\n",
      "\n"
     ]
    }
   ],
   "source": [
    "from pyspark.sql import SparkSession\n",
    "from delta import configure_spark_with_delta_pip\n",
    "from delta.tables import DeltaTable\n",
    "\n",
    "# Khởi tạo SparkSession\n",
    "builder = SparkSession.builder \\\n",
    "    .appName(\"DescribeDeltaHistory\") \\\n",
    "    .master(\"local[*]\") \\\n",
    "    .config(\"spark.sql.extensions\", \"io.delta.sql.DeltaSparkSessionExtension\") \\\n",
    "    .config(\"spark.sql.catalog.spark_catalog\", \"org.apache.spark.sql.delta.catalog.DeltaCatalog\")\n",
    "\n",
    "spark = configure_spark_with_delta_pip(builder).getOrCreate()\n",
    "\n",
    "# Đường dẫn Delta Table\n",
    "delta_path = \"hdfs://localhost:9000/user/minhhieu/delta/silver/merged_weather_02\"\n",
    "\n",
    "# Load bảng Delta\n",
    "delta_table = DeltaTable.forPath(spark, delta_path)\n",
    "\n",
    "# Hiển thị lịch sử ghi: operation = WRITE hoặc STREAMING UPDATE\n",
    "history_df = delta_table.history()  # mặc định trả về 30 version gần nhất\n",
    "\n",
    "# In chi tiết version, thời gian, loại ghi\n",
    "history_df.select(\"version\", \"timestamp\", \"operation\", \"operationMetrics\").show(truncate=False)\n"
   ]
  },
  {
   "cell_type": "code",
   "execution_count": 7,
   "id": "b4f94e20-b29b-4342-99db-839350a19b6d",
   "metadata": {},
   "outputs": [
    {
     "name": "stdout",
     "output_type": "stream",
     "text": [
      "+----------------+-----+\n",
      "|       operation|count|\n",
      "+----------------+-----+\n",
      "|           WRITE|    4|\n",
      "|STREAMING UPDATE|  527|\n",
      "+----------------+-----+\n",
      "\n"
     ]
    }
   ],
   "source": [
    "from pyspark.sql.functions import col\n",
    "\n",
    "# Đếm số lần mỗi loại thao tác xuất hiện\n",
    "history_df.groupBy(\"operation\").count().show()\n"
   ]
  },
  {
   "cell_type": "code",
   "execution_count": null,
   "id": "17a1f615-b2e3-4549-9de5-52a28e28dbfc",
   "metadata": {},
   "outputs": [],
   "source": []
  }
 ],
 "metadata": {
  "kernelspec": {
   "display_name": "Python 3 (ipykernel)",
   "language": "python",
   "name": "python3"
  },
  "language_info": {
   "codemirror_mode": {
    "name": "ipython",
    "version": 3
   },
   "file_extension": ".py",
   "mimetype": "text/x-python",
   "name": "python",
   "nbconvert_exporter": "python",
   "pygments_lexer": "ipython3",
   "version": "3.12.3"
  }
 },
 "nbformat": 4,
 "nbformat_minor": 5
}
