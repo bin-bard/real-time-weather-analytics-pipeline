{
 "cells": [
  {
   "cell_type": "code",
   "execution_count": 0,
   "metadata": {
    "application/vnd.databricks.v1+cell": {
     "cellMetadata": {
      "byteLimit": 2048000,
      "rowLimit": 10000
     },
     "inputWidgets": {},
     "nuid": "57ca4965-05f7-46e3-82d2-922324001e01",
     "showTitle": false,
     "tableResultSettingsMap": {},
     "title": ""
    }
   },
   "outputs": [
    {
     "output_type": "display_data",
     "data": {
      "text/html": [
       "<style scoped>\n",
       "  .table-result-container {\n",
       "    max-height: 300px;\n",
       "    overflow: auto;\n",
       "  }\n",
       "  table, th, td {\n",
       "    border: 1px solid black;\n",
       "    border-collapse: collapse;\n",
       "  }\n",
       "  th, td {\n",
       "    padding: 5px;\n",
       "  }\n",
       "  th {\n",
       "    text-align: left;\n",
       "  }\n",
       "</style><div class='table-result-container'><table class='table-result'><thead style='background-color: white'><tr><th>path</th><th>name</th><th>size</th><th>modificationTime</th></tr></thead><tbody><tr><td>dbfs:/FileStore/tables/ca.pem</td><td>ca.pem</td><td>1554</td><td>1748161257000</td></tr><tr><td>dbfs:/FileStore/tables/service.cert</td><td>service.cert</td><td>1586</td><td>1748161257000</td></tr><tr><td>dbfs:/FileStore/tables/service.key</td><td>service.key</td><td>2484</td><td>1748161257000</td></tr><tr><td>dbfs:/FileStore/tables/ssl/</td><td>ssl/</td><td>0</td><td>0</td></tr><tr><td>dbfs:/FileStore/tables/yourusers-1.zip</td><td>yourusers-1.zip</td><td>18071657</td><td>1748161251000</td></tr><tr><td>dbfs:/FileStore/tables/yourusers.zip</td><td>yourusers.zip</td><td>18071657</td><td>1748147782000</td></tr></tbody></table></div>"
      ]
     },
     "metadata": {
      "application/vnd.databricks.v1+output": {
       "addedWidgets": {},
       "aggData": [],
       "aggError": "",
       "aggOverflow": false,
       "aggSchema": [],
       "aggSeriesLimitReached": false,
       "aggType": "",
       "arguments": {},
       "columnCustomDisplayInfos": {},
       "data": [
        [
         "dbfs:/FileStore/tables/ca.pem",
         "ca.pem",
         1554,
         1748161257000
        ],
        [
         "dbfs:/FileStore/tables/service.cert",
         "service.cert",
         1586,
         1748161257000
        ],
        [
         "dbfs:/FileStore/tables/service.key",
         "service.key",
         2484,
         1748161257000
        ],
        [
         "dbfs:/FileStore/tables/ssl/",
         "ssl/",
         0,
         0
        ],
        [
         "dbfs:/FileStore/tables/yourusers-1.zip",
         "yourusers-1.zip",
         18071657,
         1748161251000
        ],
        [
         "dbfs:/FileStore/tables/yourusers.zip",
         "yourusers.zip",
         18071657,
         1748147782000
        ]
       ],
       "datasetInfos": [],
       "dbfsResultPath": null,
       "isJsonSchema": true,
       "metadata": {},
       "overflow": false,
       "plotOptions": {
        "customPlotOptions": {},
        "displayType": "table",
        "pivotAggregation": null,
        "pivotColumns": null,
        "xColumns": null,
        "yColumns": null
       },
       "removedWidgets": [],
       "schema": [
        {
         "metadata": "{}",
         "name": "path",
         "type": "\"string\""
        },
        {
         "metadata": "{}",
         "name": "name",
         "type": "\"string\""
        },
        {
         "metadata": "{}",
         "name": "size",
         "type": "\"long\""
        },
        {
         "metadata": "{}",
         "name": "modificationTime",
         "type": "\"long\""
        }
       ],
       "type": "table"
      }
     },
     "output_type": "display_data"
    }
   ],
   "source": [
    "display(dbutils.fs.ls(\"dbfs:/FileStore/tables\"))\n"
   ]
  },
  {
   "cell_type": "code",
   "execution_count": 0,
   "metadata": {
    "application/vnd.databricks.v1+cell": {
     "cellMetadata": {
      "byteLimit": 2048000,
      "rowLimit": 10000
     },
     "inputWidgets": {},
     "nuid": "4865626f-6d2f-40dd-8b9c-66b4b04bafd5",
     "showTitle": false,
     "tableResultSettingsMap": {},
     "title": ""
    }
   },
   "outputs": [
    {
     "output_type": "display_data",
     "data": {
      "text/html": [
       "<style scoped>\n",
       "  .table-result-container {\n",
       "    max-height: 300px;\n",
       "    overflow: auto;\n",
       "  }\n",
       "  table, th, td {\n",
       "    border: 1px solid black;\n",
       "    border-collapse: collapse;\n",
       "  }\n",
       "  th, td {\n",
       "    padding: 5px;\n",
       "  }\n",
       "  th {\n",
       "    text-align: left;\n",
       "  }\n",
       "</style><div class='table-result-container'><table class='table-result'><thead style='background-color: white'><tr><th>path</th><th>name</th><th>size</th><th>modificationTime</th></tr></thead><tbody><tr><td>dbfs:/FileStore/</td><td>FileStore/</td><td>0</td><td>0</td></tr><tr><td>dbfs:/databricks-datasets/</td><td>databricks-datasets/</td><td>0</td><td>0</td></tr><tr><td>dbfs:/databricks-results/</td><td>databricks-results/</td><td>0</td><td>0</td></tr><tr><td>dbfs:/local_disk0/</td><td>local_disk0/</td><td>0</td><td>0</td></tr><tr><td>dbfs:/user/</td><td>user/</td><td>0</td><td>0</td></tr></tbody></table></div>"
      ]
     },
     "metadata": {
      "application/vnd.databricks.v1+output": {
       "addedWidgets": {},
       "aggData": [],
       "aggError": "",
       "aggOverflow": false,
       "aggSchema": [],
       "aggSeriesLimitReached": false,
       "aggType": "",
       "arguments": {},
       "columnCustomDisplayInfos": {},
       "data": [
        [
         "dbfs:/FileStore/",
         "FileStore/",
         0,
         0
        ],
        [
         "dbfs:/databricks-datasets/",
         "databricks-datasets/",
         0,
         0
        ],
        [
         "dbfs:/databricks-results/",
         "databricks-results/",
         0,
         0
        ],
        [
         "dbfs:/local_disk0/",
         "local_disk0/",
         0,
         0
        ],
        [
         "dbfs:/user/",
         "user/",
         0,
         0
        ]
       ],
       "datasetInfos": [],
       "dbfsResultPath": null,
       "isJsonSchema": true,
       "metadata": {},
       "overflow": false,
       "plotOptions": {
        "customPlotOptions": {},
        "displayType": "table",
        "pivotAggregation": null,
        "pivotColumns": null,
        "xColumns": null,
        "yColumns": null
       },
       "removedWidgets": [],
       "schema": [
        {
         "metadata": "{}",
         "name": "path",
         "type": "\"string\""
        },
        {
         "metadata": "{}",
         "name": "name",
         "type": "\"string\""
        },
        {
         "metadata": "{}",
         "name": "size",
         "type": "\"long\""
        },
        {
         "metadata": "{}",
         "name": "modificationTime",
         "type": "\"long\""
        }
       ],
       "type": "table"
      }
     },
     "output_type": "display_data"
    }
   ],
   "source": [
    "display(dbutils.fs.ls(\"dbfs:/\"))"
   ]
  },
  {
   "cell_type": "code",
   "execution_count": 0,
   "metadata": {
    "application/vnd.databricks.v1+cell": {
     "cellMetadata": {
      "byteLimit": 2048000,
      "rowLimit": 10000
     },
     "inputWidgets": {},
     "nuid": "656f8fd2-e58f-4fd2-87a4-2b23dcef1635",
     "showTitle": false,
     "tableResultSettingsMap": {},
     "title": ""
    }
   },
   "outputs": [
    {
     "output_type": "stream",
     "name": "stdout",
     "output_type": "stream",
     "text": [
      "Đã giải nén các file sau:\n['yourusers']\n"
     ]
    }
   ],
   "source": [
    "import zipfile\n",
    "import os\n",
    "import shutil\n",
    "\n",
    "# Đường dẫn trên driver local (chạy trong notebook)\n",
    "local_zip_path = \"/tmp/yourusers.zip\"\n",
    "local_extract_path = \"/tmp/yourusers_extracted\"\n",
    "\n",
    "# Copy file từ DBFS về driver node\n",
    "dbutils.fs.cp(\"dbfs:/FileStore/tables/yourusers.zip\", \"file:\" + local_zip_path)\n",
    "\n",
    "# Giải nén\n",
    "with zipfile.ZipFile(local_zip_path, 'r') as zip_ref:\n",
    "    zip_ref.extractall(local_extract_path)\n",
    "\n",
    "# Kiểm tra file đã giải nén\n",
    "print(\"Đã giải nén các file sau:\")\n",
    "print(os.listdir(local_extract_path))\n"
   ]
  },
  {
   "cell_type": "code",
   "execution_count": 0,
   "metadata": {
    "application/vnd.databricks.v1+cell": {
     "cellMetadata": {
      "byteLimit": 2048000,
      "rowLimit": 10000
     },
     "inputWidgets": {},
     "nuid": "fdd0de86-aeee-40d6-9af0-705a70c2dc71",
     "showTitle": false,
     "tableResultSettingsMap": {},
     "title": ""
    }
   },
   "outputs": [],
   "source": [
    "import os\n",
    "\n",
    "local_extract_path = \"/tmp/yourusers_extracted\"\n",
    "target_dbfs_path = \"dbfs:/user/hive/warehouse/dailong0705\"\n",
    "\n",
    "for file_name in os.listdir(local_extract_path):\n",
    "    local_file_path = os.path.join(local_extract_path, file_name)\n",
    "    dbfs_file_path = f\"{target_dbfs_path}/{file_name}\"\n",
    "    \n",
    "    # Dùng recurse=True để tránh lỗi khi copy thư mục hoặc file nằm trong thư mục\n",
    "    dbutils.fs.cp(\"file:\" + local_file_path, dbfs_file_path, recurse=True)\n"
   ]
  },
  {
   "cell_type": "code",
   "execution_count": 0,
   "metadata": {
    "application/vnd.databricks.v1+cell": {
     "cellMetadata": {},
     "inputWidgets": {},
     "nuid": "43a5a0c9-305c-4d63-bfb6-7cd3cf5b2d16",
     "showTitle": false,
     "tableResultSettingsMap": {},
     "title": ""
    }
   },
   "outputs": [],
   "source": [
    "# Đưa 3 file của aiven vô thư mục"
   ]
  },
  {
   "cell_type": "code",
   "execution_count": 0,
   "metadata": {
    "application/vnd.databricks.v1+cell": {
     "cellMetadata": {
      "byteLimit": 2048000,
      "rowLimit": 10000
     },
     "inputWidgets": {},
     "nuid": "0f0ae78e-1111-4a82-9474-36f9da896daf",
     "showTitle": false,
     "tableResultSettingsMap": {},
     "title": ""
    }
   },
   "outputs": [
    {
     "output_type": "stream",
     "name": "stdout",
     "output_type": "stream",
     "text": [
      "Out[10]: True"
     ]
    }
   ],
   "source": [
    "dbutils.fs.mkdirs(\"dbfs:/FileStore/tables/ssl\")\n"
   ]
  },
  {
   "cell_type": "code",
   "execution_count": 0,
   "metadata": {
    "application/vnd.databricks.v1+cell": {
     "cellMetadata": {
      "byteLimit": 2048000,
      "rowLimit": 10000
     },
     "inputWidgets": {},
     "nuid": "f072d513-a7b4-4f38-a44a-1c3ea6f25f26",
     "showTitle": false,
     "tableResultSettingsMap": {},
     "title": ""
    }
   },
   "outputs": [
    {
     "output_type": "display_data",
     "data": {
      "text/html": [
       "<style scoped>\n",
       "  .ansiout {\n",
       "    display: block;\n",
       "    unicode-bidi: embed;\n",
       "    white-space: pre-wrap;\n",
       "    word-wrap: break-word;\n",
       "    word-break: break-all;\n",
       "    font-family: \"Menlo\", \"Monaco\", \"Consolas\", \"Ubuntu Mono\", \"Source Code Pro\", monospace;\n",
       "    font-size: 13px;\n",
       "    color: #555;\n",
       "    margin-left: 4px;\n",
       "    line-height: 19px;\n",
       "  }\n",
       "</style>"
      ]
     },
     "metadata": {
      "application/vnd.databricks.v1+output": {
       "arguments": {},
       "data": "",
       "errorSummary": "Cancelled",
       "errorTraceType": "html",
       "metadata": {},
       "type": "ipynbError"
      }
     },
     "output_type": "display_data"
    }
   ],
   "source": [
    "dbutils.fs.mv(\"dbfs:/FileStore/tables/ca.pem\", \"dbfs:/FileStore/tables/ssl/ca.pem\")\n",
    "dbutils.fs.mv(\"dbfs:/FileStore/tables/service.cert\", \"dbfs:/FileStore/tables/ssl/service.cert\")\n",
    "dbutils.fs.mv(\"dbfs:/FileStore/tables/service.key\", \"dbfs:/FileStore/tables/ssl/service.key\")\n"
   ]
  },
  {
   "cell_type": "code",
   "execution_count": 0,
   "metadata": {
    "application/vnd.databricks.v1+cell": {
     "cellMetadata": {
      "byteLimit": 2048000,
      "rowLimit": 10000
     },
     "inputWidgets": {},
     "nuid": "bbf6050a-149a-4e79-be9f-f07685f5acd4",
     "showTitle": false,
     "tableResultSettingsMap": {},
     "title": ""
    }
   },
   "outputs": [
    {
     "output_type": "stream",
     "name": "stdout",
     "output_type": "stream",
     "text": [
      "ca.pem dbfs:/FileStore/tables/ssl/ca.pem 1554\nservice.cert dbfs:/FileStore/tables/ssl/service.cert 1586\nservice.key dbfs:/FileStore/tables/ssl/service.key 2484\n"
     ]
    }
   ],
   "source": [
    "files = dbutils.fs.ls(\"dbfs:/FileStore/tables/ssl\")\n",
    "for f in files:\n",
    "    print(f.name, f.path, f.size)\n"
   ]
  },
  {
   "cell_type": "code",
   "execution_count": 0,
   "metadata": {
    "application/vnd.databricks.v1+cell": {
     "cellMetadata": {
      "byteLimit": 2048000,
      "rowLimit": 10000
     },
     "inputWidgets": {},
     "nuid": "bbdc8422-1e1c-436b-8bbd-34a8de434dc8",
     "showTitle": false,
     "tableResultSettingsMap": {},
     "title": ""
    }
   },
   "outputs": [
    {
     "output_type": "stream",
     "name": "stdout",
     "output_type": "stream",
     "text": [
      "Out[3]: [FileInfo(path='dbfs:/FileStore/tables/ssl/ca.pem', name='ca.pem', size=1554, modificationTime=1748149350000),\n FileInfo(path='dbfs:/FileStore/tables/ssl/service.cert', name='service.cert', size=1586, modificationTime=1748149350000),\n FileInfo(path='dbfs:/FileStore/tables/ssl/service.key', name='service.key', size=2484, modificationTime=1748149350000)]"
     ]
    }
   ],
   "source": [
    "dbutils.fs.ls(\"dbfs:/FileStore/tables/ssl/\")\n"
   ]
  },
  {
   "cell_type": "code",
   "execution_count": 0,
   "metadata": {
    "application/vnd.databricks.v1+cell": {
     "cellMetadata": {
      "byteLimit": 2048000,
      "rowLimit": 10000
     },
     "inputWidgets": {},
     "nuid": "dfb6c4e3-13ea-4653-b150-eed3da64e217",
     "showTitle": false,
     "tableResultSettingsMap": {},
     "title": ""
    }
   },
   "outputs": [
    {
     "output_type": "stream",
     "name": "stdout",
     "output_type": "stream",
     "text": [
      "False\n"
     ]
    }
   ],
   "source": [
    "import os\n",
    "print(os.path.exists(\"/dbfs/FileStore/tables/ssl/ca.pem\"))  # True nếu có\n"
   ]
  },
  {
   "cell_type": "code",
   "execution_count": 0,
   "metadata": {
    "application/vnd.databricks.v1+cell": {
     "cellMetadata": {
      "byteLimit": 2048000,
      "rowLimit": 10000
     },
     "inputWidgets": {},
     "nuid": "420bbd90-af7d-4668-ad2c-11b6ec119165",
     "showTitle": false,
     "tableResultSettingsMap": {},
     "title": ""
    }
   },
   "outputs": [
    {
     "output_type": "stream",
     "name": "stdout",
     "output_type": "stream",
     "text": [
      "Out[11]: True"
     ]
    }
   ],
   "source": [
    "import shutil\n",
    "\n",
    "# Copy từng file một từ DBFS về local driver node (không dùng shutil trực tiếp)\n",
    "dbutils.fs.cp(\"dbfs:/FileStore/tables/ssl/ca.pem\", \"file:/tmp/ca.pem\")\n",
    "dbutils.fs.cp(\"dbfs:/FileStore/tables/ssl/service.cert\", \"file:/tmp/service.cert\")\n",
    "dbutils.fs.cp(\"dbfs:/FileStore/tables/ssl/service.key\", \"file:/tmp/service.key\")\n"
   ]
  },
  {
   "cell_type": "code",
   "execution_count": 0,
   "metadata": {
    "application/vnd.databricks.v1+cell": {
     "cellMetadata": {
      "byteLimit": 2048000,
      "rowLimit": 10000
     },
     "inputWidgets": {},
     "nuid": "bcd0d9e8-6d9d-48e6-861a-9e4f45ece6a3",
     "showTitle": false,
     "tableResultSettingsMap": {},
     "title": ""
    }
   },
   "outputs": [
    {
     "output_type": "stream",
     "name": "stdout",
     "output_type": "stream",
     "text": [
      "True\nTrue\nTrue\n"
     ]
    }
   ],
   "source": [
    "import os\n",
    "print(os.path.exists(\"/tmp/ca.pem\"))  # ✅ Bây giờ sẽ là True\n",
    "print(os.path.exists(\"/tmp/service.cert\"))  # ✅ Bây giờ sẽ là True\n",
    "print(os.path.exists(\"/tmp/service.key\"))  # ✅ Bây giờ sẽ là True\n"
   ]
  },
  {
   "cell_type": "code",
   "execution_count": 0,
   "metadata": {
    "application/vnd.databricks.v1+cell": {
     "cellMetadata": {
      "byteLimit": 2048000,
      "rowLimit": 10000
     },
     "inputWidgets": {},
     "nuid": "f166d82a-cea5-46a1-a904-b49e0b776dff",
     "showTitle": false,
     "tableResultSettingsMap": {},
     "title": ""
    }
   },
   "outputs": [
    {
     "output_type": "stream",
     "name": "stdout",
     "output_type": "stream",
     "text": [
      "-----BEGIN CERTIFICATE-----\nMIIETTCCArWgAwIBAgIUJUNAXaDT8OIGSuriCSaRnil8trQwDQYJKoZIhvcNAQEM\nBQAwQDE+MDwGA1UEAww1MzM5MjQ1ZWYtMjQ5Mi00YWU5LWFjOTQtZmY0MDgwZWIx\nNjM5IEdFTiAxIFByb2plY3QgQ0EwHhcNMjUwNTI0MTUzOTI5WhcNMzUwNTIyMTUz\nOTI5WjBAMT4wPAYDVQQDDDUzMzkyNDVlZi0yNDkyLTRhZTktYWM5NC1mZjQwODBl\nYjE2MzkgR0VOIDEgUHJvamVjdCBDQTCCAaIwDQYJKoZIhvcNAQEBBQADggGPADCC\nAYoCggGBAIgARdX63gmdqN5ta+eLnBwymIEnriYmauW8eH08I4UKqMNSEsAUHORO\nIwa67jgA6oQVA5RpWBTLiV9Au4uMNFn0fTW67WwgkROlYEMleoa30RlQ+zIexiOT\nQMi20ESV9yBWL8bytd8yPXCW3b/Co4LMyl643+mW/5YbL4yn9cadAtqxP4iSZWre\nqCIYpli8uvp3e8we+2zaWvtzZqYhytvpK5bNQp4ipPWyvUs4n/1wEFuSCvMA/UlQ\nz79cq2M3QuYMS2nMuNJJpw48ep6Fa3n95xLB7rbtfmn536al2is6IYeF33knEqbV\nsUQdZQaspGhBBl+bfEIq84k1K2Lrl4v5Xxe5wh7Y0ticBC1w092hKyavCXJN3q1c\njdPby+YGY7TmPL3fuwweVV6Anh2c6dMVSbvusz9xiEmcpyaYgxzG/HFQCAs8gn6g\nO3inLwZ8PT3bU1nHbsZxgPCbawQQJmfE+HRq7CdSeyVwzDSwOk3cr7XVxViaFGw7\nI1bBhgCMiwIDAQABoz8wPTAdBgNVHQ4EFgQUl59vPeizVPgDMoHompqwqi9aEeMw\nDwYDVR0TBAgwBgEB/wIBADALBgNVHQ8EBAMCAQYwDQYJKoZIhvcNAQEMBQADggGB\nAEjHxDeycMehh972FaWHql+N+kWq2Rw5ffXb7n6FH1rHMnjIH8385BhlEHsdDMHa\nW9KBHdcalBUkLBCGzO90q+JbVDWKmhPztQdi2bkN/VaT9ACmnRjO8DjwHG0GDXFB\nrhkc1e1iCJ6+S5V3zRax4QDVFTx8NHUCIWSWNp3XvJtcdDF5nOpF4YRop0Ff3hb5\nwUiv2tE1u7d1wsK9ROCCWZqDIXle5rJLwv5QAiP1rAXGP19m7hQY28urazOnoLOT\nuGSb0gCSuhXaZKsA5GySviWLdyqQ+FSQfyp29D4zK0i/O5+LKvHSMxDsMqGQxbpm\nRLznUb2q7yOAJEJMFI5mwfWsVY9i7eX0IsEB5i+tzdmI7NXYjT0AEe+/ve63uyWO\ngj+LgRy3WBVs9FBJd8E02zApzW70gzC12sNx7KVqqYutZ/AuU1XQ0X8Q/bdDueJJ\nx8OUVkIKUdJ2/VGJCmn2p1z8Lla16W/eJGfzESxt+HPiUcjZsFPIQEUyCcUtCGgE\n3w==\n-----END CERTIFICATE-----\n\n"
     ]
    }
   ],
   "source": [
    "with open(\"/tmp/ca.pem\", \"r\") as f:\n",
    "    content = f.read()\n",
    "    print(content)\n"
   ]
  },
  {
   "cell_type": "code",
   "execution_count": 0,
   "metadata": {
    "application/vnd.databricks.v1+cell": {
     "cellMetadata": {
      "byteLimit": 2048000,
      "rowLimit": 10000
     },
     "inputWidgets": {},
     "nuid": "5bfda964-6f3b-4c50-9d25-6079d7c29388",
     "showTitle": false,
     "tableResultSettingsMap": {},
     "title": ""
    }
   },
   "outputs": [
    {
     "output_type": "stream",
     "name": "stdout",
     "output_type": "stream",
     "text": [
      "Certificate was added to keystore\r\n"
     ]
    }
   ],
   "source": [
    "# !keytool -import -alias CARoot -file /tmp/ca.pem -keystore /tmp/truststore.jks -storepass truststore_password -noprompt\n",
    "!keytool -import -alias CARoot -file /tmp/ca.pem -keystore /tmp/truststore.jks -storepass mypass123 -noprompt"
   ]
  },
  {
   "cell_type": "code",
   "execution_count": 0,
   "metadata": {
    "application/vnd.databricks.v1+cell": {
     "cellMetadata": {
      "byteLimit": 2048000,
      "rowLimit": 10000
     },
     "inputWidgets": {},
     "nuid": "20978702-8e04-448d-b43a-a63977a331d1",
     "showTitle": false,
     "tableResultSettingsMap": {},
     "title": ""
    }
   },
   "outputs": [],
   "source": [
    "# !openssl pkcs12 -export \\\n",
    "#  -in /tmp/service.cert \\\n",
    "#  -inkey /tmp/service.key \\\n",
    "#  -out /tmp/keystore.p12 \\\n",
    "#  -name kafka-client \\\n",
    "#  -CAfile /tmp/ca.pem \\\n",
    "#  -caname CARoot \\\n",
    "#  -password pass:keystore_password\n",
    "\n",
    "!openssl pkcs12 -export \\\n",
    "  -in /tmp/service.cert \\\n",
    "  -inkey /tmp/service.key \\\n",
    "  -out /tmp/keystore.p12 \\\n",
    "  -name kafka-client \\\n",
    "  -CAfile /tmp/ca.pem \\\n",
    "  -caname CARoot \\\n",
    "  -password pass:mypass123"
   ]
  },
  {
   "cell_type": "code",
   "execution_count": 0,
   "metadata": {
    "application/vnd.databricks.v1+cell": {
     "cellMetadata": {
      "byteLimit": 2048000,
      "rowLimit": 10000
     },
     "inputWidgets": {},
     "nuid": "11844ad5-edc2-46c5-bc6f-5fc996be8330",
     "showTitle": false,
     "tableResultSettingsMap": {},
     "title": ""
    }
   },
   "outputs": [
    {
     "output_type": "stream",
     "name": "stdout",
     "output_type": "stream",
     "text": [
      "Importing keystore /tmp/keystore.p12 to /tmp/keystore.jks...\r\n\r\nWarning:\r\nThe JKS keystore uses a proprietary format. It is recommended to migrate to PKCS12 which is an industry standard format using \"keytool -importkeystore -srckeystore /tmp/keystore.jks -destkeystore /tmp/keystore.jks -deststoretype pkcs12\".\r\n"
     ]
    }
   ],
   "source": [
    "#!keytool -importkeystore \\\n",
    "#  -deststorepass keystore_password \\\n",
    "#  -destkeypass key_password \\\n",
    "#  -destkeystore /tmp/keystore.jks \\\n",
    "#  -srckeystore /tmp/keystore.p12 \\\n",
    "#  -srcstoretype PKCS12 \\\n",
    "#  -srcstorepass keystore_password \\\n",
    "#  -alias kafka-client\n",
    "\n",
    "!keytool -importkeystore \\\n",
    "  -deststorepass mypass123 \\\n",
    "  -destkeypass mypass123 \\\n",
    "  -destkeystore /tmp/keystore.jks \\\n",
    "  -srckeystore /tmp/keystore.p12 \\\n",
    "  -srcstoretype PKCS12 \\\n",
    "  -srcstorepass mypass123 \\\n",
    "  -alias kafka-client  \n",
    "\n"
   ]
  },
  {
   "cell_type": "markdown",
   "metadata": {
    "application/vnd.databricks.v1+cell": {
     "cellMetadata": {},
     "inputWidgets": {},
     "nuid": "8e3c105e-e574-43d2-8702-cd5f4b69cea9",
     "showTitle": false,
     "tableResultSettingsMap": {},
     "title": ""
    }
   },
   "source": [
    "5:26\n"
   ]
  },
  {
   "cell_type": "code",
   "execution_count": 0,
   "metadata": {
    "application/vnd.databricks.v1+cell": {
     "cellMetadata": {
      "byteLimit": 2048000,
      "rowLimit": 10000
     },
     "inputWidgets": {},
     "nuid": "dbf1baf0-0d35-4b87-879b-acce078b6950",
     "showTitle": false,
     "tableResultSettingsMap": {},
     "title": ""
    }
   },
   "outputs": [],
   "source": [
    "log_path = \"/tmp/weather_predictions.log\"\n",
    "with open(log_path, \"a\") as f:\n",
    "    pass"
   ]
  },
  {
   "cell_type": "code",
   "execution_count": 0,
   "metadata": {
    "application/vnd.databricks.v1+cell": {
     "cellMetadata": {
      "byteLimit": 2048000,
      "rowLimit": 10000
     },
     "inputWidgets": {},
     "nuid": "12496ed4-e098-4087-8bb6-f8f58acfd656",
     "showTitle": false,
     "tableResultSettingsMap": {},
     "title": ""
    }
   },
   "outputs": [
    {
     "output_type": "stream",
     "name": "stdout",
     "output_type": "stream",
     "text": [
      "ls: cannot access '/tmp/weather_predictions.log/': Not a directory\n"
     ]
    }
   ],
   "source": [
    "%sh\n",
    "ls -l /tmp/weather_predictions.log"
   ]
  },
  {
   "cell_type": "code",
   "execution_count": 0,
   "metadata": {
    "application/vnd.databricks.v1+cell": {
     "cellMetadata": {
      "byteLimit": 2048000,
      "rowLimit": 10000
     },
     "inputWidgets": {},
     "nuid": "0141800c-ef0e-459a-b585-d8226bf1c490",
     "showTitle": false,
     "tableResultSettingsMap": {},
     "title": ""
    }
   },
   "outputs": [
    {
     "output_type": "stream",
     "name": "stdout",
     "output_type": "stream",
     "text": [
      "Nội dung log...\nNội dung log...\nNội dung log...\n\n"
     ]
    }
   ],
   "source": [
    "log_path = \"/tmp/weather_predictions.log\"\n",
    "with open(log_path, \"r\") as f:\n",
    "    content = f.read()\n",
    "print(content)\n"
   ]
  },
  {
   "cell_type": "code",
   "execution_count": 0,
   "metadata": {
    "application/vnd.databricks.v1+cell": {
     "cellMetadata": {
      "byteLimit": 2048000,
      "rowLimit": 10000
     },
     "inputWidgets": {},
     "nuid": "4b737352-03f7-463f-8ef0-c908916dc349",
     "showTitle": false,
     "tableResultSettingsMap": {},
     "title": ""
    }
   },
   "outputs": [],
   "source": [
    "%sh\n",
    "cat /dbfs/tmp/weather_predictions.log"
   ]
  },
  {
   "cell_type": "code",
   "execution_count": 0,
   "metadata": {
    "application/vnd.databricks.v1+cell": {
     "cellMetadata": {
      "byteLimit": 2048000,
      "rowLimit": 10000
     },
     "inputWidgets": {},
     "nuid": "a0f70942-0664-48f3-a594-2730709d9d61",
     "showTitle": false,
     "tableResultSettingsMap": {},
     "title": ""
    }
   },
   "outputs": [],
   "source": [
    "%sh\n",
    "tail  /dbfs/tmp/weather_predictions.log"
   ]
  },
  {
   "cell_type": "code",
   "execution_count": 0,
   "metadata": {
    "application/vnd.databricks.v1+cell": {
     "cellMetadata": {
      "byteLimit": 2048000,
      "rowLimit": 10000
     },
     "inputWidgets": {},
     "nuid": "e8df1732-dc9f-4653-a36f-0fc05ac52930",
     "showTitle": false,
     "tableResultSettingsMap": {},
     "title": ""
    }
   },
   "outputs": [
    {
     "output_type": "display_data",
     "data": {
      "text/html": [
       "<style scoped>\n",
       "  .table-result-container {\n",
       "    max-height: 300px;\n",
       "    overflow: auto;\n",
       "  }\n",
       "  table, th, td {\n",
       "    border: 1px solid black;\n",
       "    border-collapse: collapse;\n",
       "  }\n",
       "  th, td {\n",
       "    padding: 5px;\n",
       "  }\n",
       "  th {\n",
       "    text-align: left;\n",
       "  }\n",
       "</style><div class='table-result-container'><table class='table-result'><thead style='background-color: white'><tr><th>path</th><th>name</th><th>size</th><th>modificationTime</th></tr></thead><tbody><tr><td>dbfs:/FileStore/</td><td>FileStore/</td><td>0</td><td>0</td></tr><tr><td>dbfs:/databricks-datasets/</td><td>databricks-datasets/</td><td>0</td><td>0</td></tr><tr><td>dbfs:/databricks-results/</td><td>databricks-results/</td><td>0</td><td>0</td></tr><tr><td>dbfs:/local_disk0/</td><td>local_disk0/</td><td>0</td><td>0</td></tr><tr><td>dbfs:/user/</td><td>user/</td><td>0</td><td>0</td></tr></tbody></table></div>"
      ]
     },
     "metadata": {
      "application/vnd.databricks.v1+output": {
       "addedWidgets": {},
       "aggData": [],
       "aggError": "",
       "aggOverflow": false,
       "aggSchema": [],
       "aggSeriesLimitReached": false,
       "aggType": "",
       "arguments": {},
       "columnCustomDisplayInfos": {},
       "data": [
        [
         "dbfs:/FileStore/",
         "FileStore/",
         0,
         0
        ],
        [
         "dbfs:/databricks-datasets/",
         "databricks-datasets/",
         0,
         0
        ],
        [
         "dbfs:/databricks-results/",
         "databricks-results/",
         0,
         0
        ],
        [
         "dbfs:/local_disk0/",
         "local_disk0/",
         0,
         0
        ],
        [
         "dbfs:/user/",
         "user/",
         0,
         0
        ]
       ],
       "datasetInfos": [],
       "dbfsResultPath": null,
       "isJsonSchema": true,
       "metadata": {},
       "overflow": false,
       "plotOptions": {
        "customPlotOptions": {},
        "displayType": "table",
        "pivotAggregation": null,
        "pivotColumns": null,
        "xColumns": null,
        "yColumns": null
       },
       "removedWidgets": [],
       "schema": [
        {
         "metadata": "{}",
         "name": "path",
         "type": "\"string\""
        },
        {
         "metadata": "{}",
         "name": "name",
         "type": "\"string\""
        },
        {
         "metadata": "{}",
         "name": "size",
         "type": "\"long\""
        },
        {
         "metadata": "{}",
         "name": "modificationTime",
         "type": "\"long\""
        }
       ],
       "type": "table"
      }
     },
     "output_type": "display_data"
    }
   ],
   "source": [
    "display(dbutils.fs.ls(\"dbfs:/\"))"
   ]
  },
  {
   "cell_type": "code",
   "execution_count": 0,
   "metadata": {
    "application/vnd.databricks.v1+cell": {
     "cellMetadata": {
      "byteLimit": 2048000,
      "rowLimit": 10000
     },
     "inputWidgets": {},
     "nuid": "9609f51c-2723-4d37-92e6-769627e28b87",
     "showTitle": false,
     "tableResultSettingsMap": {},
     "title": ""
    }
   },
   "outputs": [
    {
     "output_type": "stream",
     "name": "stdout",
     "output_type": "stream",
     "text": [
      "Out[17]: True"
     ]
    }
   ],
   "source": [
    "dbutils.fs.mkdirs(\"dbfs:/user/hive/warehouse/dailong0705/yourusers/delta/gold/\")"
   ]
  },
  {
   "cell_type": "code",
   "execution_count": 0,
   "metadata": {
    "application/vnd.databricks.v1+cell": {
     "cellMetadata": {
      "byteLimit": 2048000,
      "rowLimit": 10000
     },
     "inputWidgets": {},
     "nuid": "83c31e85-1270-4e3c-9bf5-756f4ca880b5",
     "showTitle": false,
     "tableResultSettingsMap": {},
     "title": ""
    }
   },
   "outputs": [
    {
     "output_type": "display_data",
     "data": {
      "text/html": [
       "<style scoped>\n",
       "  .table-result-container {\n",
       "    max-height: 300px;\n",
       "    overflow: auto;\n",
       "  }\n",
       "  table, th, td {\n",
       "    border: 1px solid black;\n",
       "    border-collapse: collapse;\n",
       "  }\n",
       "  th, td {\n",
       "    padding: 5px;\n",
       "  }\n",
       "  th {\n",
       "    text-align: left;\n",
       "  }\n",
       "</style><div class='table-result-container'><table class='table-result'><thead style='background-color: white'><tr><th>path</th><th>name</th><th>size</th><th>modificationTime</th></tr></thead><tbody><tr><td>dbfs:/user/hive/warehouse/dailong0705/yourusers/delta/gold/weather_predictions/_delta_log/</td><td>_delta_log/</td><td>0</td><td>0</td></tr><tr><td>dbfs:/user/hive/warehouse/dailong0705/yourusers/delta/gold/weather_predictions/part-00000-409a8504-3d69-44dd-bf41-da0e6585cf7c-c000.snappy.parquet</td><td>part-00000-409a8504-3d69-44dd-bf41-da0e6585cf7c-c000.snappy.parquet</td><td>6795</td><td>1748221180000</td></tr><tr><td>dbfs:/user/hive/warehouse/dailong0705/yourusers/delta/gold/weather_predictions/part-00000-48f772f5-c73a-4391-be19-fd1ae90177bb-c000.snappy.parquet</td><td>part-00000-48f772f5-c73a-4391-be19-fd1ae90177bb-c000.snappy.parquet</td><td>6130</td><td>1748220986000</td></tr><tr><td>dbfs:/user/hive/warehouse/dailong0705/yourusers/delta/gold/weather_predictions/part-00000-4dfbd2b0-c93c-4a52-8563-44f9ea99a7c3-c000.snappy.parquet</td><td>part-00000-4dfbd2b0-c93c-4a52-8563-44f9ea99a7c3-c000.snappy.parquet</td><td>6764</td><td>1748221090000</td></tr><tr><td>dbfs:/user/hive/warehouse/dailong0705/yourusers/delta/gold/weather_predictions/part-00000-d0a01db3-f9f7-4079-8473-89de05b79a7c-c000.snappy.parquet</td><td>part-00000-d0a01db3-f9f7-4079-8473-89de05b79a7c-c000.snappy.parquet</td><td>6795</td><td>1748221044000</td></tr><tr><td>dbfs:/user/hive/warehouse/dailong0705/yourusers/delta/gold/weather_predictions/part-00000-e8e24565-451a-4bfe-b52d-bf28ebf1025e-c000.snappy.parquet</td><td>part-00000-e8e24565-451a-4bfe-b52d-bf28ebf1025e-c000.snappy.parquet</td><td>6795</td><td>1748221135000</td></tr></tbody></table></div>"
      ]
     },
     "metadata": {
      "application/vnd.databricks.v1+output": {
       "addedWidgets": {},
       "aggData": [],
       "aggError": "",
       "aggOverflow": false,
       "aggSchema": [],
       "aggSeriesLimitReached": false,
       "aggType": "",
       "arguments": {},
       "columnCustomDisplayInfos": {},
       "data": [
        [
         "dbfs:/user/hive/warehouse/dailong0705/yourusers/delta/gold/weather_predictions/_delta_log/",
         "_delta_log/",
         0,
         0
        ],
        [
         "dbfs:/user/hive/warehouse/dailong0705/yourusers/delta/gold/weather_predictions/part-00000-409a8504-3d69-44dd-bf41-da0e6585cf7c-c000.snappy.parquet",
         "part-00000-409a8504-3d69-44dd-bf41-da0e6585cf7c-c000.snappy.parquet",
         6795,
         1748221180000
        ],
        [
         "dbfs:/user/hive/warehouse/dailong0705/yourusers/delta/gold/weather_predictions/part-00000-48f772f5-c73a-4391-be19-fd1ae90177bb-c000.snappy.parquet",
         "part-00000-48f772f5-c73a-4391-be19-fd1ae90177bb-c000.snappy.parquet",
         6130,
         1748220986000
        ],
        [
         "dbfs:/user/hive/warehouse/dailong0705/yourusers/delta/gold/weather_predictions/part-00000-4dfbd2b0-c93c-4a52-8563-44f9ea99a7c3-c000.snappy.parquet",
         "part-00000-4dfbd2b0-c93c-4a52-8563-44f9ea99a7c3-c000.snappy.parquet",
         6764,
         1748221090000
        ],
        [
         "dbfs:/user/hive/warehouse/dailong0705/yourusers/delta/gold/weather_predictions/part-00000-d0a01db3-f9f7-4079-8473-89de05b79a7c-c000.snappy.parquet",
         "part-00000-d0a01db3-f9f7-4079-8473-89de05b79a7c-c000.snappy.parquet",
         6795,
         1748221044000
        ],
        [
         "dbfs:/user/hive/warehouse/dailong0705/yourusers/delta/gold/weather_predictions/part-00000-e8e24565-451a-4bfe-b52d-bf28ebf1025e-c000.snappy.parquet",
         "part-00000-e8e24565-451a-4bfe-b52d-bf28ebf1025e-c000.snappy.parquet",
         6795,
         1748221135000
        ]
       ],
       "datasetInfos": [],
       "dbfsResultPath": null,
       "isJsonSchema": true,
       "metadata": {},
       "overflow": false,
       "plotOptions": {
        "customPlotOptions": {},
        "displayType": "table",
        "pivotAggregation": null,
        "pivotColumns": null,
        "xColumns": null,
        "yColumns": null
       },
       "removedWidgets": [],
       "schema": [
        {
         "metadata": "{}",
         "name": "path",
         "type": "\"string\""
        },
        {
         "metadata": "{}",
         "name": "name",
         "type": "\"string\""
        },
        {
         "metadata": "{}",
         "name": "size",
         "type": "\"long\""
        },
        {
         "metadata": "{}",
         "name": "modificationTime",
         "type": "\"long\""
        }
       ],
       "type": "table"
      }
     },
     "output_type": "display_data"
    }
   ],
   "source": [
    "display(dbutils.fs.ls(\"dbfs:/user/hive/warehouse/dailong0705/yourusers/delta/gold/weather_predictions/\"))"
   ]
  },
  {
   "cell_type": "markdown",
   "metadata": {
    "application/vnd.databricks.v1+cell": {
     "cellMetadata": {},
     "inputWidgets": {},
     "nuid": "341d12a1-3eca-44dd-999a-cfa417637968",
     "showTitle": false,
     "tableResultSettingsMap": {},
     "title": ""
    }
   },
   "source": [
    "Chuyển folder weather_predictions từ dbfs sang /tmp"
   ]
  },
  {
   "cell_type": "code",
   "execution_count": 0,
   "metadata": {
    "application/vnd.databricks.v1+cell": {
     "cellMetadata": {
      "byteLimit": 2048000,
      "rowLimit": 10000
     },
     "inputWidgets": {},
     "nuid": "6d354393-c9a9-4465-bc5c-477b56a45498",
     "showTitle": false,
     "tableResultSettingsMap": {},
     "title": ""
    }
   },
   "outputs": [],
   "source": [
    "import os\n",
    "import zipfile\n",
    "\n",
    "# Gốc DBFS và local\n",
    "dbfs_root = \"dbfs:/user/hive/warehouse/dailong0705/yourusers/delta/gold/weather_predictions/\"\n",
    "local_root = \"/tmp/weather_predictions\"\n",
    "\n",
    "# Tạo thư mục local nếu chưa có\n",
    "os.makedirs(local_root, exist_ok=True)\n",
    "\n",
    "# Hàm tải đệ quy toàn bộ thư mục\n",
    "def download_dbfs_folder(dbfs_path, local_path):\n",
    "    files = dbutils.fs.ls(dbfs_path)\n",
    "    for file in files:\n",
    "        local_file_path = os.path.join(local_path, file.name)\n",
    "        if file.isDir():\n",
    "            os.makedirs(local_file_path, exist_ok=True)\n",
    "            download_dbfs_folder(file.path, local_file_path)\n",
    "        else:\n",
    "            dbutils.fs.cp(file.path, f\"file:{local_file_path}\")\n",
    "\n",
    "# Thực hiện tải toàn bộ\n",
    "download_dbfs_folder(dbfs_root, local_root)\n"
   ]
  },
  {
   "cell_type": "markdown",
   "metadata": {
    "application/vnd.databricks.v1+cell": {
     "cellMetadata": {},
     "inputWidgets": {},
     "nuid": "62eeba57-e93b-487a-97b1-3fc95e592ce1",
     "showTitle": false,
     "tableResultSettingsMap": {},
     "title": ""
    }
   },
   "source": [
    "Kiêm tra "
   ]
  },
  {
   "cell_type": "code",
   "execution_count": 0,
   "metadata": {
    "application/vnd.databricks.v1+cell": {
     "cellMetadata": {
      "byteLimit": 2048000,
      "rowLimit": 10000
     },
     "inputWidgets": {},
     "nuid": "01fef379-a282-4d8e-b241-2480a16cc635",
     "showTitle": false,
     "tableResultSettingsMap": {},
     "title": ""
    }
   },
   "outputs": [
    {
     "output_type": "stream",
     "name": "stdout",
     "output_type": "stream",
     "text": [
      "total 44K\r\ndrwxr-xr-x 2 root root 4.0K May 26 01:10 \u001B[0m\u001B[01;34m_delta_log\u001B[0m/\r\n-rw-r--r-- 1 root root 6.7K May 26 01:13 part-00000-409a8504-3d69-44dd-bf41-da0e6585cf7c-c000.snappy.parquet\r\n-rw-r--r-- 1 root root 6.0K May 26 01:13 part-00000-48f772f5-c73a-4391-be19-fd1ae90177bb-c000.snappy.parquet\r\n-rw-r--r-- 1 root root 6.7K May 26 01:13 part-00000-4dfbd2b0-c93c-4a52-8563-44f9ea99a7c3-c000.snappy.parquet\r\n-rw-r--r-- 1 root root 6.7K May 26 01:13 part-00000-d0a01db3-f9f7-4079-8473-89de05b79a7c-c000.snappy.parquet\r\n-rw-r--r-- 1 root root 6.7K May 26 01:13 part-00000-e8e24565-451a-4bfe-b52d-bf28ebf1025e-c000.snappy.parquet\r\n"
     ]
    }
   ],
   "source": [
    "ls -lh /tmp/weather_predictions/"
   ]
  },
  {
   "cell_type": "markdown",
   "metadata": {
    "application/vnd.databricks.v1+cell": {
     "cellMetadata": {},
     "inputWidgets": {},
     "nuid": "b1e46de2-8871-40a3-a3cb-f7970e927d01",
     "showTitle": false,
     "tableResultSettingsMap": {},
     "title": ""
    }
   },
   "source": [
    "nén weather_predictions thành weather_predictions_full_zip"
   ]
  },
  {
   "cell_type": "code",
   "execution_count": 0,
   "metadata": {
    "application/vnd.databricks.v1+cell": {
     "cellMetadata": {
      "byteLimit": 2048000,
      "rowLimit": 10000
     },
     "inputWidgets": {},
     "nuid": "48c7ce78-b990-42d9-a87b-7ce0a5bb8046",
     "showTitle": false,
     "tableResultSettingsMap": {},
     "title": ""
    }
   },
   "outputs": [
    {
     "output_type": "stream",
     "name": "stdout",
     "output_type": "stream",
     "text": [
      "Đã tạo file zip: /tmp/weather_predictions_full.zip\n"
     ]
    }
   ],
   "source": [
    "import os\n",
    "import zipfile\n",
    "\n",
    "local_root = \"/tmp/weather_predictions\"\n",
    "zip_path = \"/tmp/weather_predictions_full.zip\"\n",
    "\n",
    "with zipfile.ZipFile(zip_path, \"w\", zipfile.ZIP_DEFLATED) as zipf:\n",
    "    for root, dirs, files in os.walk(local_root):\n",
    "        for file in files:\n",
    "            full_path = os.path.join(root, file)\n",
    "            # Tạo đường dẫn tương đối trong file ZIP để giữ cấu trúc thư mục\n",
    "            arcname = os.path.relpath(full_path, local_root)\n",
    "            zipf.write(full_path, arcname=arcname)\n",
    "\n",
    "print(f\"Đã tạo file zip: {zip_path}\")\n"
   ]
  },
  {
   "cell_type": "code",
   "execution_count": 0,
   "metadata": {
    "application/vnd.databricks.v1+cell": {
     "cellMetadata": {
      "byteLimit": 2048000,
      "rowLimit": 10000
     },
     "inputWidgets": {},
     "nuid": "79217a48-e753-413e-ae4f-0cb861ed8ee9",
     "showTitle": false,
     "tableResultSettingsMap": {},
     "title": ""
    }
   },
   "outputs": [
    {
     "output_type": "stream",
     "name": "stdout",
     "output_type": "stream",
     "text": [
      "-rw-r--r-- 1 root root 30K May 26 01:28 /tmp/weather_predictions_full.zip\r\n"
     ]
    }
   ],
   "source": [
    "ls -lh /tmp/weather_predictions_full.zip"
   ]
  },
  {
   "cell_type": "code",
   "execution_count": 0,
   "metadata": {
    "application/vnd.databricks.v1+cell": {
     "cellMetadata": {
      "byteLimit": 2048000,
      "rowLimit": 10000
     },
     "inputWidgets": {},
     "nuid": "bab368a5-768f-4fab-92af-71f12444cb14",
     "showTitle": false,
     "tableResultSettingsMap": {},
     "title": ""
    }
   },
   "outputs": [
    {
     "output_type": "stream",
     "name": "stdout",
     "output_type": "stream",
     "text": [
      "Đã xóa file ZIP: /tmp/weather_predictions_full.zip\n"
     ]
    }
   ],
   "source": [
    "zip_path = \"/tmp/weather_predictions_full.zip\"\n",
    "\n",
    "if os.path.exists(zip_path):\n",
    "    os.remove(zip_path)\n",
    "    print(f\"Đã xóa file ZIP: {zip_path}\")\n",
    "else:\n",
    "    print(\"File ZIP không tồn tại để xóa.\")"
   ]
  },
  {
   "cell_type": "code",
   "execution_count": 0,
   "metadata": {
    "application/vnd.databricks.v1+cell": {
     "cellMetadata": {
      "byteLimit": 2048000,
      "rowLimit": 10000
     },
     "inputWidgets": {},
     "nuid": "98d87fa3-1699-4274-9113-67f68bd8bcec",
     "showTitle": false,
     "tableResultSettingsMap": {},
     "title": ""
    }
   },
   "outputs": [
    {
     "output_type": "stream",
     "name": "stdout",
     "output_type": "stream",
     "text": [
      "File ZIP tồn tại: /tmp/weather_predictions_full.zip\nDanh sách file trong ZIP:\n- .part-00000-4dfbd2b0-c93c-4a52-8563-44f9ea99a7c3-c000.snappy.parquet.crc (kích thước: 64 bytes)\n- part-00000-409a8504-3d69-44dd-bf41-da0e6585cf7c-c000.snappy.parquet (kích thước: 6795 bytes)\n- .part-00000-48f772f5-c73a-4391-be19-fd1ae90177bb-c000.snappy.parquet.crc (kích thước: 56 bytes)\n- part-00000-d0a01db3-f9f7-4079-8473-89de05b79a7c-c000.snappy.parquet (kích thước: 6795 bytes)\n- .part-00000-409a8504-3d69-44dd-bf41-da0e6585cf7c-c000.snappy.parquet.crc (kích thước: 64 bytes)\n- .part-00000-e8e24565-451a-4bfe-b52d-bf28ebf1025e-c000.snappy.parquet.crc (kích thước: 64 bytes)\n- part-00000-e8e24565-451a-4bfe-b52d-bf28ebf1025e-c000.snappy.parquet (kích thước: 6795 bytes)\n- part-00000-48f772f5-c73a-4391-be19-fd1ae90177bb-c000.snappy.parquet (kích thước: 6130 bytes)\n- .part-00000-d0a01db3-f9f7-4079-8473-89de05b79a7c-c000.snappy.parquet.crc (kích thước: 64 bytes)\n- part-00000-4dfbd2b0-c93c-4a52-8563-44f9ea99a7c3-c000.snappy.parquet (kích thước: 6764 bytes)\n- _delta_log/.00000000000000000004.crc.crc (kích thước: 128 bytes)\n- _delta_log/.00000000000000000000.json.crc (kích thước: 48 bytes)\n- _delta_log/.00000000000000000002.json.crc (kích thước: 32 bytes)\n- _delta_log/00000000000000000004.crc (kích thước: 14991 bytes)\n- _delta_log/.00000000000000000003.crc.crc (kích thước: 108 bytes)\n- _delta_log/00000000000000000002.crc (kích thước: 10461 bytes)\n- _delta_log/00000000000000000001.json (kích thước: 2790 bytes)\n- _delta_log/00000000000000000000.crc (kích thước: 5929 bytes)\n- _delta_log/00000000000000000002.json (kích thước: 2790 bytes)\n- _delta_log/00000000000000000004.json (kích thước: 2790 bytes)\n- _delta_log/.s3-optimization-1 (kích thước: 0 bytes)\n- _delta_log/.s3-optimization-0 (kích thước: 0 bytes)\n- _delta_log/.00000000000000000002.crc.crc (kích thước: 92 bytes)\n- _delta_log/.00000000000000000001.crc.crc (kích thước: 76 bytes)\n- _delta_log/00000000000000000003.json (kích thước: 2790 bytes)\n- _delta_log/00000000000000000000.json (kích thước: 4909 bytes)\n- _delta_log/.00000000000000000001.json.crc (kích thước: 32 bytes)\n- _delta_log/.00000000000000000003.json.crc (kích thước: 32 bytes)\n- _delta_log/00000000000000000001.crc (kích thước: 8196 bytes)\n- _delta_log/..s3-optimization-1.crc (kích thước: 8 bytes)\n- _delta_log/.s3-optimization-2 (kích thước: 0 bytes)\n- _delta_log/..s3-optimization-2.crc (kích thước: 8 bytes)\n- _delta_log/.00000000000000000000.crc.crc (kích thước: 56 bytes)\n- _delta_log/00000000000000000003.crc (kích thước: 12726 bytes)\n- _delta_log/..s3-optimization-0.crc (kích thước: 8 bytes)\n- _delta_log/.00000000000000000004.json.crc (kích thước: 32 bytes)\n"
     ]
    }
   ],
   "source": [
    "import os\n",
    "import zipfile\n",
    "\n",
    "zip_path = \"/tmp/weather_predictions_full.zip\"\n",
    "\n",
    "if os.path.exists(zip_path):\n",
    "    print(f\"File ZIP tồn tại: {zip_path}\")\n",
    "    with zipfile.ZipFile(zip_path, 'r') as zipf:\n",
    "        print(\"Danh sách file trong ZIP:\")\n",
    "        for info in zipf.infolist():\n",
    "            print(f\"- {info.filename} (kích thước: {info.file_size} bytes)\")\n",
    "else:\n",
    "    print(f\"File ZIP chưa tồn tại: {zip_path}\")\n"
   ]
  },
  {
   "cell_type": "code",
   "execution_count": 0,
   "metadata": {
    "application/vnd.databricks.v1+cell": {
     "cellMetadata": {
      "byteLimit": 2048000,
      "rowLimit": 10000
     },
     "inputWidgets": {},
     "nuid": "faffdbd0-015b-43ea-b507-740004ab8506",
     "showTitle": false,
     "tableResultSettingsMap": {},
     "title": ""
    }
   },
   "outputs": [
    {
     "output_type": "stream",
     "name": "stdout",
     "output_type": "stream",
     "text": [
      "Out[28]: True"
     ]
    }
   ],
   "source": [
    "dbutils.fs.cp(\"file:/tmp/weather_predictions_full.zip\", \"dbfs:/tmp/weather_predictions_full.zip\")\n"
   ]
  },
  {
   "cell_type": "code",
   "execution_count": 0,
   "metadata": {
    "application/vnd.databricks.v1+cell": {
     "cellMetadata": {
      "byteLimit": 2048000,
      "rowLimit": 10000
     },
     "inputWidgets": {},
     "nuid": "16d9b646-e555-4e9f-8aa9-0a4ceed6c0e0",
     "showTitle": false,
     "tableResultSettingsMap": {},
     "title": ""
    }
   },
   "outputs": [
    {
     "output_type": "stream",
     "name": "stdout",
     "output_type": "stream",
     "text": [
      "-rw-r--r-- 1 root root 30K May 26 01:28 /tmp/weather_predictions_full.zip\r\n"
     ]
    }
   ],
   "source": [
    "ls -lh /tmp/weather_predictions_full.zip"
   ]
  },
  {
   "cell_type": "code",
   "execution_count": 0,
   "metadata": {
    "application/vnd.databricks.v1+cell": {
     "cellMetadata": {
      "byteLimit": 2048000,
      "rowLimit": 10000
     },
     "inputWidgets": {},
     "nuid": "7815a635-b770-4159-9b4e-acfdd3ad5cf3",
     "showTitle": false,
     "tableResultSettingsMap": {},
     "title": ""
    }
   },
   "outputs": [
    {
     "output_type": "display_data",
     "data": {
      "text/html": [
       "\n",
       "<a download=\"weather_predictions_full.zip\" href=\"data:application/zip;base64,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\">📥 Click vào đây để tải file weather_predictions_full.zip</a>\n"
      ]
     },
     "metadata": {
      "application/vnd.databricks.v1+output": {
       "addedWidgets": {},
       "arguments": {},
       "data": "\n<a download=\"weather_predictions_full.zip\" href=\"data:application/zip;base64,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\">📥 Click vào đây để tải file weather_predictions_full.zip</a>\n",
       "datasetInfos": [],
       "metadata": {},
       "removedWidgets": [],
       "textData": null,
       "type": "htmlSandbox"
      }
     },
     "output_type": "display_data"
    }
   ],
   "source": [
    "\n",
    "# Đọc file binary từ DBFS\n",
    "file_path = \"/tmp/weather_predictions_full.zip\"\n",
    "with open(file_path, \"rb\") as f:\n",
    "    data = f.read()\n",
    "\n",
    "# Encode base64 để hiện lên notebook\n",
    "encoded = base64.b64encode(data).decode(\"utf-8\")\n",
    "displayHTML(f\"\"\"\n",
    "<a download=\"weather_predictions_full.zip\" href=\"data:application/zip;base64,{encoded}\">📥 Click vào đây để tải file weather_predictions_full.zip</a>\n",
    "\"\"\")"
   ]
  }
 ],
 "metadata": {
  "application/vnd.databricks.v1+notebook": {
   "computePreferences": null,
   "dashboards": [],
   "environmentMetadata": {
    "base_environment": "",
    "environment_version": "1"
   },
   "inputWidgetPreferences": null,
   "language": "python",
   "notebookMetadata": {
    "mostRecentlyExecutedCommandWithImplicitDF": {
     "commandId": 1358928196538650,
     "dataframes": [
      "_sqldf"
     ]
    },
    "pythonIndentUnit": 4
   },
   "notebookName": "zip+giainen",
   "widgets": {}
  }
 },
 "nbformat": 4,
 "nbformat_minor": 0
}