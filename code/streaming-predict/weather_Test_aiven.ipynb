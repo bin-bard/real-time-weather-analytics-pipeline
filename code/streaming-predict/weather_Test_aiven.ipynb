{
 "cells": [
  {
   "cell_type": "code",
   "execution_count": 0,
   "metadata": {
    "application/vnd.databricks.v1+cell": {
     "cellMetadata": {
      "byteLimit": 2048000,
      "rowLimit": 10000
     },
     "inputWidgets": {},
     "nuid": "6487dabf-4602-41f2-94b8-54e2a8bc34c4",
     "showTitle": false,
     "tableResultSettingsMap": {},
     "title": ""
    }
   },
   "outputs": [
    {
     "output_type": "stream",
     "name": "stdout",
     "output_type": "stream",
     "text": [
      "Python interpreter will be restarted.\nCollecting kafka-python\n  Using cached kafka_python-2.2.10-py2.py3-none-any.whl (309 kB)\nInstalling collected packages: kafka-python\nSuccessfully installed kafka-python-2.2.10\nPython interpreter will be restarted.\n"
     ]
    }
   ],
   "source": [
    "# thư viện kafka\n",
    "%pip install kafka-python"
   ]
  },
  {
   "cell_type": "code",
   "execution_count": 0,
   "metadata": {
    "application/vnd.databricks.v1+cell": {
     "cellMetadata": {
      "byteLimit": 2048000,
      "rowLimit": 10000
     },
     "inputWidgets": {},
     "nuid": "d76d4971-34db-43f5-8f5f-1fcc21fbc4dd",
     "showTitle": false,
     "tableResultSettingsMap": {},
     "title": ""
    }
   },
   "outputs": [
    {
     "output_type": "stream",
     "name": "stdout",
     "output_type": "stream",
     "text": [
      "Python interpreter will be restarted.\nCollecting confluent-kafka\n  Using cached confluent_kafka-2.10.0-cp39-cp39-manylinux_2_28_x86_64.whl (3.8 MB)\nInstalling collected packages: confluent-kafka\nSuccessfully installed confluent-kafka-2.10.0\nPython interpreter will be restarted.\n"
     ]
    }
   ],
   "source": [
    "%pip install confluent-kafka"
   ]
  },
  {
   "cell_type": "code",
   "execution_count": 0,
   "metadata": {
    "application/vnd.databricks.v1+cell": {
     "cellMetadata": {
      "byteLimit": 2048000,
      "rowLimit": 10000
     },
     "inputWidgets": {},
     "nuid": "1430dc97-1057-4281-8fcd-cedf31753257",
     "showTitle": false,
     "tableResultSettingsMap": {},
     "title": ""
    }
   },
   "outputs": [
    {
     "output_type": "stream",
     "name": "stdout",
     "output_type": "stream",
     "text": [
      "Đang tiêu thụ dữ liệu thời tiết từ Kafka...\n"
     ]
    },
    {
     "output_type": "stream",
     "name": "stderr",
     "output_type": "stream",
     "text": [
      "ERROR:kafka.conn:<BrokerConnection client_id=kafka-python-2.2.10, node_id=18 host=18.163.182.90:13010 <connected> [IPv4 ('18.163.182.90', 13010)]>: Closing connection. KafkaConnectionError: Socket EVENT_READ without in-flight-requests\nWARNING:kafka.client:Node 18 connection failed -- refreshing metadata\nERROR:kafka.conn:<BrokerConnection client_id=kafka-python-2.2.10, node_id=16 host=18.166.55.230:13010 <connected> [IPv4 ('18.166.55.230', 13010)]>: Closing connection. KafkaConnectionError: Socket EVENT_READ without in-flight-requests\nWARNING:kafka.client:Node 16 connection failed -- refreshing metadata\n"
     ]
    },
    {
     "output_type": "stream",
     "name": "stdout",
     "output_type": "stream",
     "text": [
      "[ 23:03 |  5/2025 |  24.1°C (cảm giác 25.7°C) |  Gió: 14.0 km/h N (giật: 22.4 km/h) |  Mây: 100% |  Độ ẩm: 69% |  Mưa: 0.0 mm |  Áp suất: 1017.0 mb |  Trạng thái: Overcast]\n[ 23:03 |  5/2025 |  24.1°C (cảm giác 25.7°C) |  Gió: 14.0 km/h N (giật: 22.4 km/h) |  Mây: 100% |  Độ ẩm: 69% |  Mưa: 0.0 mm |  Áp suất: 1017.0 mb |  Trạng thái: Overcast]\n[ 23:03 |  5/2025 |  24.1°C (cảm giác 25.7°C) |  Gió: 14.0 km/h N (giật: 22.4 km/h) |  Mây: 100% |  Độ ẩm: 69% |  Mưa: 0.0 mm |  Áp suất: 1017.0 mb |  Trạng thái: Overcast]\n[ 23:03 |  5/2025 |  24.1°C (cảm giác 25.7°C) |  Gió: 14.0 km/h N (giật: 22.4 km/h) |  Mây: 100% |  Độ ẩm: 69% |  Mưa: 0.0 mm |  Áp suất: 1017.0 mb |  Trạng thái: Overcast]\n[ 23:03 |  5/2025 |  24.1°C (cảm giác 25.7°C) |  Gió: 14.0 km/h N (giật: 22.4 km/h) |  Mây: 100% |  Độ ẩm: 69% |  Mưa: 0.0 mm |  Áp suất: 1017.0 mb |  Trạng thái: Overcast]\n[ 23:03 |  5/2025 |  24.1°C (cảm giác 25.7°C) |  Gió: 14.0 km/h N (giật: 22.4 km/h) |  Mây: 100% |  Độ ẩm: 69% |  Mưa: 0.0 mm |  Áp suất: 1017.0 mb |  Trạng thái: Overcast]\n"
     ]
    },
    {
     "output_type": "display_data",
     "data": {
      "text/html": [
       "<style scoped>\n",
       "  .ansiout {\n",
       "    display: block;\n",
       "    unicode-bidi: embed;\n",
       "    white-space: pre-wrap;\n",
       "    word-wrap: break-word;\n",
       "    word-break: break-all;\n",
       "    font-family: \"Menlo\", \"Monaco\", \"Consolas\", \"Ubuntu Mono\", \"Source Code Pro\", monospace;\n",
       "    font-size: 13px;\n",
       "    color: #555;\n",
       "    margin-left: 4px;\n",
       "    line-height: 19px;\n",
       "  }\n",
       "</style>"
      ]
     },
     "metadata": {
      "application/vnd.databricks.v1+output": {
       "arguments": {},
       "data": "",
       "errorSummary": "Cancelled",
       "errorTraceType": "html",
       "metadata": {},
       "type": "ipynbError"
      }
     },
     "output_type": "display_data"
    }
   ],
   "source": [
    "from kafka import KafkaConsumer\n",
    "import json\n",
    "from json.decoder import JSONDecodeError\n",
    "\n",
    "KAFKA_TOPIC = 'weather_topic'\n",
    "KAFKA_BROKER = 'weather-kafka-dailong0705-b809.e.aivencloud.com:13010'\n",
    "\n",
    "# Kafka Consumer cấu hình SSL cho Aiven\n",
    "consumer = KafkaConsumer(\n",
    "    KAFKA_TOPIC,\n",
    "    bootstrap_servers=[KAFKA_BROKER],\n",
    "    security_protocol=\"SSL\",\n",
    "    ssl_cafile=\"/tmp/ca.pem\",\n",
    "    ssl_certfile=\"/tmp/service.cert\",\n",
    "    ssl_keyfile=\"/tmp/service.key\",\n",
    "    auto_offset_reset='earliest',\n",
    "    enable_auto_commit=True,\n",
    "    group_id='weather-consumer-group'\n",
    ")\n",
    "\n",
    "print(\"Đang tiêu thụ dữ liệu thời tiết từ Kafka...\")\n",
    "\n",
    "try:\n",
    "    for message in consumer:\n",
    "        try:\n",
    "            raw_value = message.value.decode('utf-8')\n",
    "            if not raw_value.strip():\n",
    "                print(\"[❌ Dữ liệu rỗng] → Bỏ qua.\")\n",
    "                continue\n",
    "\n",
    "            weather_data = json.loads(raw_value)\n",
    "            print(\n",
    "                f\"[ {weather_data['time']} |  {weather_data['month']}/{weather_data['year']} | \"\n",
    "                f\" {weather_data['temperature']}°C (cảm giác {weather_data['feelslike']}°C) | \"\n",
    "                f\" Gió: {weather_data['wind']} km/h {weather_data['direction']} (giật: {weather_data['gust']} km/h) | \"\n",
    "                f\" Mây: {weather_data['cloud']}% |  Độ ẩm: {weather_data['humidity']}% | \"\n",
    "                f\" Mưa: {weather_data['precipitation']} mm |  Áp suất: {weather_data['pressure']} mb | \"\n",
    "                f\" Trạng thái: {weather_data['weather']}]\"\n",
    "            )\n",
    "        except (UnicodeDecodeError, JSONDecodeError, KeyError) as e:\n",
    "            print(f\"[❌ Lỗi JSON] → Bỏ qua. Chi tiết: {e}\")\n",
    "\n",
    "except KeyboardInterrupt:\n",
    "    print(\"Đã dừng consumer.\")\n"
   ]
  },
  {
   "cell_type": "code",
   "execution_count": 0,
   "metadata": {
    "application/vnd.databricks.v1+cell": {
     "cellMetadata": {
      "byteLimit": 2048000,
      "rowLimit": 10000
     },
     "inputWidgets": {},
     "nuid": "0d4b1419-ece7-4933-84b9-4afe1cdc984b",
     "showTitle": false,
     "tableResultSettingsMap": {},
     "title": ""
    }
   },
   "outputs": [
    {
     "output_type": "stream",
     "name": "stdout",
     "output_type": "stream",
     "text": [
      "-----BEGIN CERTIFICATE-----\nMIIETTCCArWgAwIBAgIUJUNAXaDT8OIGSuriCSaRnil8trQwDQYJKoZIhvcNAQEM\nBQAwQDE+MDwGA1UEAww1MzM5MjQ1ZWYtMjQ5Mi00YWU5LWFjOTQtZmY0MDgwZWIx\nNjM5IEdFTiAxIFByb2plY3QgQ0EwHhcNMjUwNTI0MTUzOTI5WhcNMzUwNTIyMTUz\nOTI5WjBAMT4wPAYDVQQDDDUzMzkyNDVlZi0yNDkyLTRhZTktYWM5NC1mZjQwODBl\nYjE2MzkgR0VOIDEgUHJvamVjdCBDQTCCAaIwDQYJKoZIhvcNAQEBBQADggGPADCC\nAYoCggGBAIgARdX63gmdqN5ta+eLnBwymIEnriYmauW8eH08I4UKqMNSEsAUHORO\nIwa67jgA6oQVA5RpWBTLiV9Au4uMNFn0fTW67WwgkROlYEMleoa30RlQ+zIexiOT\nQMi20ESV9yBWL8bytd8yPXCW3b/Co4LMyl643+mW/5YbL4yn9cadAtqxP4iSZWre\nqCIYpli8uvp3e8we+2zaWvtzZqYhytvpK5bNQp4ipPWyvUs4n/1wEFuSCvMA/UlQ\nz79cq2M3QuYMS2nMuNJJpw48ep6Fa3n95xLB7rbtfmn536al2is6IYeF33knEqbV\nsUQdZQaspGhBBl+bfEIq84k1K2Lrl4v5Xxe5wh7Y0ticBC1w092hKyavCXJN3q1c\njdPby+YGY7TmPL3fuwweVV6Anh2c6dMVSbvusz9xiEmcpyaYgxzG/HFQCAs8gn6g\nO3inLwZ8PT3bU1nHbsZxgPCbawQQJmfE+HRq7CdSeyVwzDSwOk3cr7XVxViaFGw7\nI1bBhgCMiwIDAQABoz8wPTAdBgNVHQ4EFgQUl59vPeizVPgDMoHompqwqi9aEeMw\nDwYDVR0TBAgwBgEB/wIBADALBgNVHQ8EBAMCAQYwDQYJKoZIhvcNAQEMBQADggGB\nAEjHxDeycMehh972FaWHql+N+kWq2Rw5ffXb7n6FH1rHMnjIH8385BhlEHsdDMHa\nW9KBHdcalBUkLBCGzO90q+JbVDWKmhPztQdi2bkN/VaT9ACmnRjO8DjwHG0GDXFB\nrhkc1e1iCJ6+S5V3zRax4QDVFTx8NHUCIWSWNp3XvJtcdDF5nOpF4YRop0Ff3hb5\nwUiv2tE1u7d1wsK9ROCCWZqDIXle5rJLwv5QAiP1rAXGP19m7hQY28urazOnoLOT\nuGSb0gCSuhXaZKsA5GySviWLdyqQ+FSQfyp29D4zK0i/O5+LKvHSMxDsMqGQxbpm\nRLznUb2q7yOAJEJMFI5mwfWsVY9i7eX0IsEB5i+tzdmI7NXYjT0AEe+/ve63uyWO\ngj+LgRy3WBVs9FBJd8E02zApzW70gzC12sNx7KVqqYutZ/AuU1XQ0X8Q/bdDueJJ\nx8OUVkIKUdJ2/VGJCmn2p1z8Lla16W/eJGfzESxt+HPiUcjZsFPIQEUyCcUtCGgE\n3w==\n-----END CERTIFICATE-----\n\n"
     ]
    }
   ],
   "source": [
    "with open(\"/tmp/ca.pem\", \"r\") as f:\n",
    "    content = f.read()\n",
    "    print(content)\n"
   ]
  },
  {
   "cell_type": "markdown",
   "metadata": {
    "application/vnd.databricks.v1+cell": {
     "cellMetadata": {},
     "inputWidgets": {},
     "nuid": "9ff9d40c-5ed1-4a97-9762-9ab1977c4b94",
     "showTitle": false,
     "tableResultSettingsMap": {},
     "title": ""
    }
   },
   "source": [
    "#Test ghi đủ"
   ]
  },
  {
   "cell_type": "code",
   "execution_count": 0,
   "metadata": {
    "application/vnd.databricks.v1+cell": {
     "cellMetadata": {
      "byteLimit": 2048000,
      "rowLimit": 10000
     },
     "inputWidgets": {},
     "nuid": "ae02f9b9-4499-42dc-961e-f73d11953d10",
     "showTitle": false,
     "tableResultSettingsMap": {},
     "title": ""
    }
   },
   "outputs": [
    {
     "output_type": "display_data",
     "data": {
      "text/html": [
       "<style scoped>\n",
       "  .table-result-container {\n",
       "    max-height: 300px;\n",
       "    overflow: auto;\n",
       "  }\n",
       "  table, th, td {\n",
       "    border: 1px solid black;\n",
       "    border-collapse: collapse;\n",
       "  }\n",
       "  th, td {\n",
       "    padding: 5px;\n",
       "  }\n",
       "  th {\n",
       "    text-align: left;\n",
       "  }\n",
       "</style><div class='table-result-container'><table class='table-result'><thead style='background-color: white'><tr><th>path</th><th>name</th><th>size</th><th>modificationTime</th></tr></thead><tbody><tr><td>dbfs:/user/hive/warehouse/dailong0705/yourusers/cloud_after_3_hour_model/</td><td>cloud_after_3_hour_model/</td><td>0</td><td>0</td></tr><tr><td>dbfs:/user/hive/warehouse/dailong0705/yourusers/delta/</td><td>delta/</td><td>0</td><td>0</td></tr><tr><td>dbfs:/user/hive/warehouse/dailong0705/yourusers/delta_table_01/</td><td>delta_table_01/</td><td>0</td><td>0</td></tr><tr><td>dbfs:/user/hive/warehouse/dailong0705/yourusers/delta_table_02/</td><td>delta_table_02/</td><td>0</td><td>0</td></tr><tr><td>dbfs:/user/hive/warehouse/dailong0705/yourusers/direction_after_3_hour_model/</td><td>direction_after_3_hour_model/</td><td>0</td><td>0</td></tr><tr><td>dbfs:/user/hive/warehouse/dailong0705/yourusers/feelslike_after_3_hour_model/</td><td>feelslike_after_3_hour_model/</td><td>0</td><td>0</td></tr><tr><td>dbfs:/user/hive/warehouse/dailong0705/yourusers/gust_after_3_hour_model/</td><td>gust_after_3_hour_model/</td><td>0</td><td>0</td></tr><tr><td>dbfs:/user/hive/warehouse/dailong0705/yourusers/humidity_after_3_hour_model/</td><td>humidity_after_3_hour_model/</td><td>0</td><td>0</td></tr><tr><td>dbfs:/user/hive/warehouse/dailong0705/yourusers/precipitation_after_3_hour_model/</td><td>precipitation_after_3_hour_model/</td><td>0</td><td>0</td></tr><tr><td>dbfs:/user/hive/warehouse/dailong0705/yourusers/pressure_after_3_hour_model/</td><td>pressure_after_3_hour_model/</td><td>0</td><td>0</td></tr><tr><td>dbfs:/user/hive/warehouse/dailong0705/yourusers/sample_delta_table/</td><td>sample_delta_table/</td><td>0</td><td>0</td></tr><tr><td>dbfs:/user/hive/warehouse/dailong0705/yourusers/temperature_after_3_hour_model/</td><td>temperature_after_3_hour_model/</td><td>0</td><td>0</td></tr><tr><td>dbfs:/user/hive/warehouse/dailong0705/yourusers/weather_classifier_model/</td><td>weather_classifier_model/</td><td>0</td><td>0</td></tr><tr><td>dbfs:/user/hive/warehouse/dailong0705/yourusers/wind_after_3_hour_model/</td><td>wind_after_3_hour_model/</td><td>0</td><td>0</td></tr></tbody></table></div>"
      ]
     },
     "metadata": {
      "application/vnd.databricks.v1+output": {
       "addedWidgets": {},
       "aggData": [],
       "aggError": "",
       "aggOverflow": false,
       "aggSchema": [],
       "aggSeriesLimitReached": false,
       "aggType": "",
       "arguments": {},
       "columnCustomDisplayInfos": {},
       "data": [
        [
         "dbfs:/user/hive/warehouse/dailong0705/yourusers/cloud_after_3_hour_model/",
         "cloud_after_3_hour_model/",
         0,
         0
        ],
        [
         "dbfs:/user/hive/warehouse/dailong0705/yourusers/delta/",
         "delta/",
         0,
         0
        ],
        [
         "dbfs:/user/hive/warehouse/dailong0705/yourusers/delta_table_01/",
         "delta_table_01/",
         0,
         0
        ],
        [
         "dbfs:/user/hive/warehouse/dailong0705/yourusers/delta_table_02/",
         "delta_table_02/",
         0,
         0
        ],
        [
         "dbfs:/user/hive/warehouse/dailong0705/yourusers/direction_after_3_hour_model/",
         "direction_after_3_hour_model/",
         0,
         0
        ],
        [
         "dbfs:/user/hive/warehouse/dailong0705/yourusers/feelslike_after_3_hour_model/",
         "feelslike_after_3_hour_model/",
         0,
         0
        ],
        [
         "dbfs:/user/hive/warehouse/dailong0705/yourusers/gust_after_3_hour_model/",
         "gust_after_3_hour_model/",
         0,
         0
        ],
        [
         "dbfs:/user/hive/warehouse/dailong0705/yourusers/humidity_after_3_hour_model/",
         "humidity_after_3_hour_model/",
         0,
         0
        ],
        [
         "dbfs:/user/hive/warehouse/dailong0705/yourusers/precipitation_after_3_hour_model/",
         "precipitation_after_3_hour_model/",
         0,
         0
        ],
        [
         "dbfs:/user/hive/warehouse/dailong0705/yourusers/pressure_after_3_hour_model/",
         "pressure_after_3_hour_model/",
         0,
         0
        ],
        [
         "dbfs:/user/hive/warehouse/dailong0705/yourusers/sample_delta_table/",
         "sample_delta_table/",
         0,
         0
        ],
        [
         "dbfs:/user/hive/warehouse/dailong0705/yourusers/temperature_after_3_hour_model/",
         "temperature_after_3_hour_model/",
         0,
         0
        ],
        [
         "dbfs:/user/hive/warehouse/dailong0705/yourusers/weather_classifier_model/",
         "weather_classifier_model/",
         0,
         0
        ],
        [
         "dbfs:/user/hive/warehouse/dailong0705/yourusers/wind_after_3_hour_model/",
         "wind_after_3_hour_model/",
         0,
         0
        ]
       ],
       "datasetInfos": [],
       "dbfsResultPath": null,
       "isJsonSchema": true,
       "metadata": {},
       "overflow": false,
       "plotOptions": {
        "customPlotOptions": {},
        "displayType": "table",
        "pivotAggregation": null,
        "pivotColumns": null,
        "xColumns": null,
        "yColumns": null
       },
       "removedWidgets": [],
       "schema": [
        {
         "metadata": "{}",
         "name": "path",
         "type": "\"string\""
        },
        {
         "metadata": "{}",
         "name": "name",
         "type": "\"string\""
        },
        {
         "metadata": "{}",
         "name": "size",
         "type": "\"long\""
        },
        {
         "metadata": "{}",
         "name": "modificationTime",
         "type": "\"long\""
        }
       ],
       "type": "table"
      }
     },
     "output_type": "display_data"
    }
   ],
   "source": [
    "display(dbutils.fs.ls(\"dbfs:/user/hive/warehouse/dailong0705/yourusers/\"))"
   ]
  },
  {
   "cell_type": "markdown",
   "metadata": {
    "application/vnd.databricks.v1+cell": {
     "cellMetadata": {},
     "inputWidgets": {},
     "nuid": "599d9f4a-901d-41ee-be18-3a1a3aec42f1",
     "showTitle": false,
     "tableResultSettingsMap": {},
     "title": ""
    }
   },
   "source": [
    "delta lake"
   ]
  },
  {
   "cell_type": "code",
   "execution_count": 0,
   "metadata": {
    "application/vnd.databricks.v1+cell": {
     "cellMetadata": {
      "byteLimit": 2048000,
      "rowLimit": 10000
     },
     "inputWidgets": {},
     "nuid": "9a5f1cdc-2879-42b0-9617-9aa5ed880c38",
     "showTitle": false,
     "tableResultSettingsMap": {},
     "title": ""
    }
   },
   "outputs": [
    {
     "output_type": "stream",
     "name": "stdout",
     "output_type": "stream",
     "text": [
      "📭 Batch 0 is empty.\n📦 Processing batch 1...\n📊 Schema + Sample records trước khi drop NA:\n+----+-----+-----------+---------+----+---------+----+-----+--------+-------------+--------+------------------+-------------------+-------------------+-------------------+-------------------+\n|time|month|temperature|feelslike|wind|direction|gust|cloud|humidity|precipitation|pressure|time_sin          |time_cos           |month_sin          |month_cos          |predict_time       |\n+----+-----+-----------+---------+----+---------+----+-----+--------+-------------+--------+------------------+-------------------+-------------------+-------------------+-------------------+\n|10.9|5.0  |26.2       |28.2     |9.7 |9        |14.0|0.0  |61.0    |0.0          |1016.0  |0.2840154404598496|-0.9588197065039901|0.49999999999999994|-0.8660254037844387|2025-05-26 10:53:59|\n+----+-----+-----------+---------+----+---------+----+-----+--------+-------------+--------+------------------+-------------------+-------------------+-------------------+-------------------+\n\nroot\n |-- time: float (nullable = true)\n |-- month: float (nullable = true)\n |-- temperature: float (nullable = true)\n |-- feelslike: float (nullable = true)\n |-- wind: float (nullable = true)\n |-- direction: integer (nullable = true)\n |-- gust: float (nullable = true)\n |-- cloud: float (nullable = true)\n |-- humidity: float (nullable = true)\n |-- precipitation: float (nullable = true)\n |-- pressure: float (nullable = true)\n |-- time_sin: double (nullable = true)\n |-- time_cos: double (nullable = true)\n |-- month_sin: double (nullable = true)\n |-- month_cos: double (nullable = true)\n |-- predict_time: string (nullable = true)\n\n🔍 Trước vector hóa: 1 bản ghi\n✅ Vector hóa xong\n✅ Phân loại xong\n▶ Bắt đầu dự đoán regression\n✅ Regression model cho temperature_after_3_hour xong, columns hiện tại: ['time', 'month', 'temperature', 'feelslike', 'wind', 'direction', 'gust', 'cloud', 'humidity', 'precipitation', 'pressure', 'time_sin', 'time_cos', 'month_sin', 'month_cos', 'predict_time', 'features', 'rawPrediction', 'probability', 'weather_label', 'temperature_after_3_hour_pred']\n✅ Regression model cho feelslike_after_3_hour xong, columns hiện tại: ['time', 'month', 'temperature', 'feelslike', 'wind', 'direction', 'gust', 'cloud', 'humidity', 'precipitation', 'pressure', 'time_sin', 'time_cos', 'month_sin', 'month_cos', 'predict_time', 'features', 'rawPrediction', 'probability', 'weather_label', 'temperature_after_3_hour_pred', 'feelslike_after_3_hour_pred']\n✅ Regression model cho wind_after_3_hour xong, columns hiện tại: ['time', 'month', 'temperature', 'feelslike', 'wind', 'direction', 'gust', 'cloud', 'humidity', 'precipitation', 'pressure', 'time_sin', 'time_cos', 'month_sin', 'month_cos', 'predict_time', 'features', 'rawPrediction', 'probability', 'weather_label', 'temperature_after_3_hour_pred', 'feelslike_after_3_hour_pred', 'wind_after_3_hour_pred']\n✅ Regression model cho direction_after_3_hour xong, columns hiện tại: ['time', 'month', 'temperature', 'feelslike', 'wind', 'direction', 'gust', 'cloud', 'humidity', 'precipitation', 'pressure', 'time_sin', 'time_cos', 'month_sin', 'month_cos', 'predict_time', 'features', 'rawPrediction', 'probability', 'weather_label', 'temperature_after_3_hour_pred', 'feelslike_after_3_hour_pred', 'wind_after_3_hour_pred', 'direction_after_3_hour_pred']\n✅ Regression model cho gust_after_3_hour xong, columns hiện tại: ['time', 'month', 'temperature', 'feelslike', 'wind', 'direction', 'gust', 'cloud', 'humidity', 'precipitation', 'pressure', 'time_sin', 'time_cos', 'month_sin', 'month_cos', 'predict_time', 'features', 'rawPrediction', 'probability', 'weather_label', 'temperature_after_3_hour_pred', 'feelslike_after_3_hour_pred', 'wind_after_3_hour_pred', 'direction_after_3_hour_pred', 'gust_after_3_hour_pred']\n✅ Regression model cho cloud_after_3_hour xong, columns hiện tại: ['time', 'month', 'temperature', 'feelslike', 'wind', 'direction', 'gust', 'cloud', 'humidity', 'precipitation', 'pressure', 'time_sin', 'time_cos', 'month_sin', 'month_cos', 'predict_time', 'features', 'rawPrediction', 'probability', 'weather_label', 'temperature_after_3_hour_pred', 'feelslike_after_3_hour_pred', 'wind_after_3_hour_pred', 'direction_after_3_hour_pred', 'gust_after_3_hour_pred', 'cloud_after_3_hour_pred']\n✅ Regression model cho humidity_after_3_hour xong, columns hiện tại: ['time', 'month', 'temperature', 'feelslike', 'wind', 'direction', 'gust', 'cloud', 'humidity', 'precipitation', 'pressure', 'time_sin', 'time_cos', 'month_sin', 'month_cos', 'predict_time', 'features', 'rawPrediction', 'probability', 'weather_label', 'temperature_after_3_hour_pred', 'feelslike_after_3_hour_pred', 'wind_after_3_hour_pred', 'direction_after_3_hour_pred', 'gust_after_3_hour_pred', 'cloud_after_3_hour_pred', 'humidity_after_3_hour_pred']\n✅ Regression model cho precipitation_after_3_hour xong, columns hiện tại: ['time', 'month', 'temperature', 'feelslike', 'wind', 'direction', 'gust', 'cloud', 'humidity', 'precipitation', 'pressure', 'time_sin', 'time_cos', 'month_sin', 'month_cos', 'predict_time', 'features', 'rawPrediction', 'probability', 'weather_label', 'temperature_after_3_hour_pred', 'feelslike_after_3_hour_pred', 'wind_after_3_hour_pred', 'direction_after_3_hour_pred', 'gust_after_3_hour_pred', 'cloud_after_3_hour_pred', 'humidity_after_3_hour_pred', 'precipitation_after_3_hour_pred']\n✅ Regression model cho pressure_after_3_hour xong, columns hiện tại: ['time', 'month', 'temperature', 'feelslike', 'wind', 'direction', 'gust', 'cloud', 'humidity', 'precipitation', 'pressure', 'time_sin', 'time_cos', 'month_sin', 'month_cos', 'predict_time', 'features', 'rawPrediction', 'probability', 'weather_label', 'temperature_after_3_hour_pred', 'feelslike_after_3_hour_pred', 'wind_after_3_hour_pred', 'direction_after_3_hour_pred', 'gust_after_3_hour_pred', 'cloud_after_3_hour_pred', 'humidity_after_3_hour_pred', 'precipitation_after_3_hour_pred', 'pressure_after_3_hour_pred']\n◀ Kết thúc dự đoán regression\n✅ Tất cả bước dự đoán đã xong\nColumns cuối cùng: ['time', 'month', 'temperature', 'feelslike', 'wind', 'direction', 'gust', 'cloud', 'humidity', 'precipitation', 'pressure', 'time_sin', 'time_cos', 'month_sin', 'month_cos', 'predict_time', 'features', 'rawPrediction', 'probability', 'weather_label', 'temperature_after_3_hour_pred', 'feelslike_after_3_hour_pred', 'wind_after_3_hour_pred', 'direction_after_3_hour_pred', 'gust_after_3_hour_pred', 'cloud_after_3_hour_pred', 'humidity_after_3_hour_pred', 'precipitation_after_3_hour_pred', 'pressure_after_3_hour_pred', 'direction_label']\n✅ Đã ghi batch 1 vào Delta Lake tại dbfs:/user/hive/warehouse/dailong0705/yourusers/delta/gold/weather_predictions/\nTotal records to print: 1\n📦 Processing batch 2...\n📊 Schema + Sample records trước khi drop NA:\n+---------+-----+-----------+---------+----+---------+----+-----+--------+-------------+--------+-------------------+-------------------+-------------------+-------------------+-------------------+\n|time     |month|temperature|feelslike|wind|direction|gust|cloud|humidity|precipitation|pressure|time_sin           |time_cos           |month_sin          |month_cos          |predict_time       |\n+---------+-----+-----------+---------+----+---------+----+-----+--------+-------------+--------+-------------------+-------------------+-------------------+-------------------+-------------------+\n|10.9     |5.0  |26.2       |28.2     |9.7 |9        |14.0|0.0  |61.0    |0.0          |1016.0  |0.2840154404598496 |-0.9588197065039901|0.49999999999999994|-0.8660254037844387|2025-05-26 10:53:59|\n|10.9     |5.0  |26.2       |28.2     |9.7 |9        |14.0|0.0  |61.0    |0.0          |1016.0  |0.2840154404598496 |-0.9588197065039901|0.49999999999999994|-0.8660254037844387|2025-05-26 10:53:59|\n|10.9     |5.0  |26.2       |28.2     |9.7 |9        |14.0|0.0  |61.0    |0.0          |1016.0  |0.2840154404598496 |-0.9588197065039901|0.49999999999999994|-0.8660254037844387|2025-05-26 10:53:59|\n|10.9     |5.0  |26.2       |28.2     |9.7 |9        |14.0|0.0  |61.0    |0.0          |1016.0  |0.2840154404598496 |-0.9588197065039901|0.49999999999999994|-0.8660254037844387|2025-05-26 10:53:59|\n|10.9     |5.0  |26.2       |28.2     |9.7 |9        |14.0|0.0  |61.0    |0.0          |1016.0  |0.2840154404598496 |-0.9588197065039901|0.49999999999999994|-0.8660254037844387|2025-05-26 10:53:59|\n|10.9     |5.0  |26.2       |28.2     |9.7 |9        |14.0|0.0  |61.0    |0.0          |1016.0  |0.2840154404598496 |-0.9588197065039901|0.49999999999999994|-0.8660254037844387|2025-05-26 10:53:59|\n|10.9     |5.0  |26.2       |28.2     |9.7 |9        |14.0|0.0  |61.0    |0.0          |1016.0  |0.2840154404598496 |-0.9588197065039901|0.49999999999999994|-0.8660254037844387|2025-05-26 10:53:59|\n|10.9     |5.0  |26.2       |28.2     |9.7 |9        |14.0|0.0  |61.0    |0.0          |1016.0  |0.2840154404598496 |-0.9588197065039901|0.49999999999999994|-0.8660254037844387|2025-05-26 10:53:59|\n|10.983334|5.0  |26.2       |28.2     |9.7 |9        |14.0|0.0  |61.0    |0.0          |1016.0  |0.26303115022337314|-0.9647873413411732|0.49999999999999994|-0.8660254037844387|2025-05-26 10:59:00|\n|10.983334|5.0  |26.2       |28.2     |9.7 |9        |14.0|0.0  |61.0    |0.0          |1016.0  |0.26303115022337314|-0.9647873413411732|0.49999999999999994|-0.8660254037844387|2025-05-26 10:59:00|\n|10.983334|5.0  |26.2       |28.2     |9.7 |9        |14.0|0.0  |61.0    |0.0          |1016.0  |0.26303115022337314|-0.9647873413411732|0.49999999999999994|-0.8660254037844387|2025-05-26 10:59:00|\n|10.983334|5.0  |26.2       |28.2     |9.7 |9        |14.0|0.0  |61.0    |0.0          |1016.0  |0.26303115022337314|-0.9647873413411732|0.49999999999999994|-0.8660254037844387|2025-05-26 10:59:00|\n+---------+-----+-----------+---------+----+---------+----+-----+--------+-------------+--------+-------------------+-------------------+-------------------+-------------------+-------------------+\n\nroot\n |-- time: float (nullable = true)\n |-- month: float (nullable = true)\n |-- temperature: float (nullable = true)\n |-- feelslike: float (nullable = true)\n |-- wind: float (nullable = true)\n |-- direction: integer (nullable = true)\n |-- gust: float (nullable = true)\n |-- cloud: float (nullable = true)\n |-- humidity: float (nullable = true)\n |-- precipitation: float (nullable = true)\n |-- pressure: float (nullable = true)\n |-- time_sin: double (nullable = true)\n |-- time_cos: double (nullable = true)\n |-- month_sin: double (nullable = true)\n |-- month_cos: double (nullable = true)\n |-- predict_time: string (nullable = true)\n\n🔍 Trước vector hóa: 12 bản ghi\n✅ Vector hóa xong\n✅ Phân loại xong\n▶ Bắt đầu dự đoán regression\n✅ Regression model cho temperature_after_3_hour xong, columns hiện tại: ['time', 'month', 'temperature', 'feelslike', 'wind', 'direction', 'gust', 'cloud', 'humidity', 'precipitation', 'pressure', 'time_sin', 'time_cos', 'month_sin', 'month_cos', 'predict_time', 'features', 'rawPrediction', 'probability', 'weather_label', 'temperature_after_3_hour_pred']\n✅ Regression model cho feelslike_after_3_hour xong, columns hiện tại: ['time', 'month', 'temperature', 'feelslike', 'wind', 'direction', 'gust', 'cloud', 'humidity', 'precipitation', 'pressure', 'time_sin', 'time_cos', 'month_sin', 'month_cos', 'predict_time', 'features', 'rawPrediction', 'probability', 'weather_label', 'temperature_after_3_hour_pred', 'feelslike_after_3_hour_pred']\n✅ Regression model cho wind_after_3_hour xong, columns hiện tại: ['time', 'month', 'temperature', 'feelslike', 'wind', 'direction', 'gust', 'cloud', 'humidity', 'precipitation', 'pressure', 'time_sin', 'time_cos', 'month_sin', 'month_cos', 'predict_time', 'features', 'rawPrediction', 'probability', 'weather_label', 'temperature_after_3_hour_pred', 'feelslike_after_3_hour_pred', 'wind_after_3_hour_pred']\n✅ Regression model cho direction_after_3_hour xong, columns hiện tại: ['time', 'month', 'temperature', 'feelslike', 'wind', 'direction', 'gust', 'cloud', 'humidity', 'precipitation', 'pressure', 'time_sin', 'time_cos', 'month_sin', 'month_cos', 'predict_time', 'features', 'rawPrediction', 'probability', 'weather_label', 'temperature_after_3_hour_pred', 'feelslike_after_3_hour_pred', 'wind_after_3_hour_pred', 'direction_after_3_hour_pred']\n✅ Regression model cho gust_after_3_hour xong, columns hiện tại: ['time', 'month', 'temperature', 'feelslike', 'wind', 'direction', 'gust', 'cloud', 'humidity', 'precipitation', 'pressure', 'time_sin', 'time_cos', 'month_sin', 'month_cos', 'predict_time', 'features', 'rawPrediction', 'probability', 'weather_label', 'temperature_after_3_hour_pred', 'feelslike_after_3_hour_pred', 'wind_after_3_hour_pred', 'direction_after_3_hour_pred', 'gust_after_3_hour_pred']\n✅ Regression model cho cloud_after_3_hour xong, columns hiện tại: ['time', 'month', 'temperature', 'feelslike', 'wind', 'direction', 'gust', 'cloud', 'humidity', 'precipitation', 'pressure', 'time_sin', 'time_cos', 'month_sin', 'month_cos', 'predict_time', 'features', 'rawPrediction', 'probability', 'weather_label', 'temperature_after_3_hour_pred', 'feelslike_after_3_hour_pred', 'wind_after_3_hour_pred', 'direction_after_3_hour_pred', 'gust_after_3_hour_pred', 'cloud_after_3_hour_pred']\n✅ Regression model cho humidity_after_3_hour xong, columns hiện tại: ['time', 'month', 'temperature', 'feelslike', 'wind', 'direction', 'gust', 'cloud', 'humidity', 'precipitation', 'pressure', 'time_sin', 'time_cos', 'month_sin', 'month_cos', 'predict_time', 'features', 'rawPrediction', 'probability', 'weather_label', 'temperature_after_3_hour_pred', 'feelslike_after_3_hour_pred', 'wind_after_3_hour_pred', 'direction_after_3_hour_pred', 'gust_after_3_hour_pred', 'cloud_after_3_hour_pred', 'humidity_after_3_hour_pred']\n✅ Regression model cho precipitation_after_3_hour xong, columns hiện tại: ['time', 'month', 'temperature', 'feelslike', 'wind', 'direction', 'gust', 'cloud', 'humidity', 'precipitation', 'pressure', 'time_sin', 'time_cos', 'month_sin', 'month_cos', 'predict_time', 'features', 'rawPrediction', 'probability', 'weather_label', 'temperature_after_3_hour_pred', 'feelslike_after_3_hour_pred', 'wind_after_3_hour_pred', 'direction_after_3_hour_pred', 'gust_after_3_hour_pred', 'cloud_after_3_hour_pred', 'humidity_after_3_hour_pred', 'precipitation_after_3_hour_pred']\n✅ Regression model cho pressure_after_3_hour xong, columns hiện tại: ['time', 'month', 'temperature', 'feelslike', 'wind', 'direction', 'gust', 'cloud', 'humidity', 'precipitation', 'pressure', 'time_sin', 'time_cos', 'month_sin', 'month_cos', 'predict_time', 'features', 'rawPrediction', 'probability', 'weather_label', 'temperature_after_3_hour_pred', 'feelslike_after_3_hour_pred', 'wind_after_3_hour_pred', 'direction_after_3_hour_pred', 'gust_after_3_hour_pred', 'cloud_after_3_hour_pred', 'humidity_after_3_hour_pred', 'precipitation_after_3_hour_pred', 'pressure_after_3_hour_pred']\n◀ Kết thúc dự đoán regression\n✅ Tất cả bước dự đoán đã xong\nColumns cuối cùng: ['time', 'month', 'temperature', 'feelslike', 'wind', 'direction', 'gust', 'cloud', 'humidity', 'precipitation', 'pressure', 'time_sin', 'time_cos', 'month_sin', 'month_cos', 'predict_time', 'features', 'rawPrediction', 'probability', 'weather_label', 'temperature_after_3_hour_pred', 'feelslike_after_3_hour_pred', 'wind_after_3_hour_pred', 'direction_after_3_hour_pred', 'gust_after_3_hour_pred', 'cloud_after_3_hour_pred', 'humidity_after_3_hour_pred', 'precipitation_after_3_hour_pred', 'pressure_after_3_hour_pred', 'direction_label']\n✅ Đã ghi batch 2 vào Delta Lake tại dbfs:/user/hive/warehouse/dailong0705/yourusers/delta/gold/weather_predictions/\nTotal records to print: 12\n📦 Processing batch 3...\n📊 Schema + Sample records trước khi drop NA:\n+---------+-----+-----------+---------+----+---------+----+-----+--------+-------------+--------+-------------------+-------------------+-------------------+-------------------+-------------------+\n|time     |month|temperature|feelslike|wind|direction|gust|cloud|humidity|precipitation|pressure|time_sin           |time_cos           |month_sin          |month_cos          |predict_time       |\n+---------+-----+-----------+---------+----+---------+----+-----+--------+-------------+--------+-------------------+-------------------+-------------------+-------------------+-------------------+\n|10.983334|5.0  |26.2       |28.2     |9.7 |9        |14.0|0.0  |61.0    |0.0          |1016.0  |0.26303115022337314|-0.9647873413411732|0.49999999999999994|-0.8660254037844387|2025-05-26 10:59:00|\n|10.983334|5.0  |26.2       |28.2     |9.7 |9        |14.0|0.0  |61.0    |0.0          |1016.0  |0.26303115022337314|-0.9647873413411732|0.49999999999999994|-0.8660254037844387|2025-05-26 10:59:00|\n|10.983334|5.0  |26.2       |28.2     |9.7 |9        |14.0|0.0  |61.0    |0.0          |1016.0  |0.26303115022337314|-0.9647873413411732|0.49999999999999994|-0.8660254037844387|2025-05-26 10:59:00|\n|10.983334|5.0  |26.2       |28.2     |9.7 |9        |14.0|0.0  |61.0    |0.0          |1016.0  |0.26303115022337314|-0.9647873413411732|0.49999999999999994|-0.8660254037844387|2025-05-26 10:59:00|\n|10.983334|5.0  |26.2       |28.2     |9.7 |9        |14.0|0.0  |61.0    |0.0          |1016.0  |0.26303115022337314|-0.9647873413411732|0.49999999999999994|-0.8660254037844387|2025-05-26 10:59:00|\n|10.983334|5.0  |26.2       |28.2     |9.7 |9        |14.0|0.0  |61.0    |0.0          |1016.0  |0.26303115022337314|-0.9647873413411732|0.49999999999999994|-0.8660254037844387|2025-05-26 10:59:00|\n|10.983334|5.0  |26.2       |28.2     |9.7 |9        |14.0|0.0  |61.0    |0.0          |1016.0  |0.26303115022337314|-0.9647873413411732|0.49999999999999994|-0.8660254037844387|2025-05-26 10:59:00|\n|10.983334|5.0  |26.2       |28.2     |9.7 |9        |14.0|0.0  |61.0    |0.0          |1016.0  |0.26303115022337314|-0.9647873413411732|0.49999999999999994|-0.8660254037844387|2025-05-26 10:59:00|\n|10.983334|5.0  |26.2       |28.2     |9.7 |9        |14.0|0.0  |61.0    |0.0          |1016.0  |0.26303115022337314|-0.9647873413411732|0.49999999999999994|-0.8660254037844387|2025-05-26 10:59:00|\n|10.983334|5.0  |26.2       |28.2     |9.7 |9        |14.0|0.0  |61.0    |0.0          |1016.0  |0.26303115022337314|-0.9647873413411732|0.49999999999999994|-0.8660254037844387|2025-05-26 10:59:00|\n|10.983334|5.0  |26.2       |28.2     |9.7 |9        |14.0|0.0  |61.0    |0.0          |1016.0  |0.26303115022337314|-0.9647873413411732|0.49999999999999994|-0.8660254037844387|2025-05-26 10:59:00|\n+---------+-----+-----------+---------+----+---------+----+-----+--------+-------------+--------+-------------------+-------------------+-------------------+-------------------+-------------------+\n\nroot\n |-- time: float (nullable = true)\n |-- month: float (nullable = true)\n |-- temperature: float (nullable = true)\n |-- feelslike: float (nullable = true)\n |-- wind: float (nullable = true)\n |-- direction: integer (nullable = true)\n |-- gust: float (nullable = true)\n |-- cloud: float (nullable = true)\n |-- humidity: float (nullable = true)\n |-- precipitation: float (nullable = true)\n |-- pressure: float (nullable = true)\n |-- time_sin: double (nullable = true)\n |-- time_cos: double (nullable = true)\n |-- month_sin: double (nullable = true)\n |-- month_cos: double (nullable = true)\n |-- predict_time: string (nullable = true)\n\n🔍 Trước vector hóa: 11 bản ghi\n✅ Vector hóa xong\n✅ Phân loại xong\n▶ Bắt đầu dự đoán regression\n"
     ]
    },
    {
     "output_type": "display_data",
     "data": {
      "text/html": [
       "<style scoped>\n",
       "  .ansiout {\n",
       "    display: block;\n",
       "    unicode-bidi: embed;\n",
       "    white-space: pre-wrap;\n",
       "    word-wrap: break-word;\n",
       "    word-break: break-all;\n",
       "    font-family: \"Menlo\", \"Monaco\", \"Consolas\", \"Ubuntu Mono\", \"Source Code Pro\", monospace;\n",
       "    font-size: 13px;\n",
       "    color: #555;\n",
       "    margin-left: 4px;\n",
       "    line-height: 19px;\n",
       "  }\n",
       "</style>"
      ]
     },
     "metadata": {
      "application/vnd.databricks.v1+output": {
       "arguments": {},
       "data": "",
       "errorSummary": "Cancelled",
       "errorTraceType": "html",
       "metadata": {},
       "type": "ipynbError"
      }
     },
     "output_type": "display_data"
    }
   ],
   "source": [
    "from pyspark.sql import SparkSession\n",
    "from pyspark.sql.functions import col, from_json, udf\n",
    "from pyspark.sql.types import StructType, StructField, FloatType, IntegerType, StringType\n",
    "from pyspark.ml.feature import VectorAssembler\n",
    "from pyspark.ml.classification import RandomForestClassificationModel\n",
    "from pyspark.ml.regression import RandomForestRegressionModel\n",
    "from pyspark.sql.functions import sin, cos, col, lit\n",
    "from pyspark.sql.functions import expr\n",
    "import datetime\n",
    "import math\n",
    "import os\n",
    "\n",
    "# 1. SparkSession\n",
    "spark = SparkSession.builder.appName(\"WeatherPredictionFromKafka\").getOrCreate()\n",
    "\n",
    "log_dir = \"/dbfs/tmp\"\n",
    "os.makedirs(log_dir, exist_ok=True)\n",
    "\n",
    "# 2. Mappings\n",
    "weather_reverse_mapping = {\n",
    "    0: 'Partly cloudy', 1: 'Clear', 2: 'Sunny', 3: 'Patchy rain possible',\n",
    "    4: 'Moderate or heavy rain shower', 5: 'Cloudy', 6: 'Light rain shower',\n",
    "    7: 'Overcast', 8: 'Thundery outbreaks possible', 9: 'Torrential rain shower',\n",
    "    10: 'Patchy light rain', 11: 'Patchy light rain with thunder',\n",
    "    12: 'Patchy light drizzle', 13: 'Light rain', 14: 'Light drizzle',\n",
    "    15: 'Mist', 16: 'Moderate rain at times', 17: 'Moderate rain',\n",
    "    18: 'Heavy rain', 19: 'Heavy rain at times'\n",
    "}\n",
    "\n",
    "direction_map = {\n",
    "    0: 'SE', 1: 'WSW', 2: 'SW', 3: 'ESE', 4: 'SSE', 5: 'E', 6: 'SSW',\n",
    "    7: 'W', 8: 'ENE', 9: 'NNE', 10: 'NE', 11: 'S', 12: 'WNW',\n",
    "    13: 'N', 14: 'NNW', 15: 'NW'\n",
    "}\n",
    "\n",
    "# 3. Schema từ Kafka\n",
    "schema = StructType([\n",
    "    StructField(\"time\", StringType()),\n",
    "    StructField(\"month\", FloatType()),\n",
    "    StructField(\"temperature\", FloatType()),\n",
    "    StructField(\"feelslike\", FloatType()),\n",
    "    StructField(\"wind\", FloatType()),\n",
    "    StructField(\"direction\", StringType()),\n",
    "    StructField(\"gust\", FloatType()),\n",
    "    StructField(\"cloud\", FloatType()),\n",
    "    StructField(\"humidity\", FloatType()),\n",
    "    StructField(\"precipitation\", FloatType()),\n",
    "    StructField(\"pressure\", FloatType())\n",
    "    #StructField(\"pressure\", FloatType()),\n",
    "    #StructField(\"time_sin\", FloatType()),\n",
    "    #StructField(\"time_cos\", FloatType()),\n",
    "    #StructField(\"month_sin\", FloatType()),\n",
    "    #StructField(\"month_cos\", FloatType())\n",
    "])\n",
    "\n",
    "input_cols = [field.name for field in schema.fields]\n",
    "\n",
    "#4. UDFs\n",
    "# Hàm decode weather dựa trên weather_reverse_mapping\n",
    "\n",
    "def decode_weather(prediction):\n",
    "    return weather_reverse_mapping.get(int(prediction), \"Unknown\")\n",
    "\n",
    "decode_weather_udf = udf(decode_weather, StringType())\n",
    "# UDF để chuyển string sang số\n",
    "def decode_direction(prediction):\n",
    "    return direction_map.get(int(prediction), \"Unknown\")\n",
    "\n",
    "decode_direction_udf = udf(decode_direction, StringType())\n",
    "\n",
    "# Hàm direction từ chữ (string) → số (để xử lý đầu vào nếu cần)\n",
    "inv_direction_map = {v: k for k, v in direction_map.items()}\n",
    "\n",
    "def direction_str_to_int(dir_str):\n",
    "    if dir_str is None:\n",
    "        return None\n",
    "    return inv_direction_map.get(dir_str, None)\n",
    "\n",
    "direction_str_to_int_udf = udf(direction_str_to_int, IntegerType())\n",
    "\n",
    "# Hàm time dạng \"HH:mm\" → float\n",
    "def time_str_to_float(t_str):\n",
    "    try:\n",
    "        h, m = t_str.split(\":\")\n",
    "        return float(h) + float(m)/60.0\n",
    "    except:\n",
    "        return None\n",
    "\n",
    "time_str_to_float_udf = udf(time_str_to_float, FloatType())\n",
    "\n",
    "\n",
    "# Tạo UDF Spark\n",
    "decode_weather_udf = udf(decode_weather, StringType())\n",
    "decode_direction_udf = udf(decode_direction, StringType())\n",
    "\n",
    "# 5. Đọc từ Kafka\n",
    "kafka_df = (\n",
    "    spark.readStream.format(\"kafka\")\n",
    "    .option(\"kafka.bootstrap.servers\", \"weather-kafka-dailong0705-b809.e.aivencloud.com:13010\")\n",
    "    .option(\"subscribe\", \"weather_topic\")\n",
    "    .option(\"startingOffsets\", \"latest\")\n",
    "    .option(\"kafka.security.protocol\", \"SSL\")\n",
    "    .option(\"kafka.security.protocol\", \"SSL\") \\\n",
    "    .option(\"kafka.ssl.truststore.location\", \"/tmp/truststore.jks\") \\\n",
    "    .option(\"kafka.ssl.truststore.password\", \"mypass123\") \\\n",
    "    .option(\"kafka.ssl.keystore.location\", \"/tmp/keystore.jks\") \\\n",
    "    .option(\"kafka.ssl.keystore.password\", \"mypass123\") \\\n",
    "    .option(\"kafka.ssl.key.password\", \"mypass123\")\n",
    "    .load()\n",
    ")\n",
    "json_df = kafka_df.select(from_json(col(\"value\").cast(\"string\"), schema).alias(\"data\")).select(\"data.*\")\n",
    "    \n",
    "df = json_df \\\n",
    "    .withColumn(\"time\", time_str_to_float_udf(col(\"time\"))) \\\n",
    "    .withColumn(\"direction\", direction_str_to_int_udf(col(\"direction\")))\n",
    "\n",
    "\n",
    "# Tiếp tục tính sin, cos cho time, month như bình thường\n",
    "df = df.withColumn(\"time_sin\", sin(2 * math.pi * col(\"time\") / 24)) \\\n",
    "       .withColumn(\"time_cos\", cos(2 * math.pi * col(\"time\") / 24)) \\\n",
    "       .withColumn(\"month_sin\", sin(2 * math.pi * col(\"month\") / 12)) \\\n",
    "       .withColumn(\"month_cos\", cos(2 * math.pi * col(\"month\") / 12))\n",
    "\n",
    "# Đã chuẩn bị đủ các cột đầu vào, khai báo input_cols dùng cho VectorAssembler\n",
    "input_cols = [\n",
    "    \"time\", \"month\", \"temperature\", \"feelslike\", \"wind\", \"direction\",\n",
    "    \"gust\", \"cloud\", \"humidity\", \"precipitation\", \"pressure\",\n",
    "    \"time_sin\", \"time_cos\", \"month_sin\", \"month_cos\"\n",
    "]\n",
    "\n",
    "# 6. Load models (chỉ load 1 lần ngoài foreachBatch)\n",
    "assembler = VectorAssembler(inputCols=input_cols, outputCol=\"features\", handleInvalid=\"skip\")\n",
    "try:\n",
    "    clf_model = RandomForestClassificationModel.load(\"dbfs:/user/hive/warehouse/dailong0705/yourusers/weather_classifier_model\")\n",
    "except Exception as e:\n",
    "    print(f\"Lỗi load classification model: {e}\")\n",
    "regression_targets = [\n",
    "    'temperature_after_3_hour', 'feelslike_after_3_hour', 'wind_after_3_hour',\n",
    "    'direction_after_3_hour', 'gust_after_3_hour', 'cloud_after_3_hour',\n",
    "    'humidity_after_3_hour', 'precipitation_after_3_hour', 'pressure_after_3_hour'\n",
    "]\n",
    "regression_models = {\n",
    "    target: RandomForestRegressionModel.load(f\"dbfs:/user/hive/warehouse/dailong0705/yourusers/{target}_model\")\n",
    "    for target in regression_targets\n",
    "}\n",
    "\n",
    "def time_to_datetime(time_float, month_float):\n",
    "    if time_float is None or month_float is None:\n",
    "        return None\n",
    "    try:\n",
    "        now = datetime.datetime.now()  # lấy thời điểm hiện tại\n",
    "        day = now.day  # lấy ngày hiện tại\n",
    "        hour = int(time_float % 24)\n",
    "        minute_float = (time_float - int(time_float)) * 60\n",
    "        minute = int(minute_float)\n",
    "        second = int((minute_float - minute) * 60)\n",
    "        dt = datetime.datetime(2025, int(month_float), day, hour, minute, second)\n",
    "        return dt.strftime(\"%Y-%m-%d %H:%M:%S\")\n",
    "    except Exception as e:\n",
    "        print(\"Lỗi trong time_to_datetime:\", e)\n",
    "        return None\n",
    "\n",
    "\n",
    "time_to_datetime_udf = udf(time_to_datetime, StringType())\n",
    "\n",
    "# Sau khi định nghĩa xong thì dùng trong DataFrame:\n",
    "df = df.withColumn(\"predict_time\", time_to_datetime_udf(col(\"time\"), col(\"month\")))\n",
    "\n",
    "\n",
    "time_to_datetime_udf = udf(time_to_datetime, StringType())\n",
    "# 7. Xử lý trong mỗi batch\n",
    "def predict_batch(batch_df, batch_id):\n",
    "    if batch_df.rdd.isEmpty():\n",
    "        print(f\"📭 Batch {batch_id} is empty.\")\n",
    "        return\n",
    "\n",
    "    print(f\"📦 Processing batch {batch_id}...\")\n",
    "\n",
    "    df = batch_df.cache()\n",
    "\n",
    "    print(\"📊 Schema + Sample records trước khi drop NA:\")\n",
    "    df.show(truncate=False)\n",
    "    df.printSchema()\n",
    "    df = df.na.drop(subset=input_cols)\n",
    "    print(f\"🔍 Trước vector hóa: {df.count()} bản ghi\")\n",
    "\n",
    "    df = assembler.transform(df)\n",
    "    print(\"✅ Vector hóa xong\")\n",
    "\n",
    "    df = clf_model.transform(df)\n",
    "    print(\"✅ Phân loại xong\")\n",
    "    df = df.withColumn(\"weather_label\", decode_weather_udf(col(\"prediction\")))\n",
    "    df = df.drop(\"prediction\")\n",
    "\n",
    "    print(\"▶ Bắt đầu dự đoán regression\")\n",
    "    for target, model in regression_models.items():\n",
    "        pred_col = f\"{target}_pred\"\n",
    "        if \"prediction\" in df.columns:\n",
    "            df = df.drop(\"prediction\")\n",
    "        df = model.transform(df)\n",
    "        df = df.withColumn(pred_col, col(\"prediction\")).drop(\"prediction\")\n",
    "        print(f\"✅ Regression model cho {target} xong, columns hiện tại: {df.columns}\")\n",
    "    print(\"◀ Kết thúc dự đoán regression\")\n",
    "\n",
    "    df = df.withColumn(\"direction_label\", decode_direction_udf(col(\"direction_after_3_hour_pred\")))\n",
    "\n",
    "    print(\"✅ Tất cả bước dự đoán đã xong\")\n",
    "    print(\"Columns cuối cùng:\", df.columns)\n",
    "\n",
    "    results_df = df.select(\n",
    "        \"predict_time\",\"temperature\", \"wind\", \"direction\", \"gust\", \"cloud\", \"humidity\", \"precipitation\", \"pressure\", \n",
    "        \"direction_label\",  \"weather_label\",   \n",
    "        *[f\"{target}_pred\" for target in regression_targets]\n",
    "    )\n",
    "    # Đường dẫn ghi ra Delta Lake\n",
    "    output_path = \"dbfs:/user/hive/warehouse/dailong0705/yourusers/delta/gold/weather_predictions/\"\n",
    "    # Ghi kết quả dự đoán vào Delta Lake\n",
    "    results_df.write.format(\"delta\").mode(\"append\").save(output_path)\n",
    "\n",
    "    print(f\"✅ Đã ghi batch {batch_id} vào Delta Lake tại {output_path}\")\n",
    "\n",
    "    results = results_df.collect()\n",
    "    print(f\"Total records to print: {len(results)}\")\n",
    "\n",
    "# 8. Kết nối stream\n",
    "query = df.writeStream.foreachBatch(predict_batch).start()\n",
    "query.awaitTermination()\n",
    "\n"
   ]
  },
  {
   "cell_type": "code",
   "execution_count": 0,
   "metadata": {
    "application/vnd.databricks.v1+cell": {
     "cellMetadata": {
      "byteLimit": 2048000,
      "rowLimit": 10000
     },
     "inputWidgets": {},
     "nuid": "4b921c15-b11a-46e8-85bf-25a836f6d0c4",
     "showTitle": false,
     "tableResultSettingsMap": {},
     "title": ""
    }
   },
   "outputs": [
    {
     "output_type": "stream",
     "name": "stdout",
     "output_type": "stream",
     "text": [
      "+-------------------+-----------+----+---------+----+-----+--------+-------------+--------+---------------+-------------+-----------------------------+---------------------------+----------------------+---------------------------+----------------------+-----------------------+--------------------------+-------------------------------+--------------------------+\n|predict_time       |temperature|wind|direction|gust|cloud|humidity|precipitation|pressure|direction_label|weather_label|temperature_after_3_hour_pred|feelslike_after_3_hour_pred|wind_after_3_hour_pred|direction_after_3_hour_pred|gust_after_3_hour_pred|cloud_after_3_hour_pred|humidity_after_3_hour_pred|precipitation_after_3_hour_pred|pressure_after_3_hour_pred|\n+-------------------+-----------+----+---------+----+-----+--------+-------------+--------+---------------+-------------+-----------------------------+---------------------------+----------------------+---------------------------+----------------------+-----------------------+--------------------------+-------------------------------+--------------------------+\n|2025-05-26 10:59:00|26.2       |9.7 |9        |14.0|0.0  |61.0    |0.0          |1016.0  |SSW            |Partly cloudy|27.381976209662483           |30.386748562823858         |9.988345060443441     |6.600158639258053          |13.056847067702645    |36.65721710416983      |55.01838177266504         |1.562969532839439              |1011.1485871765746        |\n|2025-05-26 10:59:00|26.2       |9.7 |9        |14.0|0.0  |61.0    |0.0          |1016.0  |SSW            |Partly cloudy|27.381976209662483           |30.386748562823858         |9.988345060443441     |6.600158639258053          |13.056847067702645    |36.65721710416983      |55.01838177266504         |1.562969532839439              |1011.1485871765746        |\n|2025-05-26 10:59:00|26.2       |9.7 |9        |14.0|0.0  |61.0    |0.0          |1016.0  |SSW            |Partly cloudy|27.381976209662483           |30.386748562823858         |9.988345060443441     |6.600158639258053          |13.056847067702645    |36.65721710416983      |55.01838177266504         |1.562969532839439              |1011.1485871765746        |\n|2025-05-26 10:59:00|26.2       |9.7 |9        |14.0|0.0  |61.0    |0.0          |1016.0  |SSW            |Partly cloudy|27.381976209662483           |30.386748562823858         |9.988345060443441     |6.600158639258053          |13.056847067702645    |36.65721710416983      |55.01838177266504         |1.562969532839439              |1011.1485871765746        |\n|2025-05-26 10:53:59|26.2       |9.7 |9        |14.0|0.0  |61.0    |0.0          |1016.0  |SSW            |Partly cloudy|27.381976209662483           |30.386748562823858         |9.988345060443441     |6.600158639258053          |13.056847067702645    |36.65721710416983      |55.01838177266504         |1.562969532839439              |1011.1485871765746        |\n|2025-05-26 10:53:59|26.2       |9.7 |9        |14.0|0.0  |61.0    |0.0          |1016.0  |SSW            |Partly cloudy|27.381976209662483           |30.386748562823858         |9.988345060443441     |6.600158639258053          |13.056847067702645    |36.65721710416983      |55.01838177266504         |1.562969532839439              |1011.1485871765746        |\n|2025-05-26 10:53:59|26.2       |9.7 |9        |14.0|0.0  |61.0    |0.0          |1016.0  |SSW            |Partly cloudy|27.381976209662483           |30.386748562823858         |9.988345060443441     |6.600158639258053          |13.056847067702645    |36.65721710416983      |55.01838177266504         |1.562969532839439              |1011.1485871765746        |\n|2025-05-26 10:53:59|26.2       |9.7 |9        |14.0|0.0  |61.0    |0.0          |1016.0  |SSW            |Partly cloudy|27.381976209662483           |30.386748562823858         |9.988345060443441     |6.600158639258053          |13.056847067702645    |36.65721710416983      |55.01838177266504         |1.562969532839439              |1011.1485871765746        |\n|2025-05-26 10:53:59|26.2       |9.7 |9        |14.0|0.0  |61.0    |0.0          |1016.0  |SSW            |Partly cloudy|27.381976209662483           |30.386748562823858         |9.988345060443441     |6.600158639258053          |13.056847067702645    |36.65721710416983      |55.01838177266504         |1.562969532839439              |1011.1485871765746        |\n|2025-05-26 10:53:59|26.2       |9.7 |9        |14.0|0.0  |61.0    |0.0          |1016.0  |SSW            |Partly cloudy|27.381976209662483           |30.386748562823858         |9.988345060443441     |6.600158639258053          |13.056847067702645    |36.65721710416983      |55.01838177266504         |1.562969532839439              |1011.1485871765746        |\n+-------------------+-----------+----+---------+----+-----+--------+-------------+--------+---------------+-------------+-----------------------------+---------------------------+----------------------+---------------------------+----------------------+-----------------------+--------------------------+-------------------------------+--------------------------+\n\n"
     ]
    }
   ],
   "source": [
    "from pyspark.sql.functions import col\n",
    "\n",
    "df = spark.read.format(\"delta\").load(\"dbfs:/user/hive/warehouse/dailong0705/yourusers/delta/gold/weather_predictions\")\n",
    "\n",
    "df = df.withColumn(\"predict_time\", col(\"predict_time\").cast(\"timestamp\"))\n",
    "\n",
    "latest_df = df.orderBy(col(\"predict_time\").desc()).limit(10)\n",
    "\n",
    "latest_df.show(truncate=False)"
   ]
  },
  {
   "cell_type": "code",
   "execution_count": 0,
   "metadata": {
    "application/vnd.databricks.v1+cell": {
     "cellMetadata": {
      "byteLimit": 2048000,
      "rowLimit": 10000
     },
     "inputWidgets": {},
     "nuid": "b5f88ae6-97bf-4997-8375-ec076e2c01dc",
     "showTitle": false,
     "tableResultSettingsMap": {},
     "title": ""
    }
   },
   "outputs": [
    {
     "output_type": "stream",
     "name": "stdout",
     "output_type": "stream",
     "text": [
      "Out[19]: True"
     ]
    }
   ],
   "source": [
    "dbutils.fs.rm(\"dbfs:/user/hive/warehouse/dailong0705/yourusers/delta/gold/weather_predictions/\", recurse=True)"
   ]
  },
  {
   "cell_type": "code",
   "execution_count": 0,
   "metadata": {
    "application/vnd.databricks.v1+cell": {
     "cellMetadata": {
      "byteLimit": 2048000,
      "rowLimit": 10000
     },
     "inputWidgets": {},
     "nuid": "58a90b54-6b0b-4bc4-ac2e-f12250ff1f85",
     "showTitle": false,
     "tableResultSettingsMap": {},
     "title": ""
    }
   },
   "outputs": [
    {
     "output_type": "stream",
     "name": "stdout",
     "output_type": "stream",
     "text": [
      "Out[16]: True"
     ]
    }
   ],
   "source": [
    "dbutils.fs.mkdirs(\"dbfs:/user/hive/warehouse/dailong0705/yourusers/delta/gold/weather_predictions/\")\n"
   ]
  },
  {
   "cell_type": "code",
   "execution_count": 0,
   "metadata": {
    "application/vnd.databricks.v1+cell": {
     "cellMetadata": {
      "byteLimit": 2048000,
      "rowLimit": 10000
     },
     "inputWidgets": {},
     "nuid": "244c2986-29af-454d-9412-d3c41ed679fd",
     "showTitle": false,
     "tableResultSettingsMap": {},
     "title": ""
    }
   },
   "outputs": [
    {
     "output_type": "stream",
     "name": "stdout",
     "output_type": "stream",
     "text": [
      "+-------------------+-----------+----+---------+----+-----+--------+-------------+--------+---------------+-------------+-----------------------------+---------------------------+----------------------+---------------------------+----------------------+-----------------------+--------------------------+-------------------------------+--------------------------+\n|       predict_time|temperature|wind|direction|gust|cloud|humidity|precipitation|pressure|direction_label|weather_label|temperature_after_3_hour_pred|feelslike_after_3_hour_pred|wind_after_3_hour_pred|direction_after_3_hour_pred|gust_after_3_hour_pred|cloud_after_3_hour_pred|humidity_after_3_hour_pred|precipitation_after_3_hour_pred|pressure_after_3_hour_pred|\n+-------------------+-----------+----+---------+----+-----+--------+-------------+--------+---------------+-------------+-----------------------------+---------------------------+----------------------+---------------------------+----------------------+-----------------------+--------------------------+-------------------------------+--------------------------+\n|2025-05-26 10:53:59|       26.2| 9.7|        9|14.0|  0.0|    61.0|          0.0|  1016.0|            SSW|Partly cloudy|           27.381976209662483|         30.386748562823858|     9.988345060443441|          6.600158639258053|    13.056847067702645|      36.65721710416983|         55.01838177266504|              1.562969532839439|        1011.1485871765746|\n|2025-05-26 10:53:59|       26.2| 9.7|        9|14.0|  0.0|    61.0|          0.0|  1016.0|            SSW|Partly cloudy|           27.381976209662483|         30.386748562823858|     9.988345060443441|          6.600158639258053|    13.056847067702645|      36.65721710416983|         55.01838177266504|              1.562969532839439|        1011.1485871765746|\n|2025-05-26 10:53:59|       26.2| 9.7|        9|14.0|  0.0|    61.0|          0.0|  1016.0|            SSW|Partly cloudy|           27.381976209662483|         30.386748562823858|     9.988345060443441|          6.600158639258053|    13.056847067702645|      36.65721710416983|         55.01838177266504|              1.562969532839439|        1011.1485871765746|\n|2025-05-26 10:53:59|       26.2| 9.7|        9|14.0|  0.0|    61.0|          0.0|  1016.0|            SSW|Partly cloudy|           27.381976209662483|         30.386748562823858|     9.988345060443441|          6.600158639258053|    13.056847067702645|      36.65721710416983|         55.01838177266504|              1.562969532839439|        1011.1485871765746|\n|2025-05-26 10:53:59|       26.2| 9.7|        9|14.0|  0.0|    61.0|          0.0|  1016.0|            SSW|Partly cloudy|           27.381976209662483|         30.386748562823858|     9.988345060443441|          6.600158639258053|    13.056847067702645|      36.65721710416983|         55.01838177266504|              1.562969532839439|        1011.1485871765746|\n|2025-05-26 10:53:59|       26.2| 9.7|        9|14.0|  0.0|    61.0|          0.0|  1016.0|            SSW|Partly cloudy|           27.381976209662483|         30.386748562823858|     9.988345060443441|          6.600158639258053|    13.056847067702645|      36.65721710416983|         55.01838177266504|              1.562969532839439|        1011.1485871765746|\n|2025-05-26 10:53:59|       26.2| 9.7|        9|14.0|  0.0|    61.0|          0.0|  1016.0|            SSW|Partly cloudy|           27.381976209662483|         30.386748562823858|     9.988345060443441|          6.600158639258053|    13.056847067702645|      36.65721710416983|         55.01838177266504|              1.562969532839439|        1011.1485871765746|\n|2025-05-26 10:53:59|       26.2| 9.7|        9|14.0|  0.0|    61.0|          0.0|  1016.0|            SSW|Partly cloudy|           27.381976209662483|         30.386748562823858|     9.988345060443441|          6.600158639258053|    13.056847067702645|      36.65721710416983|         55.01838177266504|              1.562969532839439|        1011.1485871765746|\n|2025-05-26 10:59:00|       26.2| 9.7|        9|14.0|  0.0|    61.0|          0.0|  1016.0|            SSW|Partly cloudy|           27.381976209662483|         30.386748562823858|     9.988345060443441|          6.600158639258053|    13.056847067702645|      36.65721710416983|         55.01838177266504|              1.562969532839439|        1011.1485871765746|\n|2025-05-26 10:59:00|       26.2| 9.7|        9|14.0|  0.0|    61.0|          0.0|  1016.0|            SSW|Partly cloudy|           27.381976209662483|         30.386748562823858|     9.988345060443441|          6.600158639258053|    13.056847067702645|      36.65721710416983|         55.01838177266504|              1.562969532839439|        1011.1485871765746|\n|2025-05-26 10:59:00|       26.2| 9.7|        9|14.0|  0.0|    61.0|          0.0|  1016.0|            SSW|Partly cloudy|           27.381976209662483|         30.386748562823858|     9.988345060443441|          6.600158639258053|    13.056847067702645|      36.65721710416983|         55.01838177266504|              1.562969532839439|        1011.1485871765746|\n|2025-05-26 10:59:00|       26.2| 9.7|        9|14.0|  0.0|    61.0|          0.0|  1016.0|            SSW|Partly cloudy|           27.381976209662483|         30.386748562823858|     9.988345060443441|          6.600158639258053|    13.056847067702645|      36.65721710416983|         55.01838177266504|              1.562969532839439|        1011.1485871765746|\n|2025-05-26 10:53:59|       26.2| 9.7|        9|14.0|  0.0|    61.0|          0.0|  1016.0|            SSW|Partly cloudy|           27.381976209662483|         30.386748562823858|     9.988345060443441|          6.600158639258053|    13.056847067702645|      36.65721710416983|         55.01838177266504|              1.562969532839439|        1011.1485871765746|\n+-------------------+-----------+----+---------+----+-----+--------+-------------+--------+---------------+-------------+-----------------------------+---------------------------+----------------------+---------------------------+----------------------+-----------------------+--------------------------+-------------------------------+--------------------------+\n\n"
     ]
    }
   ],
   "source": [
    "df = spark.read.format(\"delta\").load(\"dbfs:/user/hive/warehouse/dailong0705/yourusers/delta/gold/weather_predictions\")\n",
    "df.show()"
   ]
  },
  {
   "cell_type": "code",
   "execution_count": 0,
   "metadata": {
    "application/vnd.databricks.v1+cell": {
     "cellMetadata": {
      "byteLimit": 2048000,
      "rowLimit": 10000
     },
     "inputWidgets": {},
     "nuid": "1a622b70-91a4-4706-83ed-971cb739787a",
     "showTitle": false,
     "tableResultSettingsMap": {},
     "title": ""
    }
   },
   "outputs": [
    {
     "output_type": "display_data",
     "data": {
      "text/html": [
       "<style scoped>\n",
       "  .table-result-container {\n",
       "    max-height: 300px;\n",
       "    overflow: auto;\n",
       "  }\n",
       "  table, th, td {\n",
       "    border: 1px solid black;\n",
       "    border-collapse: collapse;\n",
       "  }\n",
       "  th, td {\n",
       "    padding: 5px;\n",
       "  }\n",
       "  th {\n",
       "    text-align: left;\n",
       "  }\n",
       "</style><div class='table-result-container'><table class='table-result'><thead style='background-color: white'><tr><th>path</th><th>name</th><th>size</th><th>modificationTime</th></tr></thead><tbody><tr><td>dbfs:/user/hive/warehouse/dailong0705/yourusers/delta/gold/weather_features/</td><td>weather_features/</td><td>0</td><td>0</td></tr><tr><td>dbfs:/user/hive/warehouse/dailong0705/yourusers/delta/gold/weather_features_v0/</td><td>weather_features_v0/</td><td>0</td><td>0</td></tr><tr><td>dbfs:/user/hive/warehouse/dailong0705/yourusers/delta/gold/weather_predictions/</td><td>weather_predictions/</td><td>0</td><td>0</td></tr></tbody></table></div>"
      ]
     },
     "metadata": {
      "application/vnd.databricks.v1+output": {
       "addedWidgets": {},
       "aggData": [],
       "aggError": "",
       "aggOverflow": false,
       "aggSchema": [],
       "aggSeriesLimitReached": false,
       "aggType": "",
       "arguments": {},
       "columnCustomDisplayInfos": {},
       "data": [
        [
         "dbfs:/user/hive/warehouse/dailong0705/yourusers/delta/gold/weather_features/",
         "weather_features/",
         0,
         0
        ],
        [
         "dbfs:/user/hive/warehouse/dailong0705/yourusers/delta/gold/weather_features_v0/",
         "weather_features_v0/",
         0,
         0
        ],
        [
         "dbfs:/user/hive/warehouse/dailong0705/yourusers/delta/gold/weather_predictions/",
         "weather_predictions/",
         0,
         0
        ]
       ],
       "datasetInfos": [],
       "dbfsResultPath": null,
       "isJsonSchema": true,
       "metadata": {},
       "overflow": false,
       "plotOptions": {
        "customPlotOptions": {},
        "displayType": "table",
        "pivotAggregation": null,
        "pivotColumns": null,
        "xColumns": null,
        "yColumns": null
       },
       "removedWidgets": [],
       "schema": [
        {
         "metadata": "{}",
         "name": "path",
         "type": "\"string\""
        },
        {
         "metadata": "{}",
         "name": "name",
         "type": "\"string\""
        },
        {
         "metadata": "{}",
         "name": "size",
         "type": "\"long\""
        },
        {
         "metadata": "{}",
         "name": "modificationTime",
         "type": "\"long\""
        }
       ],
       "type": "table"
      }
     },
     "output_type": "display_data"
    }
   ],
   "source": [
    "display(dbutils.fs.ls(\"dbfs:/user/hive/warehouse/dailong0705/yourusers/delta/gold/\"))"
   ]
  },
  {
   "cell_type": "code",
   "execution_count": 0,
   "metadata": {
    "application/vnd.databricks.v1+cell": {
     "cellMetadata": {
      "byteLimit": 2048000,
      "rowLimit": 10000
     },
     "inputWidgets": {},
     "nuid": "6ec06847-75c2-4936-b893-70fbc5f9f3d4",
     "showTitle": false,
     "tableResultSettingsMap": {},
     "title": ""
    }
   },
   "outputs": [
    {
     "output_type": "display_data",
     "data": {
      "text/html": [
       "<style scoped>\n",
       "  .table-result-container {\n",
       "    max-height: 300px;\n",
       "    overflow: auto;\n",
       "  }\n",
       "  table, th, td {\n",
       "    border: 1px solid black;\n",
       "    border-collapse: collapse;\n",
       "  }\n",
       "  th, td {\n",
       "    padding: 5px;\n",
       "  }\n",
       "  th {\n",
       "    text-align: left;\n",
       "  }\n",
       "</style><div class='table-result-container'><table class='table-result'><thead style='background-color: white'><tr><th>path</th><th>name</th><th>size</th><th>modificationTime</th></tr></thead><tbody><tr><td>dbfs:/user/hive/warehouse/dailong0705/yourusers/delta/gold/weather_predictions/_delta_log/.s3-optimization-0</td><td>.s3-optimization-0</td><td>0</td><td>1748231967000</td></tr><tr><td>dbfs:/user/hive/warehouse/dailong0705/yourusers/delta/gold/weather_predictions/_delta_log/.s3-optimization-1</td><td>.s3-optimization-1</td><td>0</td><td>1748231967000</td></tr><tr><td>dbfs:/user/hive/warehouse/dailong0705/yourusers/delta/gold/weather_predictions/_delta_log/.s3-optimization-2</td><td>.s3-optimization-2</td><td>0</td><td>1748231967000</td></tr><tr><td>dbfs:/user/hive/warehouse/dailong0705/yourusers/delta/gold/weather_predictions/_delta_log/00000000000000000000.crc</td><td>00000000000000000000.crc</td><td>5915</td><td>1748231969000</td></tr><tr><td>dbfs:/user/hive/warehouse/dailong0705/yourusers/delta/gold/weather_predictions/_delta_log/00000000000000000000.json</td><td>00000000000000000000.json</td><td>4895</td><td>1748231967000</td></tr><tr><td>dbfs:/user/hive/warehouse/dailong0705/yourusers/delta/gold/weather_predictions/_delta_log/00000000000000000001.crc</td><td>00000000000000000001.crc</td><td>8168</td><td>1748232000000</td></tr><tr><td>dbfs:/user/hive/warehouse/dailong0705/yourusers/delta/gold/weather_predictions/_delta_log/00000000000000000001.json</td><td>00000000000000000001.json</td><td>2776</td><td>1748231998000</td></tr></tbody></table></div>"
      ]
     },
     "metadata": {
      "application/vnd.databricks.v1+output": {
       "addedWidgets": {},
       "aggData": [],
       "aggError": "",
       "aggOverflow": false,
       "aggSchema": [],
       "aggSeriesLimitReached": false,
       "aggType": "",
       "arguments": {},
       "columnCustomDisplayInfos": {},
       "data": [
        [
         "dbfs:/user/hive/warehouse/dailong0705/yourusers/delta/gold/weather_predictions/_delta_log/.s3-optimization-0",
         ".s3-optimization-0",
         0,
         1748231967000
        ],
        [
         "dbfs:/user/hive/warehouse/dailong0705/yourusers/delta/gold/weather_predictions/_delta_log/.s3-optimization-1",
         ".s3-optimization-1",
         0,
         1748231967000
        ],
        [
         "dbfs:/user/hive/warehouse/dailong0705/yourusers/delta/gold/weather_predictions/_delta_log/.s3-optimization-2",
         ".s3-optimization-2",
         0,
         1748231967000
        ],
        [
         "dbfs:/user/hive/warehouse/dailong0705/yourusers/delta/gold/weather_predictions/_delta_log/00000000000000000000.crc",
         "00000000000000000000.crc",
         5915,
         1748231969000
        ],
        [
         "dbfs:/user/hive/warehouse/dailong0705/yourusers/delta/gold/weather_predictions/_delta_log/00000000000000000000.json",
         "00000000000000000000.json",
         4895,
         1748231967000
        ],
        [
         "dbfs:/user/hive/warehouse/dailong0705/yourusers/delta/gold/weather_predictions/_delta_log/00000000000000000001.crc",
         "00000000000000000001.crc",
         8168,
         1748232000000
        ],
        [
         "dbfs:/user/hive/warehouse/dailong0705/yourusers/delta/gold/weather_predictions/_delta_log/00000000000000000001.json",
         "00000000000000000001.json",
         2776,
         1748231998000
        ]
       ],
       "datasetInfos": [],
       "dbfsResultPath": null,
       "isJsonSchema": true,
       "metadata": {},
       "overflow": false,
       "plotOptions": {
        "customPlotOptions": {},
        "displayType": "table",
        "pivotAggregation": null,
        "pivotColumns": null,
        "xColumns": null,
        "yColumns": null
       },
       "removedWidgets": [],
       "schema": [
        {
         "metadata": "{}",
         "name": "path",
         "type": "\"string\""
        },
        {
         "metadata": "{}",
         "name": "name",
         "type": "\"string\""
        },
        {
         "metadata": "{}",
         "name": "size",
         "type": "\"long\""
        },
        {
         "metadata": "{}",
         "name": "modificationTime",
         "type": "\"long\""
        }
       ],
       "type": "table"
      }
     },
     "output_type": "display_data"
    }
   ],
   "source": [
    "display(dbutils.fs.ls(\"dbfs:/user/hive/warehouse/dailong0705/yourusers/delta/gold/weather_predictions/_delta_log\"))"
   ]
  }
 ],
 "metadata": {
  "application/vnd.databricks.v1+notebook": {
   "computePreferences": null,
   "dashboards": [],
   "environmentMetadata": {
    "base_environment": "",
    "environment_version": "1"
   },
   "inputWidgetPreferences": null,
   "language": "python",
   "notebookMetadata": {
    "mostRecentlyExecutedCommandWithImplicitDF": {
     "commandId": 1358928196538655,
     "dataframes": [
      "_sqldf"
     ]
    },
    "pythonIndentUnit": 4
   },
   "notebookName": "weather_Test_aiven",
   "widgets": {}
  }
 },
 "nbformat": 4,
 "nbformat_minor": 0
}