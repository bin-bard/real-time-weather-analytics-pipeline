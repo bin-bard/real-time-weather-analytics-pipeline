{
 "cells": [
  {
   "cell_type": "markdown",
   "metadata": {
    "application/vnd.databricks.v1+cell": {
     "cellMetadata": {},
     "inputWidgets": {},
     "nuid": "7c60dcfd-ed98-4354-8a05-99c6075e8f86",
     "showTitle": false,
     "tableResultSettingsMap": {},
     "title": ""
    }
   },
   "source": [
    "# Setup"
   ]
  },
  {
   "cell_type": "code",
   "execution_count": 0,
   "metadata": {
    "application/vnd.databricks.v1+cell": {
     "cellMetadata": {
      "byteLimit": 2048000,
      "rowLimit": 10000
     },
     "inputWidgets": {},
     "nuid": "a7a5b7b1-2ca6-4ca5-8ff0-8e53b7792858",
     "showTitle": false,
     "tableResultSettingsMap": {},
     "title": ""
    }
   },
   "outputs": [
    {
     "output_type": "stream",
     "name": "stdout",
     "output_type": "stream",
     "text": [
      "Created DBFS path: dbfs:/user/thanhtai/delta_pipeline\nCreated DBFS path: dbfs:/user/thanhtai/delta_pipeline/bronze/from_api\nCreated DBFS path: dbfs:/user/thanhtai/delta_pipeline/bronze/from_csv\nCreated DBFS path: dbfs:/user/thanhtai/delta_pipeline/silver/merged_weather\nCreated DBFS path: dbfs:/user/thanhtai/delta_pipeline/gold/weather_features\nCreated DBFS path: dbfs:/user/thanhtai/delta_pipeline/gold/weather_predictions\nCreated DBFS path: dbfs:/user/thanhtai/delta_pipeline/model/weather_rf_model\nCreated DBFS path: dbfs:/user/thanhtai/delta_pipeline/_checkpoints/bronze_from_api_dbfs\nSetup complete. Các đường dẫn DBFS đã được chuẩn bị.\n"
     ]
    }
   ],
   "source": [
    "from pyspark.sql import SparkSession\n",
    "from pyspark.sql.functions import from_json, col, to_timestamp, year as spark_year, month as spark_month, dayofmonth, lit, concat_ws, lpad\n",
    "from pyspark.sql.types import StructType, StructField, StringType, DoubleType, IntegerType, TimestampType # Thêm TimestampType nếu cần cho target_silver_schema\n",
    "\n",
    "spark = SparkSession.builder \\\n",
    "    .appName(\"Databricks_BronzeSilver_Pipeline\") \\\n",
    "    .config(\"spark.sql.extensions\", \"io.delta.sql.DeltaSparkSessionExtension\") \\\n",
    "    .config(\"spark.sql.catalog.spark_catalog\", \"org.apache.spark.sql.delta.catalog.DeltaCatalog\") \\\n",
    "    .getOrCreate()\n",
    "\n",
    "# THAY THẾ BẰNG THÔNG TIN NGROK CHÍNH XÁC\n",
    "kafka_bootstrap_servers = \"0.tcp.ap.ngrok.io:10802\"\n",
    "# Ví dụ: kafka_bootstrap_servers = \"0.tcp.ap.ngrok.io:10802\"\n",
    "if kafka_bootstrap_servers == \"YOUR_NGROK_HOSTNAME:YOUR_NGROK_PORT\":\n",
    "    print(\"!!! CẢNH BÁO: Vui lòng cập nhật `kafka_bootstrap_servers` với endpoint ngrok của bạn !!!\")\n",
    "\n",
    "kafka_topic = \"test\"\n",
    "\n",
    "# Đây sẽ là schema chuẩn cho API và cũng là schema mục tiêu cho Silver\n",
    "weather_data_schema_from_producer = StructType([\n",
    "    StructField(\"time\", StringType(), True), StructField(\"month\", IntegerType(), True),\n",
    "    StructField(\"year\", IntegerType(), True), StructField(\"temperature\", DoubleType(), True),\n",
    "    StructField(\"feelslike\", DoubleType(), True), StructField(\"wind\", DoubleType(), True),\n",
    "    StructField(\"direction\", StringType(), True), StructField(\"gust\", DoubleType(), True),\n",
    "    StructField(\"cloud\", IntegerType(), True), StructField(\"humidity\", IntegerType(), True),\n",
    "    StructField(\"precipitation\", DoubleType(), True), StructField(\"pressure\", DoubleType(), True),\n",
    "    StructField(\"weather\", StringType(), True), StructField(\"label\", StringType(), True)\n",
    "])\n",
    "\n",
    "BASE_DBFS_PATH = \"dbfs:/user/thanhtai/delta_pipeline\" # Sử dụng một thư mục mới để tránh lẫn lộn nếu chạy lại\n",
    "BRONZE_API_DBFS_PATH = f\"{BASE_DBFS_PATH}/bronze/from_api\"\n",
    "BRONZE_CSV_DBFS_PATH = f\"{BASE_DBFS_PATH}/bronze/from_csv\"\n",
    "SILVER_MERGED_DBFS_PATH = f\"{BASE_DBFS_PATH}/silver/merged_weather\"\n",
    "GOLD_FEATURES_DBFS_PATH = f\"{BASE_DBFS_PATH}/gold/weather_features\"\n",
    "GOLD_PREDICTIONS_DBFS_PATH = f\"{BASE_DBFS_PATH}/gold/weather_predictions\"\n",
    "MODEL_DBFS_PATH = f\"{BASE_DBFS_PATH}/model/weather_rf_model\"\n",
    "CHECKPOINT_API_DBFS_PATH = f\"{BASE_DBFS_PATH}/_checkpoints/bronze_from_api_dbfs\"\n",
    "\n",
    "paths_to_create_dbfs = [\n",
    "    BASE_DBFS_PATH, BRONZE_API_DBFS_PATH, BRONZE_CSV_DBFS_PATH,\n",
    "    SILVER_MERGED_DBFS_PATH, GOLD_FEATURES_DBFS_PATH,\n",
    "    GOLD_PREDICTIONS_DBFS_PATH, MODEL_DBFS_PATH, CHECKPOINT_API_DBFS_PATH\n",
    "]\n",
    "for path in paths_to_create_dbfs:\n",
    "    try:\n",
    "        dbutils.fs.mkdirs(path)\n",
    "        print(f\"Created DBFS path: {path}\")\n",
    "    except Exception as e:\n",
    "        print(f\"Could not create DBFS path {path}: {e}\")\n",
    "        pass # Bỏ qua nếu đã tồn tại hoặc lỗi khác\n",
    "\n",
    "print(\"Setup complete. Các đường dẫn DBFS đã được chuẩn bị.\")"
   ]
  },
  {
   "cell_type": "markdown",
   "metadata": {
    "application/vnd.databricks.v1+cell": {
     "cellMetadata": {},
     "inputWidgets": {},
     "nuid": "2535e824-7c0d-49d1-89d2-d1096fbd90c9",
     "showTitle": false,
     "tableResultSettingsMap": {},
     "title": ""
    }
   },
   "source": [
    "# Kafka to Bronze API (Streaming)"
   ]
  },
  {
   "cell_type": "code",
   "execution_count": 0,
   "metadata": {
    "application/vnd.databricks.v1+cell": {
     "cellMetadata": {
      "byteLimit": 2048000,
      "rowLimit": 10000
     },
     "inputWidgets": {},
     "nuid": "c79fc59d-36a5-4859-96a8-98e3e517b197",
     "showTitle": false,
     "tableResultSettingsMap": {},
     "title": ""
    }
   },
   "outputs": [
    {
     "output_type": "stream",
     "name": "stdout",
     "output_type": "stream",
     "text": [
      "Streaming query bf73165b-f80c-4e30-8a81-fa0bfd477ca6 to dbfs:/user/thanhtai/delta_pipeline/bronze/from_api started.\n"
     ]
    }
   ],
   "source": [
    "raw_kafka_df_dbfs = spark.readStream \\\n",
    "    .format(\"kafka\") \\\n",
    "    .option(\"kafka.bootstrap.servers\", kafka_bootstrap_servers) \\\n",
    "    .option(\"subscribe\", kafka_topic) \\\n",
    "    .option(\"startingOffsets\", \"latest\") \\\n",
    "    .option(\"failOnDataLoss\", \"false\") \\\n",
    "    .option(\"kafka.request.timeout.ms\", \"120000\") \\\n",
    "    .option(\"kafka.session.timeout.ms\", \"60000\") \\\n",
    "    .load()\n",
    "\n",
    "parsed_api_df_dbfs = raw_kafka_df_dbfs \\\n",
    "    .selectExpr(\"CAST(value AS STRING) as json_string\") \\\n",
    "    .withColumn(\"data\", from_json(col(\"json_string\"), weather_data_schema_from_producer)) \\\n",
    "    .select(\"data.*\")\n",
    "\n",
    "# Dừng query cũ nếu đang chạy để tránh lỗi checkpoint\n",
    "for s in spark.streams.active:\n",
    "    if CHECKPOINT_API_DBFS_PATH in s.lastProgress[\"sources\"][0][\"description\"]: # Kiểm tra kỹ hơn\n",
    "        print(f\"Stopping existing stream: {s.id}\")\n",
    "        try:\n",
    "            s.stop()\n",
    "            s.awaitTermination() # Đợi stream dừng hẳn\n",
    "            dbutils.fs.rm(CHECKPOINT_API_DBFS_PATH, recurse=True) # Xóa checkpoint cũ\n",
    "            print(f\"Removed old checkpoint: {CHECKPOINT_API_DBFS_PATH}\")\n",
    "        except Exception as e:\n",
    "            print(f\"Error stopping stream or removing checkpoint: {e}\")\n",
    "\n",
    "\n",
    "api_bronze_query_dbfs = parsed_api_df_dbfs.writeStream \\\n",
    "    .trigger(processingTime=\"30 seconds\") \\\n",
    "    .format(\"delta\") \\\n",
    "    .outputMode(\"append\") \\\n",
    "    .option(\"checkpointLocation\", CHECKPOINT_API_DBFS_PATH) \\\n",
    "    .option(\"mergeSchema\", \"true\") \\\n",
    "    .start(BRONZE_API_DBFS_PATH)\n",
    "\n",
    "print(f\"Streaming query {api_bronze_query_dbfs.id} to {BRONZE_API_DBFS_PATH} started.\")\n",
    "# Để query này chạy ngầm. Để dừng: api_bronze_query_dbfs.stop()\n",
    "# Có thể kiểm tra trạng thái bằng: api_bronze_query_dbfs.status\n",
    "# Hoặc xem các stream đang hoạt động: spark.streams.active"
   ]
  },
  {
   "cell_type": "markdown",
   "metadata": {
    "application/vnd.databricks.v1+cell": {
     "cellMetadata": {},
     "inputWidgets": {},
     "nuid": "bd27528c-0213-44d6-8219-3e7ceee4e632",
     "showTitle": false,
     "tableResultSettingsMap": {},
     "title": ""
    }
   },
   "source": [
    "# CSV to Bronze/from_csv (Batch)"
   ]
  },
  {
   "cell_type": "code",
   "execution_count": 0,
   "metadata": {
    "application/vnd.databricks.v1+cell": {
     "cellMetadata": {
      "byteLimit": 2048000,
      "rowLimit": 10000
     },
     "inputWidgets": {},
     "nuid": "74dc25cb-e070-462a-8491-fa250f159628",
     "showTitle": false,
     "tableResultSettingsMap": {},
     "title": ""
    }
   },
   "outputs": [
    {
     "output_type": "stream",
     "name": "stdout",
     "output_type": "stream",
     "text": [
      "File CSV được tìm thấy tại: dbfs:/FileStore/thanhtai_sample_data/weather_data_from_source.csv\nSchema của dữ liệu CSV sau khi Spark suy luận:\nroot\n |-- time: timestamp (nullable = true)\n |-- month: integer (nullable = true)\n |-- temperature: double (nullable = true)\n |-- feelslike: double (nullable = true)\n |-- wind: double (nullable = true)\n |-- direction: string (nullable = true)\n |-- gust: double (nullable = true)\n |-- cloud: double (nullable = true)\n |-- humidity: double (nullable = true)\n |-- precipitation: double (nullable = true)\n |-- pressure: double (nullable = true)\n |-- weather: string (nullable = true)\n\n"
     ]
    },
    {
     "output_type": "display_data",
     "data": {
      "text/html": [
       "<style scoped>\n",
       "  .table-result-container {\n",
       "    max-height: 300px;\n",
       "    overflow: auto;\n",
       "  }\n",
       "  table, th, td {\n",
       "    border: 1px solid black;\n",
       "    border-collapse: collapse;\n",
       "  }\n",
       "  th, td {\n",
       "    padding: 5px;\n",
       "  }\n",
       "  th {\n",
       "    text-align: left;\n",
       "  }\n",
       "</style><div class='table-result-container'><table class='table-result'><thead style='background-color: white'><tr><th>time</th><th>month</th><th>temperature</th><th>feelslike</th><th>wind</th><th>direction</th><th>gust</th><th>cloud</th><th>humidity</th><th>precipitation</th><th>pressure</th><th>weather</th></tr></thead><tbody><tr><td>2025-05-25T00:00:00.000+0000</td><td>1</td><td>24.0</td><td>28.0</td><td>8.0</td><td>ENE</td><td>12.0</td><td>4.0</td><td>86.0</td><td>0.0</td><td>1012.0</td><td>Clear</td></tr><tr><td>2025-05-25T03:00:00.000+0000</td><td>1</td><td>23.0</td><td>27.0</td><td>8.0</td><td>NE</td><td>10.0</td><td>4.0</td><td>88.0</td><td>0.0</td><td>1011.0</td><td>Clear</td></tr><tr><td>2025-05-25T06:00:00.000+0000</td><td>1</td><td>23.0</td><td>26.0</td><td>8.0</td><td>NNE</td><td>11.0</td><td>7.0</td><td>85.0</td><td>0.0</td><td>1012.0</td><td>Sunny</td></tr><tr><td>2025-05-25T09:00:00.000+0000</td><td>1</td><td>28.0</td><td>33.0</td><td>11.0</td><td>NNE</td><td>13.0</td><td>6.0</td><td>64.0</td><td>0.0</td><td>1012.0</td><td>Sunny</td></tr><tr><td>2025-05-25T12:00:00.000+0000</td><td>1</td><td>31.0</td><td>35.0</td><td>10.0</td><td>ENE</td><td>12.0</td><td>62.0</td><td>53.0</td><td>0.0</td><td>1010.0</td><td>Partly cloudy</td></tr></tbody></table></div>"
      ]
     },
     "metadata": {
      "application/vnd.databricks.v1+output": {
       "addedWidgets": {},
       "aggData": [],
       "aggError": "",
       "aggOverflow": false,
       "aggSchema": [],
       "aggSeriesLimitReached": false,
       "aggType": "",
       "arguments": {},
       "columnCustomDisplayInfos": {},
       "data": [
        [
         "2025-05-25T00:00:00.000+0000",
         1,
         24.0,
         28.0,
         8.0,
         "ENE",
         12.0,
         4.0,
         86.0,
         0.0,
         1012.0,
         "Clear"
        ],
        [
         "2025-05-25T03:00:00.000+0000",
         1,
         23.0,
         27.0,
         8.0,
         "NE",
         10.0,
         4.0,
         88.0,
         0.0,
         1011.0,
         "Clear"
        ],
        [
         "2025-05-25T06:00:00.000+0000",
         1,
         23.0,
         26.0,
         8.0,
         "NNE",
         11.0,
         7.0,
         85.0,
         0.0,
         1012.0,
         "Sunny"
        ],
        [
         "2025-05-25T09:00:00.000+0000",
         1,
         28.0,
         33.0,
         11.0,
         "NNE",
         13.0,
         6.0,
         64.0,
         0.0,
         1012.0,
         "Sunny"
        ],
        [
         "2025-05-25T12:00:00.000+0000",
         1,
         31.0,
         35.0,
         10.0,
         "ENE",
         12.0,
         62.0,
         53.0,
         0.0,
         1010.0,
         "Partly cloudy"
        ]
       ],
       "datasetInfos": [],
       "dbfsResultPath": null,
       "isJsonSchema": true,
       "metadata": {},
       "overflow": false,
       "plotOptions": {
        "customPlotOptions": {},
        "displayType": "table",
        "pivotAggregation": null,
        "pivotColumns": null,
        "xColumns": null,
        "yColumns": null
       },
       "removedWidgets": [],
       "schema": [
        {
         "metadata": "{}",
         "name": "time",
         "type": "\"timestamp\""
        },
        {
         "metadata": "{}",
         "name": "month",
         "type": "\"integer\""
        },
        {
         "metadata": "{}",
         "name": "temperature",
         "type": "\"double\""
        },
        {
         "metadata": "{}",
         "name": "feelslike",
         "type": "\"double\""
        },
        {
         "metadata": "{}",
         "name": "wind",
         "type": "\"double\""
        },
        {
         "metadata": "{}",
         "name": "direction",
         "type": "\"string\""
        },
        {
         "metadata": "{}",
         "name": "gust",
         "type": "\"double\""
        },
        {
         "metadata": "{}",
         "name": "cloud",
         "type": "\"double\""
        },
        {
         "metadata": "{}",
         "name": "humidity",
         "type": "\"double\""
        },
        {
         "metadata": "{}",
         "name": "precipitation",
         "type": "\"double\""
        },
        {
         "metadata": "{}",
         "name": "pressure",
         "type": "\"double\""
        },
        {
         "metadata": "{}",
         "name": "weather",
         "type": "\"string\""
        }
       ],
       "type": "table"
      }
     },
     "output_type": "display_data"
    },
    {
     "output_type": "stream",
     "name": "stdout",
     "output_type": "stream",
     "text": [
      "Ghi dữ liệu CSV (với schema suy luận) vào Bronze (DBFS) thành công: dbfs:/user/thanhtai/delta_pipeline/bronze/from_csv\n"
     ]
    },
    {
     "output_type": "display_data",
     "data": {
      "text/html": [
       "<style scoped>\n",
       "  .table-result-container {\n",
       "    max-height: 300px;\n",
       "    overflow: auto;\n",
       "  }\n",
       "  table, th, td {\n",
       "    border: 1px solid black;\n",
       "    border-collapse: collapse;\n",
       "  }\n",
       "  th, td {\n",
       "    padding: 5px;\n",
       "  }\n",
       "  th {\n",
       "    text-align: left;\n",
       "  }\n",
       "</style><div class='table-result-container'><table class='table-result'><thead style='background-color: white'><tr><th>time</th><th>month</th><th>temperature</th><th>feelslike</th><th>wind</th><th>direction</th><th>gust</th><th>cloud</th><th>humidity</th><th>precipitation</th><th>pressure</th><th>weather</th></tr></thead><tbody><tr><td>2025-05-25T00:00:00.000+0000</td><td>1</td><td>24.0</td><td>28.0</td><td>8.0</td><td>ENE</td><td>12.0</td><td>4.0</td><td>86.0</td><td>0.0</td><td>1012.0</td><td>Clear</td></tr><tr><td>2025-05-25T03:00:00.000+0000</td><td>1</td><td>23.0</td><td>27.0</td><td>8.0</td><td>NE</td><td>10.0</td><td>4.0</td><td>88.0</td><td>0.0</td><td>1011.0</td><td>Clear</td></tr><tr><td>2025-05-25T06:00:00.000+0000</td><td>1</td><td>23.0</td><td>26.0</td><td>8.0</td><td>NNE</td><td>11.0</td><td>7.0</td><td>85.0</td><td>0.0</td><td>1012.0</td><td>Sunny</td></tr><tr><td>2025-05-25T09:00:00.000+0000</td><td>1</td><td>28.0</td><td>33.0</td><td>11.0</td><td>NNE</td><td>13.0</td><td>6.0</td><td>64.0</td><td>0.0</td><td>1012.0</td><td>Sunny</td></tr><tr><td>2025-05-25T12:00:00.000+0000</td><td>1</td><td>31.0</td><td>35.0</td><td>10.0</td><td>ENE</td><td>12.0</td><td>62.0</td><td>53.0</td><td>0.0</td><td>1010.0</td><td>Partly cloudy</td></tr></tbody></table></div>"
      ]
     },
     "metadata": {
      "application/vnd.databricks.v1+output": {
       "addedWidgets": {},
       "aggData": [],
       "aggError": "",
       "aggOverflow": false,
       "aggSchema": [],
       "aggSeriesLimitReached": false,
       "aggType": "",
       "arguments": {},
       "columnCustomDisplayInfos": {},
       "data": [
        [
         "2025-05-25T00:00:00.000+0000",
         1,
         24.0,
         28.0,
         8.0,
         "ENE",
         12.0,
         4.0,
         86.0,
         0.0,
         1012.0,
         "Clear"
        ],
        [
         "2025-05-25T03:00:00.000+0000",
         1,
         23.0,
         27.0,
         8.0,
         "NE",
         10.0,
         4.0,
         88.0,
         0.0,
         1011.0,
         "Clear"
        ],
        [
         "2025-05-25T06:00:00.000+0000",
         1,
         23.0,
         26.0,
         8.0,
         "NNE",
         11.0,
         7.0,
         85.0,
         0.0,
         1012.0,
         "Sunny"
        ],
        [
         "2025-05-25T09:00:00.000+0000",
         1,
         28.0,
         33.0,
         11.0,
         "NNE",
         13.0,
         6.0,
         64.0,
         0.0,
         1012.0,
         "Sunny"
        ],
        [
         "2025-05-25T12:00:00.000+0000",
         1,
         31.0,
         35.0,
         10.0,
         "ENE",
         12.0,
         62.0,
         53.0,
         0.0,
         1010.0,
         "Partly cloudy"
        ]
       ],
       "datasetInfos": [],
       "dbfsResultPath": null,
       "isJsonSchema": true,
       "metadata": {},
       "overflow": false,
       "plotOptions": {
        "customPlotOptions": {},
        "displayType": "table",
        "pivotAggregation": null,
        "pivotColumns": null,
        "xColumns": null,
        "yColumns": null
       },
       "removedWidgets": [],
       "schema": [
        {
         "metadata": "{}",
         "name": "time",
         "type": "\"timestamp\""
        },
        {
         "metadata": "{}",
         "name": "month",
         "type": "\"integer\""
        },
        {
         "metadata": "{}",
         "name": "temperature",
         "type": "\"double\""
        },
        {
         "metadata": "{}",
         "name": "feelslike",
         "type": "\"double\""
        },
        {
         "metadata": "{}",
         "name": "wind",
         "type": "\"double\""
        },
        {
         "metadata": "{}",
         "name": "direction",
         "type": "\"string\""
        },
        {
         "metadata": "{}",
         "name": "gust",
         "type": "\"double\""
        },
        {
         "metadata": "{}",
         "name": "cloud",
         "type": "\"double\""
        },
        {
         "metadata": "{}",
         "name": "humidity",
         "type": "\"double\""
        },
        {
         "metadata": "{}",
         "name": "precipitation",
         "type": "\"double\""
        },
        {
         "metadata": "{}",
         "name": "pressure",
         "type": "\"double\""
        },
        {
         "metadata": "{}",
         "name": "weather",
         "type": "\"string\""
        }
       ],
       "type": "table"
      }
     },
     "output_type": "display_data"
    }
   ],
   "source": [
    "# Đảm bảo đã upload file này lên DBFS, ví dụ: dbfs:/FileStore/thanhtai_sample_data/weather_data_from_source.csv\n",
    "csv_input_dbfs_path = \"dbfs:/FileStore/thanhtai_sample_data/weather_data_from_source.csv\"\n",
    "\n",
    "try:\n",
    "    dbutils.fs.ls(csv_input_dbfs_path)\n",
    "    print(f\"File CSV được tìm thấy tại: {csv_input_dbfs_path}\")\n",
    "\n",
    "    df_csv_dbfs_raw = spark.read.format(\"csv\") \\\n",
    "        .option(\"header\", \"true\") \\\n",
    "        .option(\"inferSchema\", \"true\") \\\n",
    "        .load(csv_input_dbfs_path)\n",
    "\n",
    "    print(\"Schema của dữ liệu CSV sau khi Spark suy luận:\")\n",
    "    df_csv_dbfs_raw.printSchema()\n",
    "    display(df_csv_dbfs_raw.limit(5))\n",
    "\n",
    "    df_csv_dbfs_raw.write.format(\"delta\") \\\n",
    "        .mode(\"overwrite\") \\\n",
    "        .option(\"mergeSchema\", \"true\") \\\n",
    "        .save(BRONZE_CSV_DBFS_PATH)\n",
    "\n",
    "    print(f\"Ghi dữ liệu CSV (với schema suy luận) vào Bronze (DBFS) thành công: {BRONZE_CSV_DBFS_PATH}\")\n",
    "    display(spark.read.format(\"delta\").load(BRONZE_CSV_DBFS_PATH).limit(5))\n",
    "\n",
    "except Exception as e:\n",
    "    if \"java.io.FileNotFoundException\" in str(e) or \"Path does not exist\" in str(e):\n",
    "        print(f\"LỖI: File CSV không tìm thấy tại '{csv_input_dbfs_path}'. Vui lòng upload file lên DBFS trước.\")\n",
    "    else:\n",
    "        print(f\"Lỗi khi xử lý CSV to Bronze: {e}\")"
   ]
  },
  {
   "cell_type": "markdown",
   "metadata": {
    "application/vnd.databricks.v1+cell": {
     "cellMetadata": {},
     "inputWidgets": {},
     "nuid": "7d87744b-7e2f-432f-8253-a454a2307894",
     "showTitle": false,
     "tableResultSettingsMap": {},
     "title": ""
    }
   },
   "source": [
    "# Bronze to Silver Merge (Batch) "
   ]
  },
  {
   "cell_type": "code",
   "execution_count": 0,
   "metadata": {
    "application/vnd.databricks.v1+cell": {
     "cellMetadata": {
      "byteLimit": 2048000,
      "rowLimit": 10000
     },
     "inputWidgets": {},
     "nuid": "b1fce4e1-1e78-4c2a-a047-568d7d94f8c2",
     "showTitle": false,
     "tableResultSettingsMap": {},
     "title": ""
    }
   },
   "outputs": [
    {
     "output_type": "stream",
     "name": "stdout",
     "output_type": "stream",
     "text": [
      "Đọc dữ liệu từ Bronze API Table (DBFS): dbfs:/user/thanhtai/delta_pipeline/bronze/from_api\nĐọc dữ liệu từ Bronze CSV Table (DBFS, schema được suy luận): dbfs:/user/thanhtai/delta_pipeline/bronze/from_csv\n\nSchema gốc của df_api_raw_dbfs (từ Kafka producer):\nroot\n |-- time: string (nullable = true)\n |-- month: integer (nullable = true)\n |-- year: integer (nullable = true)\n |-- temperature: double (nullable = true)\n |-- feelslike: double (nullable = true)\n |-- wind: double (nullable = true)\n |-- direction: string (nullable = true)\n |-- gust: double (nullable = true)\n |-- cloud: integer (nullable = true)\n |-- humidity: integer (nullable = true)\n |-- precipitation: double (nullable = true)\n |-- pressure: double (nullable = true)\n |-- weather: string (nullable = true)\n |-- label: string (nullable = true)\n\nSchema gốc của df_csv_raw_dbfs (từ CSV, suy luận):\nroot\n |-- time: timestamp (nullable = true)\n |-- month: integer (nullable = true)\n |-- temperature: double (nullable = true)\n |-- feelslike: double (nullable = true)\n |-- wind: double (nullable = true)\n |-- direction: string (nullable = true)\n |-- gust: double (nullable = true)\n |-- cloud: double (nullable = true)\n |-- humidity: double (nullable = true)\n |-- precipitation: double (nullable = true)\n |-- pressure: double (nullable = true)\n |-- weather: string (nullable = true)\n\n\n--- Căn chỉnh df_api_raw_dbfs ---\n\n--- Căn chỉnh df_csv_raw_dbfs ---\nThông báo (df_csv_raw_dbfs): Ép kiểu cột 'time' từ TimestampType() sang StringType() (đổi tên thành 'time').\nThông báo (df_csv_raw_dbfs): Cột 'year' không tìm thấy. Thêm cột này với giá trị NULL.\nThông báo (df_csv_raw_dbfs): Ép kiểu cột 'cloud' từ DoubleType() sang IntegerType() (đổi tên thành 'cloud').\nThông báo (df_csv_raw_dbfs): Ép kiểu cột 'humidity' từ DoubleType() sang IntegerType() (đổi tên thành 'humidity').\nThông báo (df_csv_raw_dbfs): Cột 'label' không tìm thấy. Thêm cột này với giá trị NULL.\n\nSchema của df_api_aligned_dbfs (sau khi chuẩn hóa):\nroot\n |-- time: string (nullable = true)\n |-- month: integer (nullable = true)\n |-- year: integer (nullable = true)\n |-- temperature: double (nullable = true)\n |-- feelslike: double (nullable = true)\n |-- wind: double (nullable = true)\n |-- direction: string (nullable = true)\n |-- gust: double (nullable = true)\n |-- cloud: integer (nullable = true)\n |-- humidity: integer (nullable = true)\n |-- precipitation: double (nullable = true)\n |-- pressure: double (nullable = true)\n |-- weather: string (nullable = true)\n |-- label: string (nullable = true)\n\nSchema của df_csv_aligned_dbfs (sau khi chuẩn hóa):\nroot\n |-- time: string (nullable = true)\n |-- month: integer (nullable = true)\n |-- year: integer (nullable = true)\n |-- temperature: double (nullable = true)\n |-- feelslike: double (nullable = true)\n |-- wind: double (nullable = true)\n |-- direction: string (nullable = true)\n |-- gust: double (nullable = true)\n |-- cloud: integer (nullable = true)\n |-- humidity: integer (nullable = true)\n |-- precipitation: double (nullable = true)\n |-- pressure: double (nullable = true)\n |-- weather: string (nullable = true)\n |-- label: string (nullable = true)\n\n\nSchema của Silver DataFrame cuối cùng (DBFS):\nroot\n |-- time: string (nullable = true)\n |-- month: integer (nullable = true)\n |-- year: integer (nullable = true)\n |-- temperature: double (nullable = true)\n |-- feelslike: double (nullable = true)\n |-- wind: double (nullable = true)\n |-- direction: string (nullable = true)\n |-- gust: double (nullable = true)\n |-- cloud: integer (nullable = true)\n |-- humidity: integer (nullable = true)\n |-- precipitation: double (nullable = true)\n |-- pressure: double (nullable = true)\n |-- weather: string (nullable = true)\n |-- label: string (nullable = true)\n |-- event_timestamp: timestamp (nullable = true)\n |-- year_partition: integer (nullable = true)\n |-- month_partition: integer (nullable = true)\n |-- day_partition: integer (nullable = true)\n\n\nGhi dữ liệu vào Silver (DBFS) thành công: dbfs:/user/thanhtai/delta_pipeline/silver/merged_weather\n"
     ]
    },
    {
     "output_type": "display_data",
     "data": {
      "text/html": [
       "<style scoped>\n",
       "  .table-result-container {\n",
       "    max-height: 300px;\n",
       "    overflow: auto;\n",
       "  }\n",
       "  table, th, td {\n",
       "    border: 1px solid black;\n",
       "    border-collapse: collapse;\n",
       "  }\n",
       "  th, td {\n",
       "    padding: 5px;\n",
       "  }\n",
       "  th {\n",
       "    text-align: left;\n",
       "  }\n",
       "</style><div class='table-result-container'><table class='table-result'><thead style='background-color: white'><tr><th>time</th><th>month</th><th>year</th><th>temperature</th><th>feelslike</th><th>wind</th><th>direction</th><th>gust</th><th>cloud</th><th>humidity</th><th>precipitation</th><th>pressure</th><th>weather</th><th>label</th><th>event_timestamp</th><th>year_partition</th><th>month_partition</th><th>day_partition</th></tr></thead><tbody><tr><td>2025-05-25 03:00:00</td><td>12</td><td>null</td><td>20.0</td><td>22.0</td><td>10.0</td><td>N</td><td>12.0</td><td>3</td><td>70</td><td>0.0</td><td>1014.0</td><td>Clear</td><td>null</td><td>null</td><td>null</td><td>null</td><td>null</td></tr><tr><td>2025-05-25 03:00:00</td><td>12</td><td>null</td><td>20.0</td><td>21.0</td><td>10.0</td><td>N</td><td>16.0</td><td>74</td><td>67</td><td>0.0</td><td>1014.0</td><td>Cloudy</td><td>null</td><td>null</td><td>null</td><td>null</td><td>null</td></tr><tr><td>2025-05-25 06:00:00</td><td>12</td><td>null</td><td>20.0</td><td>22.0</td><td>13.0</td><td>NNE</td><td>15.0</td><td>2</td><td>71</td><td>0.0</td><td>1015.0</td><td>Sunny</td><td>null</td><td>null</td><td>null</td><td>null</td><td>null</td></tr><tr><td>2025-05-25 00:00:00</td><td>12</td><td>null</td><td>21.0</td><td>21.0</td><td>10.0</td><td>N</td><td>16.0</td><td>46</td><td>67</td><td>0.0</td><td>1014.0</td><td>Partly cloudy</td><td>null</td><td>null</td><td>null</td><td>null</td><td>null</td></tr><tr><td>2025-05-25 06:00:00</td><td>12</td><td>null</td><td>21.0</td><td>21.0</td><td>10.0</td><td>N</td><td>13.0</td><td>37</td><td>67</td><td>0.0</td><td>1015.0</td><td>Partly cloudy</td><td>null</td><td>null</td><td>null</td><td>null</td><td>null</td></tr><tr><td>2025-05-25 06:00:00</td><td>1</td><td>null</td><td>21.0</td><td>22.0</td><td>9.0</td><td>N</td><td>11.0</td><td>8</td><td>72</td><td>0.0</td><td>1013.0</td><td>Sunny</td><td>null</td><td>null</td><td>null</td><td>null</td><td>null</td></tr><tr><td>2025-05-25 03:00:00</td><td>2</td><td>null</td><td>21.0</td><td>22.0</td><td>11.0</td><td>NE</td><td>15.0</td><td>7</td><td>65</td><td>0.0</td><td>1016.0</td><td>Clear</td><td>null</td><td>null</td><td>null</td><td>null</td><td>null</td></tr><tr><td>2025-05-25 06:00:00</td><td>2</td><td>null</td><td>21.0</td><td>23.0</td><td>8.0</td><td>NE</td><td>10.0</td><td>10</td><td>70</td><td>0.0</td><td>1018.0</td><td>Sunny</td><td>null</td><td>null</td><td>null</td><td>null</td><td>null</td></tr><tr><td>2025-05-25 00:00:00</td><td>12</td><td>null</td><td>21.0</td><td>23.0</td><td>10.0</td><td>NNE</td><td>12.0</td><td>0</td><td>67</td><td>0.0</td><td>1014.0</td><td>Clear</td><td>null</td><td>null</td><td>null</td><td>null</td><td>null</td></tr><tr><td>2025-05-25 03:00:00</td><td>1</td><td>null</td><td>21.0</td><td>22.0</td><td>9.0</td><td>NNE</td><td>15.0</td><td>22</td><td>74</td><td>0.0</td><td>1014.0</td><td>Clear</td><td>null</td><td>null</td><td>null</td><td>null</td><td>null</td></tr></tbody></table></div>"
      ]
     },
     "metadata": {
      "application/vnd.databricks.v1+output": {
       "addedWidgets": {},
       "aggData": [],
       "aggError": "",
       "aggOverflow": false,
       "aggSchema": [],
       "aggSeriesLimitReached": false,
       "aggType": "",
       "arguments": {},
       "columnCustomDisplayInfos": {},
       "data": [
        [
         "2025-05-25 03:00:00",
         12,
         null,
         20.0,
         22.0,
         10.0,
         "N",
         12.0,
         3,
         70,
         0.0,
         1014.0,
         "Clear",
         null,
         null,
         null,
         null,
         null
        ],
        [
         "2025-05-25 03:00:00",
         12,
         null,
         20.0,
         21.0,
         10.0,
         "N",
         16.0,
         74,
         67,
         0.0,
         1014.0,
         "Cloudy",
         null,
         null,
         null,
         null,
         null
        ],
        [
         "2025-05-25 06:00:00",
         12,
         null,
         20.0,
         22.0,
         13.0,
         "NNE",
         15.0,
         2,
         71,
         0.0,
         1015.0,
         "Sunny",
         null,
         null,
         null,
         null,
         null
        ],
        [
         "2025-05-25 00:00:00",
         12,
         null,
         21.0,
         21.0,
         10.0,
         "N",
         16.0,
         46,
         67,
         0.0,
         1014.0,
         "Partly cloudy",
         null,
         null,
         null,
         null,
         null
        ],
        [
         "2025-05-25 06:00:00",
         12,
         null,
         21.0,
         21.0,
         10.0,
         "N",
         13.0,
         37,
         67,
         0.0,
         1015.0,
         "Partly cloudy",
         null,
         null,
         null,
         null,
         null
        ],
        [
         "2025-05-25 06:00:00",
         1,
         null,
         21.0,
         22.0,
         9.0,
         "N",
         11.0,
         8,
         72,
         0.0,
         1013.0,
         "Sunny",
         null,
         null,
         null,
         null,
         null
        ],
        [
         "2025-05-25 03:00:00",
         2,
         null,
         21.0,
         22.0,
         11.0,
         "NE",
         15.0,
         7,
         65,
         0.0,
         1016.0,
         "Clear",
         null,
         null,
         null,
         null,
         null
        ],
        [
         "2025-05-25 06:00:00",
         2,
         null,
         21.0,
         23.0,
         8.0,
         "NE",
         10.0,
         10,
         70,
         0.0,
         1018.0,
         "Sunny",
         null,
         null,
         null,
         null,
         null
        ],
        [
         "2025-05-25 00:00:00",
         12,
         null,
         21.0,
         23.0,
         10.0,
         "NNE",
         12.0,
         0,
         67,
         0.0,
         1014.0,
         "Clear",
         null,
         null,
         null,
         null,
         null
        ],
        [
         "2025-05-25 03:00:00",
         1,
         null,
         21.0,
         22.0,
         9.0,
         "NNE",
         15.0,
         22,
         74,
         0.0,
         1014.0,
         "Clear",
         null,
         null,
         null,
         null,
         null
        ]
       ],
       "datasetInfos": [],
       "dbfsResultPath": null,
       "isJsonSchema": true,
       "metadata": {},
       "overflow": false,
       "plotOptions": {
        "customPlotOptions": {},
        "displayType": "table",
        "pivotAggregation": null,
        "pivotColumns": null,
        "xColumns": null,
        "yColumns": null
       },
       "removedWidgets": [],
       "schema": [
        {
         "metadata": "{}",
         "name": "time",
         "type": "\"string\""
        },
        {
         "metadata": "{}",
         "name": "month",
         "type": "\"integer\""
        },
        {
         "metadata": "{}",
         "name": "year",
         "type": "\"integer\""
        },
        {
         "metadata": "{}",
         "name": "temperature",
         "type": "\"double\""
        },
        {
         "metadata": "{}",
         "name": "feelslike",
         "type": "\"double\""
        },
        {
         "metadata": "{}",
         "name": "wind",
         "type": "\"double\""
        },
        {
         "metadata": "{}",
         "name": "direction",
         "type": "\"string\""
        },
        {
         "metadata": "{}",
         "name": "gust",
         "type": "\"double\""
        },
        {
         "metadata": "{}",
         "name": "cloud",
         "type": "\"integer\""
        },
        {
         "metadata": "{}",
         "name": "humidity",
         "type": "\"integer\""
        },
        {
         "metadata": "{}",
         "name": "precipitation",
         "type": "\"double\""
        },
        {
         "metadata": "{}",
         "name": "pressure",
         "type": "\"double\""
        },
        {
         "metadata": "{}",
         "name": "weather",
         "type": "\"string\""
        },
        {
         "metadata": "{}",
         "name": "label",
         "type": "\"string\""
        },
        {
         "metadata": "{}",
         "name": "event_timestamp",
         "type": "\"timestamp\""
        },
        {
         "metadata": "{}",
         "name": "year_partition",
         "type": "\"integer\""
        },
        {
         "metadata": "{}",
         "name": "month_partition",
         "type": "\"integer\""
        },
        {
         "metadata": "{}",
         "name": "day_partition",
         "type": "\"integer\""
        }
       ],
       "type": "table"
      }
     },
     "output_type": "display_data"
    }
   ],
   "source": [
    "print(f\"Đọc dữ liệu từ Bronze API Table (DBFS): {BRONZE_API_DBFS_PATH}\")\n",
    "df_api_raw_dbfs = spark.read.format(\"delta\").load(BRONZE_API_DBFS_PATH)\n",
    "\n",
    "print(f\"Đọc dữ liệu từ Bronze CSV Table (DBFS, schema được suy luận): {BRONZE_CSV_DBFS_PATH}\")\n",
    "df_csv_raw_dbfs = spark.read.format(\"delta\").load(BRONZE_CSV_DBFS_PATH)\n",
    "\n",
    "print(\"\\nSchema gốc của df_api_raw_dbfs (từ Kafka producer):\")\n",
    "df_api_raw_dbfs.printSchema()\n",
    "print(\"Schema gốc của df_csv_raw_dbfs (từ CSV, suy luận):\")\n",
    "df_csv_raw_dbfs.printSchema()\n",
    "\n",
    "# --- Thống nhất Schema ---\n",
    "# Sử dụng weather_data_schema_from_producer từ Cell 1 làm schema mục tiêu cho Silver.\n",
    "target_silver_schema = weather_data_schema_from_producer\n",
    "target_silver_columns = [field.name for field in target_silver_schema.fields]\n",
    "\n",
    "# Hàm trợ giúp để căn chỉnh DataFrame theo schema mục tiêu (tương tự VMWare script)\n",
    "def align_df_to_schema_dbfs(df, schema_target, df_name=\"DataFrame\"):\n",
    "    df_aligned = df\n",
    "    existing_cols_lower = {c.lower(): c for c in df_aligned.columns}\n",
    "    select_expressions = []\n",
    "\n",
    "    for field in schema_target.fields:\n",
    "        target_col_name = field.name\n",
    "        target_col_type = field.dataType\n",
    "        source_col_name_found = None\n",
    "        if target_col_name.lower() in existing_cols_lower:\n",
    "            source_col_name_found = existing_cols_lower[target_col_name.lower()]\n",
    "\n",
    "        if source_col_name_found:\n",
    "            current_col_type = df_aligned.schema[source_col_name_found].dataType\n",
    "            if current_col_type == target_col_type:\n",
    "                select_expressions.append(col(source_col_name_found).alias(target_col_name))\n",
    "            else:\n",
    "                print(f\"Thông báo ({df_name}): Ép kiểu cột '{source_col_name_found}' từ {current_col_type} sang {target_col_type} (đổi tên thành '{target_col_name}').\")\n",
    "                try:\n",
    "                    select_expressions.append(col(source_col_name_found).cast(target_col_type).alias(target_col_name))\n",
    "                except Exception as cast_error:\n",
    "                    print(f\"CẢNH BÁO ({df_name}): Không thể ép kiểu cột '{source_col_name_found}' sang {target_col_type}. Đặt thành NULL. Lỗi: {cast_error}\")\n",
    "                    select_expressions.append(lit(None).cast(target_col_type).alias(target_col_name))\n",
    "        else:\n",
    "            print(f\"Thông báo ({df_name}): Cột '{target_col_name}' không tìm thấy. Thêm cột này với giá trị NULL.\")\n",
    "            select_expressions.append(lit(None).cast(target_col_type).alias(target_col_name))\n",
    "    return df_aligned.select(select_expressions)\n",
    "\n",
    "# Căn chỉnh df_api_raw_dbfs\n",
    "print(f\"\\n--- Căn chỉnh df_api_raw_dbfs ---\")\n",
    "df_api_aligned_dbfs = align_df_to_schema_dbfs(df_api_raw_dbfs, target_silver_schema, \"df_api_raw_dbfs\")\n",
    "\n",
    "# Căn chỉnh df_csv_raw_dbfs\n",
    "print(f\"\\n--- Căn chỉnh df_csv_raw_dbfs ---\")\n",
    "df_csv_aligned_dbfs = align_df_to_schema_dbfs(df_csv_raw_dbfs, target_silver_schema, \"df_csv_raw_dbfs\")\n",
    "\n",
    "print(\"\\nSchema của df_api_aligned_dbfs (sau khi chuẩn hóa):\")\n",
    "df_api_aligned_dbfs.printSchema()\n",
    "print(\"Schema của df_csv_aligned_dbfs (sau khi chuẩn hóa):\")\n",
    "df_csv_aligned_dbfs.printSchema()\n",
    "\n",
    "# Gộp dữ liệu\n",
    "df_merged_bronze_dbfs = df_api_aligned_dbfs.unionByName(df_csv_aligned_dbfs, allowMissingColumns=False)\n",
    "\n",
    "# Tạo event_timestamp và các cột partition\n",
    "df_silver_transformed_dbfs = df_merged_bronze_dbfs \\\n",
    "    .withColumn(\"date_str_for_timestamp\",\n",
    "                concat_ws(\"-\",\n",
    "                          col(\"year\").cast(\"string\"),\n",
    "                          lpad(col(\"month\").cast(\"string\"), 2, \"0\"),\n",
    "                          lit(\"01\"))) \\\n",
    "    .withColumn(\"datetime_str_for_timestamp\", concat_ws(\" \", col(\"date_str_for_timestamp\"), col(\"time\"))) \\\n",
    "    .withColumn(\"event_timestamp\", to_timestamp(col(\"datetime_str_for_timestamp\"), \"yyyy-MM-dd HH:mm\")) \\\n",
    "    .withColumn(\"year_partition\", spark_year(col(\"event_timestamp\"))) \\\n",
    "    .withColumn(\"month_partition\", spark_month(col(\"event_timestamp\"))) \\\n",
    "    .withColumn(\"day_partition\", dayofmonth(col(\"event_timestamp\"))) \\\n",
    "    .drop(\"date_str_for_timestamp\", \"datetime_str_for_timestamp\") \\\n",
    "    .dropDuplicates([\"year\", \"month\", \"time\", \"weather\", \"temperature\", \"direction\"])\n",
    "\n",
    "print(\"\\nSchema của Silver DataFrame cuối cùng (DBFS):\")\n",
    "df_silver_transformed_dbfs.printSchema()\n",
    "\n",
    "df_silver_transformed_dbfs.write.format(\"delta\") \\\n",
    "    .mode(\"overwrite\") \\\n",
    "    .option(\"overwriteSchema\", \"true\") \\\n",
    "    .partitionBy(\"year_partition\", \"month_partition\", \"day_partition\") \\\n",
    "    .save(SILVER_MERGED_DBFS_PATH)\n",
    "\n",
    "print(f\"\\nGhi dữ liệu vào Silver (DBFS) thành công: {SILVER_MERGED_DBFS_PATH}\")\n",
    "display(spark.read.format(\"delta\").load(SILVER_MERGED_DBFS_PATH).limit(10))"
   ]
  }
 ],
 "metadata": {
  "application/vnd.databricks.v1+notebook": {
   "computePreferences": null,
   "dashboards": [],
   "environmentMetadata": {
    "base_environment": "",
    "environment_version": "1"
   },
   "inputWidgetPreferences": null,
   "language": "python",
   "notebookMetadata": {
    "pythonIndentUnit": 4
   },
   "notebookName": "Bronze_Silver_Gold_Pipeline",
   "widgets": {}
  }
 },
 "nbformat": 4,
 "nbformat_minor": 0
}